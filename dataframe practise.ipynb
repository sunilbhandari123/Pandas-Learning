{
 "cells": [
  {
   "cell_type": "code",
   "execution_count": 44,
   "id": "425110ee",
   "metadata": {},
   "outputs": [],
   "source": [
    "family={\n",
    "    \"first\":[\"laxmi\",\"mahesh\",\"sheshnath\",\"sunil\"],\n",
    "    \"last\":[\"bhandari\",\"bhandari\",\"bhandari\",\"bhandar\"],\n",
    "    \"email\":[\"lx@gmail.com\",\"ma@gmail.com\",\"sh@gmail.com\",\"su@gmail.com\"]\n",
    "}"
   ]
  },
  {
   "cell_type": "code",
   "execution_count": 45,
   "id": "14f119cf",
   "metadata": {},
   "outputs": [],
   "source": [
    "import pandas as pd "
   ]
  },
  {
   "cell_type": "code",
   "execution_count": 46,
   "id": "de5abac6",
   "metadata": {},
   "outputs": [],
   "source": [
    "df=pd.DataFrame(family)"
   ]
  },
  {
   "cell_type": "code",
   "execution_count": 47,
   "id": "bcb5b3b4",
   "metadata": {},
   "outputs": [
    {
     "data": {
      "text/html": [
       "<div>\n",
       "<style scoped>\n",
       "    .dataframe tbody tr th:only-of-type {\n",
       "        vertical-align: middle;\n",
       "    }\n",
       "\n",
       "    .dataframe tbody tr th {\n",
       "        vertical-align: top;\n",
       "    }\n",
       "\n",
       "    .dataframe thead th {\n",
       "        text-align: right;\n",
       "    }\n",
       "</style>\n",
       "<table border=\"1\" class=\"dataframe\">\n",
       "  <thead>\n",
       "    <tr style=\"text-align: right;\">\n",
       "      <th></th>\n",
       "      <th>first</th>\n",
       "      <th>last</th>\n",
       "      <th>email</th>\n",
       "    </tr>\n",
       "  </thead>\n",
       "  <tbody>\n",
       "    <tr>\n",
       "      <th>0</th>\n",
       "      <td>laxmi</td>\n",
       "      <td>bhandari</td>\n",
       "      <td>lx@gmail.com</td>\n",
       "    </tr>\n",
       "    <tr>\n",
       "      <th>1</th>\n",
       "      <td>mahesh</td>\n",
       "      <td>bhandari</td>\n",
       "      <td>ma@gmail.com</td>\n",
       "    </tr>\n",
       "    <tr>\n",
       "      <th>2</th>\n",
       "      <td>sheshnath</td>\n",
       "      <td>bhandari</td>\n",
       "      <td>sh@gmail.com</td>\n",
       "    </tr>\n",
       "    <tr>\n",
       "      <th>3</th>\n",
       "      <td>sunil</td>\n",
       "      <td>bhandar</td>\n",
       "      <td>su@gmail.com</td>\n",
       "    </tr>\n",
       "  </tbody>\n",
       "</table>\n",
       "</div>"
      ],
      "text/plain": [
       "       first      last         email\n",
       "0      laxmi  bhandari  lx@gmail.com\n",
       "1     mahesh  bhandari  ma@gmail.com\n",
       "2  sheshnath  bhandari  sh@gmail.com\n",
       "3      sunil   bhandar  su@gmail.com"
      ]
     },
     "execution_count": 47,
     "metadata": {},
     "output_type": "execute_result"
    }
   ],
   "source": [
    "df"
   ]
  },
  {
   "cell_type": "code",
   "execution_count": 48,
   "id": "1a0e0f3d",
   "metadata": {},
   "outputs": [
    {
     "data": {
      "text/plain": [
       "type[0    lx@gmail.com\n",
       "1    ma@gmail.com\n",
       "2    sh@gmail.com\n",
       "3    su@gmail.com\n",
       "Name: email, dtype: object]"
      ]
     },
     "execution_count": 48,
     "metadata": {},
     "output_type": "execute_result"
    }
   ],
   "source": [
    "type[df[\"email\"]]"
   ]
  },
  {
   "cell_type": "code",
   "execution_count": 49,
   "id": "f0adb69e",
   "metadata": {},
   "outputs": [
    {
     "data": {
      "text/plain": [
       "0    lx@gmail.com\n",
       "1    ma@gmail.com\n",
       "2    sh@gmail.com\n",
       "3    su@gmail.com\n",
       "Name: email, dtype: object"
      ]
     },
     "execution_count": 49,
     "metadata": {},
     "output_type": "execute_result"
    }
   ],
   "source": [
    "df.email"
   ]
  },
  {
   "cell_type": "code",
   "execution_count": 50,
   "id": "178ad71c",
   "metadata": {},
   "outputs": [
    {
     "data": {
      "text/plain": [
       "0    lx@gmail.com\n",
       "1    ma@gmail.com\n",
       "2    sh@gmail.com\n",
       "3    su@gmail.com\n",
       "Name: email, dtype: object"
      ]
     },
     "execution_count": 50,
     "metadata": {},
     "output_type": "execute_result"
    }
   ],
   "source": [
    "df['email']"
   ]
  },
  {
   "cell_type": "code",
   "execution_count": 51,
   "id": "13d3993e",
   "metadata": {},
   "outputs": [
    {
     "data": {
      "text/html": [
       "<div>\n",
       "<style scoped>\n",
       "    .dataframe tbody tr th:only-of-type {\n",
       "        vertical-align: middle;\n",
       "    }\n",
       "\n",
       "    .dataframe tbody tr th {\n",
       "        vertical-align: top;\n",
       "    }\n",
       "\n",
       "    .dataframe thead th {\n",
       "        text-align: right;\n",
       "    }\n",
       "</style>\n",
       "<table border=\"1\" class=\"dataframe\">\n",
       "  <thead>\n",
       "    <tr style=\"text-align: right;\">\n",
       "      <th></th>\n",
       "      <th>first</th>\n",
       "      <th>last</th>\n",
       "      <th>email</th>\n",
       "    </tr>\n",
       "  </thead>\n",
       "  <tbody>\n",
       "    <tr>\n",
       "      <th>0</th>\n",
       "      <td>laxmi</td>\n",
       "      <td>bhandari</td>\n",
       "      <td>lx@gmail.com</td>\n",
       "    </tr>\n",
       "    <tr>\n",
       "      <th>1</th>\n",
       "      <td>mahesh</td>\n",
       "      <td>bhandari</td>\n",
       "      <td>ma@gmail.com</td>\n",
       "    </tr>\n",
       "    <tr>\n",
       "      <th>2</th>\n",
       "      <td>sheshnath</td>\n",
       "      <td>bhandari</td>\n",
       "      <td>sh@gmail.com</td>\n",
       "    </tr>\n",
       "    <tr>\n",
       "      <th>3</th>\n",
       "      <td>sunil</td>\n",
       "      <td>bhandar</td>\n",
       "      <td>su@gmail.com</td>\n",
       "    </tr>\n",
       "  </tbody>\n",
       "</table>\n",
       "</div>"
      ],
      "text/plain": [
       "       first      last         email\n",
       "0      laxmi  bhandari  lx@gmail.com\n",
       "1     mahesh  bhandari  ma@gmail.com\n",
       "2  sheshnath  bhandari  sh@gmail.com\n",
       "3      sunil   bhandar  su@gmail.com"
      ]
     },
     "execution_count": 51,
     "metadata": {},
     "output_type": "execute_result"
    }
   ],
   "source": [
    "df[['first','last',\"email\"]]"
   ]
  },
  {
   "cell_type": "code",
   "execution_count": 52,
   "id": "3a453421",
   "metadata": {},
   "outputs": [
    {
     "data": {
      "text/plain": [
       "Index(['first', 'last', 'email'], dtype='object')"
      ]
     },
     "execution_count": 52,
     "metadata": {},
     "output_type": "execute_result"
    }
   ],
   "source": [
    "df.columns"
   ]
  },
  {
   "cell_type": "code",
   "execution_count": 53,
   "id": "bf98a5e6",
   "metadata": {},
   "outputs": [
    {
     "data": {
      "text/plain": [
       "first           laxmi\n",
       "last         bhandari\n",
       "email    lx@gmail.com\n",
       "Name: 0, dtype: object"
      ]
     },
     "execution_count": 53,
     "metadata": {},
     "output_type": "execute_result"
    }
   ],
   "source": [
    "df.iloc[0]"
   ]
  },
  {
   "cell_type": "code",
   "execution_count": 54,
   "id": "22c84f7d",
   "metadata": {},
   "outputs": [
    {
     "data": {
      "text/plain": [
       "0     laxmi\n",
       "1    mahesh\n",
       "Name: first, dtype: object"
      ]
     },
     "execution_count": 54,
     "metadata": {},
     "output_type": "execute_result"
    }
   ],
   "source": [
    "df.iloc[[0,1],0]"
   ]
  },
  {
   "cell_type": "code",
   "execution_count": 55,
   "id": "54821bac",
   "metadata": {},
   "outputs": [
    {
     "data": {
      "text/plain": [
       "0     laxmi\n",
       "1    mahesh\n",
       "Name: first, dtype: object"
      ]
     },
     "execution_count": 55,
     "metadata": {},
     "output_type": "execute_result"
    }
   ],
   "source": [
    "df.loc[[0,1],\"first\"]"
   ]
  },
  {
   "cell_type": "code",
   "execution_count": 56,
   "id": "4d2496b0",
   "metadata": {},
   "outputs": [
    {
     "data": {
      "text/html": [
       "<div>\n",
       "<style scoped>\n",
       "    .dataframe tbody tr th:only-of-type {\n",
       "        vertical-align: middle;\n",
       "    }\n",
       "\n",
       "    .dataframe tbody tr th {\n",
       "        vertical-align: top;\n",
       "    }\n",
       "\n",
       "    .dataframe thead th {\n",
       "        text-align: right;\n",
       "    }\n",
       "</style>\n",
       "<table border=\"1\" class=\"dataframe\">\n",
       "  <thead>\n",
       "    <tr style=\"text-align: right;\">\n",
       "      <th></th>\n",
       "      <th>first</th>\n",
       "      <th>last</th>\n",
       "    </tr>\n",
       "    <tr>\n",
       "      <th>email</th>\n",
       "      <th></th>\n",
       "      <th></th>\n",
       "    </tr>\n",
       "  </thead>\n",
       "  <tbody>\n",
       "    <tr>\n",
       "      <th>lx@gmail.com</th>\n",
       "      <td>laxmi</td>\n",
       "      <td>bhandari</td>\n",
       "    </tr>\n",
       "    <tr>\n",
       "      <th>ma@gmail.com</th>\n",
       "      <td>mahesh</td>\n",
       "      <td>bhandari</td>\n",
       "    </tr>\n",
       "    <tr>\n",
       "      <th>sh@gmail.com</th>\n",
       "      <td>sheshnath</td>\n",
       "      <td>bhandari</td>\n",
       "    </tr>\n",
       "    <tr>\n",
       "      <th>su@gmail.com</th>\n",
       "      <td>sunil</td>\n",
       "      <td>bhandar</td>\n",
       "    </tr>\n",
       "  </tbody>\n",
       "</table>\n",
       "</div>"
      ],
      "text/plain": [
       "                  first      last\n",
       "email                            \n",
       "lx@gmail.com      laxmi  bhandari\n",
       "ma@gmail.com     mahesh  bhandari\n",
       "sh@gmail.com  sheshnath  bhandari\n",
       "su@gmail.com      sunil   bhandar"
      ]
     },
     "execution_count": 56,
     "metadata": {},
     "output_type": "execute_result"
    }
   ],
   "source": [
    "df.set_index('email')"
   ]
  },
  {
   "cell_type": "code",
   "execution_count": 57,
   "id": "110f38a1",
   "metadata": {},
   "outputs": [
    {
     "data": {
      "text/html": [
       "<div>\n",
       "<style scoped>\n",
       "    .dataframe tbody tr th:only-of-type {\n",
       "        vertical-align: middle;\n",
       "    }\n",
       "\n",
       "    .dataframe tbody tr th {\n",
       "        vertical-align: top;\n",
       "    }\n",
       "\n",
       "    .dataframe thead th {\n",
       "        text-align: right;\n",
       "    }\n",
       "</style>\n",
       "<table border=\"1\" class=\"dataframe\">\n",
       "  <thead>\n",
       "    <tr style=\"text-align: right;\">\n",
       "      <th></th>\n",
       "      <th>first</th>\n",
       "      <th>last</th>\n",
       "      <th>email</th>\n",
       "    </tr>\n",
       "  </thead>\n",
       "  <tbody>\n",
       "    <tr>\n",
       "      <th>0</th>\n",
       "      <td>laxmi</td>\n",
       "      <td>bhandari</td>\n",
       "      <td>lx@gmail.com</td>\n",
       "    </tr>\n",
       "    <tr>\n",
       "      <th>1</th>\n",
       "      <td>mahesh</td>\n",
       "      <td>bhandari</td>\n",
       "      <td>ma@gmail.com</td>\n",
       "    </tr>\n",
       "    <tr>\n",
       "      <th>2</th>\n",
       "      <td>sheshnath</td>\n",
       "      <td>bhandari</td>\n",
       "      <td>sh@gmail.com</td>\n",
       "    </tr>\n",
       "    <tr>\n",
       "      <th>3</th>\n",
       "      <td>sunil</td>\n",
       "      <td>bhandar</td>\n",
       "      <td>su@gmail.com</td>\n",
       "    </tr>\n",
       "  </tbody>\n",
       "</table>\n",
       "</div>"
      ],
      "text/plain": [
       "       first      last         email\n",
       "0      laxmi  bhandari  lx@gmail.com\n",
       "1     mahesh  bhandari  ma@gmail.com\n",
       "2  sheshnath  bhandari  sh@gmail.com\n",
       "3      sunil   bhandar  su@gmail.com"
      ]
     },
     "execution_count": 57,
     "metadata": {},
     "output_type": "execute_result"
    }
   ],
   "source": [
    "df"
   ]
  },
  {
   "cell_type": "code",
   "execution_count": 58,
   "id": "0b092604",
   "metadata": {},
   "outputs": [],
   "source": [
    "df.set_index('email',inplace=True)"
   ]
  },
  {
   "cell_type": "code",
   "execution_count": 59,
   "id": "74290ca8",
   "metadata": {},
   "outputs": [
    {
     "data": {
      "text/html": [
       "<div>\n",
       "<style scoped>\n",
       "    .dataframe tbody tr th:only-of-type {\n",
       "        vertical-align: middle;\n",
       "    }\n",
       "\n",
       "    .dataframe tbody tr th {\n",
       "        vertical-align: top;\n",
       "    }\n",
       "\n",
       "    .dataframe thead th {\n",
       "        text-align: right;\n",
       "    }\n",
       "</style>\n",
       "<table border=\"1\" class=\"dataframe\">\n",
       "  <thead>\n",
       "    <tr style=\"text-align: right;\">\n",
       "      <th></th>\n",
       "      <th>first</th>\n",
       "      <th>last</th>\n",
       "    </tr>\n",
       "    <tr>\n",
       "      <th>email</th>\n",
       "      <th></th>\n",
       "      <th></th>\n",
       "    </tr>\n",
       "  </thead>\n",
       "  <tbody>\n",
       "    <tr>\n",
       "      <th>lx@gmail.com</th>\n",
       "      <td>laxmi</td>\n",
       "      <td>bhandari</td>\n",
       "    </tr>\n",
       "    <tr>\n",
       "      <th>ma@gmail.com</th>\n",
       "      <td>mahesh</td>\n",
       "      <td>bhandari</td>\n",
       "    </tr>\n",
       "    <tr>\n",
       "      <th>sh@gmail.com</th>\n",
       "      <td>sheshnath</td>\n",
       "      <td>bhandari</td>\n",
       "    </tr>\n",
       "    <tr>\n",
       "      <th>su@gmail.com</th>\n",
       "      <td>sunil</td>\n",
       "      <td>bhandar</td>\n",
       "    </tr>\n",
       "  </tbody>\n",
       "</table>\n",
       "</div>"
      ],
      "text/plain": [
       "                  first      last\n",
       "email                            \n",
       "lx@gmail.com      laxmi  bhandari\n",
       "ma@gmail.com     mahesh  bhandari\n",
       "sh@gmail.com  sheshnath  bhandari\n",
       "su@gmail.com      sunil   bhandar"
      ]
     },
     "execution_count": 59,
     "metadata": {},
     "output_type": "execute_result"
    }
   ],
   "source": [
    "df"
   ]
  },
  {
   "cell_type": "code",
   "execution_count": 60,
   "id": "33de3fc2",
   "metadata": {},
   "outputs": [
    {
     "data": {
      "text/plain": [
       "'bhandar'"
      ]
     },
     "execution_count": 60,
     "metadata": {},
     "output_type": "execute_result"
    }
   ],
   "source": [
    "df.loc['su@gmail.com','last']"
   ]
  },
  {
   "cell_type": "code",
   "execution_count": 61,
   "id": "1e27499e",
   "metadata": {},
   "outputs": [
    {
     "data": {
      "text/plain": [
       "first       laxmi\n",
       "last     bhandari\n",
       "Name: lx@gmail.com, dtype: object"
      ]
     },
     "execution_count": 61,
     "metadata": {},
     "output_type": "execute_result"
    }
   ],
   "source": [
    "df.loc['lx@gmail.com']"
   ]
  },
  {
   "cell_type": "code",
   "execution_count": 62,
   "id": "b7d30539",
   "metadata": {},
   "outputs": [
    {
     "data": {
      "text/plain": [
       "first       laxmi\n",
       "last     bhandari\n",
       "Name: lx@gmail.com, dtype: object"
      ]
     },
     "execution_count": 62,
     "metadata": {},
     "output_type": "execute_result"
    }
   ],
   "source": [
    "df.iloc[0]"
   ]
  },
  {
   "cell_type": "code",
   "execution_count": 63,
   "id": "342e3041",
   "metadata": {},
   "outputs": [],
   "source": [
    "df.reset_index(inplace=True)"
   ]
  },
  {
   "cell_type": "code",
   "execution_count": 64,
   "id": "38b16566",
   "metadata": {},
   "outputs": [
    {
     "data": {
      "text/html": [
       "<div>\n",
       "<style scoped>\n",
       "    .dataframe tbody tr th:only-of-type {\n",
       "        vertical-align: middle;\n",
       "    }\n",
       "\n",
       "    .dataframe tbody tr th {\n",
       "        vertical-align: top;\n",
       "    }\n",
       "\n",
       "    .dataframe thead th {\n",
       "        text-align: right;\n",
       "    }\n",
       "</style>\n",
       "<table border=\"1\" class=\"dataframe\">\n",
       "  <thead>\n",
       "    <tr style=\"text-align: right;\">\n",
       "      <th></th>\n",
       "      <th>email</th>\n",
       "      <th>first</th>\n",
       "      <th>last</th>\n",
       "    </tr>\n",
       "  </thead>\n",
       "  <tbody>\n",
       "    <tr>\n",
       "      <th>0</th>\n",
       "      <td>lx@gmail.com</td>\n",
       "      <td>laxmi</td>\n",
       "      <td>bhandari</td>\n",
       "    </tr>\n",
       "    <tr>\n",
       "      <th>1</th>\n",
       "      <td>ma@gmail.com</td>\n",
       "      <td>mahesh</td>\n",
       "      <td>bhandari</td>\n",
       "    </tr>\n",
       "    <tr>\n",
       "      <th>2</th>\n",
       "      <td>sh@gmail.com</td>\n",
       "      <td>sheshnath</td>\n",
       "      <td>bhandari</td>\n",
       "    </tr>\n",
       "    <tr>\n",
       "      <th>3</th>\n",
       "      <td>su@gmail.com</td>\n",
       "      <td>sunil</td>\n",
       "      <td>bhandar</td>\n",
       "    </tr>\n",
       "  </tbody>\n",
       "</table>\n",
       "</div>"
      ],
      "text/plain": [
       "          email      first      last\n",
       "0  lx@gmail.com      laxmi  bhandari\n",
       "1  ma@gmail.com     mahesh  bhandari\n",
       "2  sh@gmail.com  sheshnath  bhandari\n",
       "3  su@gmail.com      sunil   bhandar"
      ]
     },
     "execution_count": 64,
     "metadata": {},
     "output_type": "execute_result"
    }
   ],
   "source": [
    "df\n"
   ]
  },
  {
   "cell_type": "code",
   "execution_count": 65,
   "id": "01949233",
   "metadata": {},
   "outputs": [],
   "source": [
    "\n",
    "#now using flitering the data to use what we want."
   ]
  },
  {
   "cell_type": "code",
   "execution_count": 66,
   "id": "062e6f73",
   "metadata": {},
   "outputs": [
    {
     "data": {
      "text/plain": [
       "0     True\n",
       "1     True\n",
       "2     True\n",
       "3    False\n",
       "Name: last, dtype: bool"
      ]
     },
     "execution_count": 66,
     "metadata": {},
     "output_type": "execute_result"
    }
   ],
   "source": [
    "df['last']=='bhandari'"
   ]
  },
  {
   "cell_type": "code",
   "execution_count": 67,
   "id": "ca27bc14",
   "metadata": {},
   "outputs": [],
   "source": [
    "#here it returns only the boolen value so it is difficult for us to see,know so we use filter."
   ]
  },
  {
   "cell_type": "code",
   "execution_count": 68,
   "id": "156dec56",
   "metadata": {},
   "outputs": [],
   "source": [
    "filt=(df['last']=='bhandari')"
   ]
  },
  {
   "cell_type": "code",
   "execution_count": 69,
   "id": "c2b620b5",
   "metadata": {},
   "outputs": [
    {
     "data": {
      "text/html": [
       "<div>\n",
       "<style scoped>\n",
       "    .dataframe tbody tr th:only-of-type {\n",
       "        vertical-align: middle;\n",
       "    }\n",
       "\n",
       "    .dataframe tbody tr th {\n",
       "        vertical-align: top;\n",
       "    }\n",
       "\n",
       "    .dataframe thead th {\n",
       "        text-align: right;\n",
       "    }\n",
       "</style>\n",
       "<table border=\"1\" class=\"dataframe\">\n",
       "  <thead>\n",
       "    <tr style=\"text-align: right;\">\n",
       "      <th></th>\n",
       "      <th>email</th>\n",
       "      <th>first</th>\n",
       "      <th>last</th>\n",
       "    </tr>\n",
       "  </thead>\n",
       "  <tbody>\n",
       "    <tr>\n",
       "      <th>0</th>\n",
       "      <td>lx@gmail.com</td>\n",
       "      <td>laxmi</td>\n",
       "      <td>bhandari</td>\n",
       "    </tr>\n",
       "    <tr>\n",
       "      <th>1</th>\n",
       "      <td>ma@gmail.com</td>\n",
       "      <td>mahesh</td>\n",
       "      <td>bhandari</td>\n",
       "    </tr>\n",
       "    <tr>\n",
       "      <th>2</th>\n",
       "      <td>sh@gmail.com</td>\n",
       "      <td>sheshnath</td>\n",
       "      <td>bhandari</td>\n",
       "    </tr>\n",
       "  </tbody>\n",
       "</table>\n",
       "</div>"
      ],
      "text/plain": [
       "          email      first      last\n",
       "0  lx@gmail.com      laxmi  bhandari\n",
       "1  ma@gmail.com     mahesh  bhandari\n",
       "2  sh@gmail.com  sheshnath  bhandari"
      ]
     },
     "execution_count": 69,
     "metadata": {},
     "output_type": "execute_result"
    }
   ],
   "source": [
    "df[filt]"
   ]
  },
  {
   "cell_type": "code",
   "execution_count": 70,
   "id": "d79c6283",
   "metadata": {},
   "outputs": [
    {
     "data": {
      "text/html": [
       "<div>\n",
       "<style scoped>\n",
       "    .dataframe tbody tr th:only-of-type {\n",
       "        vertical-align: middle;\n",
       "    }\n",
       "\n",
       "    .dataframe tbody tr th {\n",
       "        vertical-align: top;\n",
       "    }\n",
       "\n",
       "    .dataframe thead th {\n",
       "        text-align: right;\n",
       "    }\n",
       "</style>\n",
       "<table border=\"1\" class=\"dataframe\">\n",
       "  <thead>\n",
       "    <tr style=\"text-align: right;\">\n",
       "      <th></th>\n",
       "      <th>email</th>\n",
       "      <th>first</th>\n",
       "      <th>last</th>\n",
       "    </tr>\n",
       "  </thead>\n",
       "  <tbody>\n",
       "    <tr>\n",
       "      <th>0</th>\n",
       "      <td>lx@gmail.com</td>\n",
       "      <td>laxmi</td>\n",
       "      <td>bhandari</td>\n",
       "    </tr>\n",
       "    <tr>\n",
       "      <th>1</th>\n",
       "      <td>ma@gmail.com</td>\n",
       "      <td>mahesh</td>\n",
       "      <td>bhandari</td>\n",
       "    </tr>\n",
       "    <tr>\n",
       "      <th>2</th>\n",
       "      <td>sh@gmail.com</td>\n",
       "      <td>sheshnath</td>\n",
       "      <td>bhandari</td>\n",
       "    </tr>\n",
       "  </tbody>\n",
       "</table>\n",
       "</div>"
      ],
      "text/plain": [
       "          email      first      last\n",
       "0  lx@gmail.com      laxmi  bhandari\n",
       "1  ma@gmail.com     mahesh  bhandari\n",
       "2  sh@gmail.com  sheshnath  bhandari"
      ]
     },
     "execution_count": 70,
     "metadata": {},
     "output_type": "execute_result"
    }
   ],
   "source": [
    "#or we can write it as follow\n",
    "df.loc[filt]"
   ]
  },
  {
   "cell_type": "code",
   "execution_count": 71,
   "id": "66a6903f",
   "metadata": {},
   "outputs": [
    {
     "data": {
      "text/html": [
       "<div>\n",
       "<style scoped>\n",
       "    .dataframe tbody tr th:only-of-type {\n",
       "        vertical-align: middle;\n",
       "    }\n",
       "\n",
       "    .dataframe tbody tr th {\n",
       "        vertical-align: top;\n",
       "    }\n",
       "\n",
       "    .dataframe thead th {\n",
       "        text-align: right;\n",
       "    }\n",
       "</style>\n",
       "<table border=\"1\" class=\"dataframe\">\n",
       "  <thead>\n",
       "    <tr style=\"text-align: right;\">\n",
       "      <th></th>\n",
       "      <th>email</th>\n",
       "      <th>first</th>\n",
       "      <th>last</th>\n",
       "    </tr>\n",
       "  </thead>\n",
       "  <tbody>\n",
       "    <tr>\n",
       "      <th>0</th>\n",
       "      <td>lx@gmail.com</td>\n",
       "      <td>laxmi</td>\n",
       "      <td>bhandari</td>\n",
       "    </tr>\n",
       "    <tr>\n",
       "      <th>1</th>\n",
       "      <td>ma@gmail.com</td>\n",
       "      <td>mahesh</td>\n",
       "      <td>bhandari</td>\n",
       "    </tr>\n",
       "    <tr>\n",
       "      <th>2</th>\n",
       "      <td>sh@gmail.com</td>\n",
       "      <td>sheshnath</td>\n",
       "      <td>bhandari</td>\n",
       "    </tr>\n",
       "  </tbody>\n",
       "</table>\n",
       "</div>"
      ],
      "text/plain": [
       "          email      first      last\n",
       "0  lx@gmail.com      laxmi  bhandari\n",
       "1  ma@gmail.com     mahesh  bhandari\n",
       "2  sh@gmail.com  sheshnath  bhandari"
      ]
     },
     "execution_count": 71,
     "metadata": {},
     "output_type": "execute_result"
    }
   ],
   "source": [
    "#we can run it as follow also\n",
    "df[df['last']==\"bhandari\"]"
   ]
  },
  {
   "cell_type": "code",
   "execution_count": 72,
   "id": "733d8bfa",
   "metadata": {},
   "outputs": [],
   "source": [
    "#reson of perfering loc is that we can grab specific columns that we want as well"
   ]
  },
  {
   "cell_type": "code",
   "execution_count": 73,
   "id": "f10de474",
   "metadata": {},
   "outputs": [
    {
     "data": {
      "text/plain": [
       "0    lx@gmail.com\n",
       "1    ma@gmail.com\n",
       "2    sh@gmail.com\n",
       "Name: email, dtype: object"
      ]
     },
     "execution_count": 73,
     "metadata": {},
     "output_type": "execute_result"
    }
   ],
   "source": [
    "df.loc[filt,'email']"
   ]
  },
  {
   "cell_type": "code",
   "execution_count": 74,
   "id": "85e2af41",
   "metadata": {},
   "outputs": [],
   "source": [
    "#like in other langauge we can use operators here to filter thegiven data/.\n"
   ]
  },
  {
   "cell_type": "code",
   "execution_count": 75,
   "id": "0d1401e8",
   "metadata": {},
   "outputs": [],
   "source": [
    "filt=(df['last']=='bhandari')&(df['first']=='laxmi')"
   ]
  },
  {
   "cell_type": "code",
   "execution_count": 76,
   "id": "aed0d70a",
   "metadata": {},
   "outputs": [
    {
     "data": {
      "text/plain": [
       "0    lx@gmail.com\n",
       "Name: email, dtype: object"
      ]
     },
     "execution_count": 76,
     "metadata": {},
     "output_type": "execute_result"
    }
   ],
   "source": [
    "df.loc[filt,'email']"
   ]
  },
  {
   "cell_type": "code",
   "execution_count": 77,
   "id": "5f8aed89",
   "metadata": {},
   "outputs": [],
   "source": [
    "filt=(df['last']==\"bhandari\")|(df['last']=='bhandar')"
   ]
  },
  {
   "cell_type": "code",
   "execution_count": 78,
   "id": "8d80617a",
   "metadata": {},
   "outputs": [
    {
     "data": {
      "text/plain": [
       "0    lx@gmail.com\n",
       "1    ma@gmail.com\n",
       "2    sh@gmail.com\n",
       "3    su@gmail.com\n",
       "Name: email, dtype: object"
      ]
     },
     "execution_count": 78,
     "metadata": {},
     "output_type": "execute_result"
    }
   ],
   "source": [
    "df.loc[filt,'email']"
   ]
  },
  {
   "cell_type": "code",
   "execution_count": 79,
   "id": "2ff085c0",
   "metadata": {},
   "outputs": [],
   "source": [
    "filt=(df['last']=='bhandari')&(df['first']=='laxmi')\n"
   ]
  },
  {
   "cell_type": "code",
   "execution_count": 80,
   "id": "69f83a09",
   "metadata": {},
   "outputs": [
    {
     "data": {
      "text/plain": [
       "1    ma@gmail.com\n",
       "2    sh@gmail.com\n",
       "3    su@gmail.com\n",
       "Name: email, dtype: object"
      ]
     },
     "execution_count": 80,
     "metadata": {},
     "output_type": "execute_result"
    }
   ],
   "source": [
    "df.loc[~filt,\"email\"]"
   ]
  },
  {
   "cell_type": "code",
   "execution_count": 81,
   "id": "e8affded",
   "metadata": {},
   "outputs": [
    {
     "data": {
      "text/html": [
       "<div>\n",
       "<style scoped>\n",
       "    .dataframe tbody tr th:only-of-type {\n",
       "        vertical-align: middle;\n",
       "    }\n",
       "\n",
       "    .dataframe tbody tr th {\n",
       "        vertical-align: top;\n",
       "    }\n",
       "\n",
       "    .dataframe thead th {\n",
       "        text-align: right;\n",
       "    }\n",
       "</style>\n",
       "<table border=\"1\" class=\"dataframe\">\n",
       "  <thead>\n",
       "    <tr style=\"text-align: right;\">\n",
       "      <th></th>\n",
       "      <th>email</th>\n",
       "      <th>first</th>\n",
       "      <th>last</th>\n",
       "    </tr>\n",
       "  </thead>\n",
       "  <tbody>\n",
       "    <tr>\n",
       "      <th>0</th>\n",
       "      <td>lx@gmail.com</td>\n",
       "      <td>laxmi</td>\n",
       "      <td>bhandari</td>\n",
       "    </tr>\n",
       "    <tr>\n",
       "      <th>1</th>\n",
       "      <td>ma@gmail.com</td>\n",
       "      <td>mahesh</td>\n",
       "      <td>bhandari</td>\n",
       "    </tr>\n",
       "    <tr>\n",
       "      <th>2</th>\n",
       "      <td>sh@gmail.com</td>\n",
       "      <td>sheshnath</td>\n",
       "      <td>bhandari</td>\n",
       "    </tr>\n",
       "    <tr>\n",
       "      <th>3</th>\n",
       "      <td>su@gmail.com</td>\n",
       "      <td>sunil</td>\n",
       "      <td>bhandar</td>\n",
       "    </tr>\n",
       "  </tbody>\n",
       "</table>\n",
       "</div>"
      ],
      "text/plain": [
       "          email      first      last\n",
       "0  lx@gmail.com      laxmi  bhandari\n",
       "1  ma@gmail.com     mahesh  bhandari\n",
       "2  sh@gmail.com  sheshnath  bhandari\n",
       "3  su@gmail.com      sunil   bhandar"
      ]
     },
     "execution_count": 81,
     "metadata": {},
     "output_type": "execute_result"
    }
   ],
   "source": [
    "df"
   ]
  },
  {
   "cell_type": "code",
   "execution_count": 82,
   "id": "40715576",
   "metadata": {},
   "outputs": [],
   "source": [
    "#updating the rows and columns\n",
    "#modifying data with in the dataframe"
   ]
  },
  {
   "cell_type": "code",
   "execution_count": 105,
   "id": "53a552a7",
   "metadata": {},
   "outputs": [],
   "source": [
    "#updating column first\n",
    "#multiple rows"
   ]
  },
  {
   "cell_type": "code",
   "execution_count": 106,
   "id": "f68725c0",
   "metadata": {},
   "outputs": [],
   "source": [
    "df.columns=['email','first_name','last_name']\n",
    "#it will change the name of the columns\n"
   ]
  },
  {
   "cell_type": "code",
   "execution_count": 107,
   "id": "da0fa94c",
   "metadata": {},
   "outputs": [
    {
     "data": {
      "text/html": [
       "<div>\n",
       "<style scoped>\n",
       "    .dataframe tbody tr th:only-of-type {\n",
       "        vertical-align: middle;\n",
       "    }\n",
       "\n",
       "    .dataframe tbody tr th {\n",
       "        vertical-align: top;\n",
       "    }\n",
       "\n",
       "    .dataframe thead th {\n",
       "        text-align: right;\n",
       "    }\n",
       "</style>\n",
       "<table border=\"1\" class=\"dataframe\">\n",
       "  <thead>\n",
       "    <tr style=\"text-align: right;\">\n",
       "      <th></th>\n",
       "      <th>email</th>\n",
       "      <th>first_name</th>\n",
       "      <th>last_name</th>\n",
       "    </tr>\n",
       "  </thead>\n",
       "  <tbody>\n",
       "    <tr>\n",
       "      <th>0</th>\n",
       "      <td>lx@gmail.com</td>\n",
       "      <td>laxmi</td>\n",
       "      <td>bhandari</td>\n",
       "    </tr>\n",
       "    <tr>\n",
       "      <th>1</th>\n",
       "      <td>ma@gmail.com</td>\n",
       "      <td>mahesh</td>\n",
       "      <td>bhandari</td>\n",
       "    </tr>\n",
       "    <tr>\n",
       "      <th>2</th>\n",
       "      <td>sh@gmail.com</td>\n",
       "      <td>sheshnath</td>\n",
       "      <td>bhandari</td>\n",
       "    </tr>\n",
       "    <tr>\n",
       "      <th>3</th>\n",
       "      <td>su@gmail.com</td>\n",
       "      <td>sunil</td>\n",
       "      <td>bhandar</td>\n",
       "    </tr>\n",
       "  </tbody>\n",
       "</table>\n",
       "</div>"
      ],
      "text/plain": [
       "          email first_name last_name\n",
       "0  lx@gmail.com      laxmi  bhandari\n",
       "1  ma@gmail.com     mahesh  bhandari\n",
       "2  sh@gmail.com  sheshnath  bhandari\n",
       "3  su@gmail.com      sunil   bhandar"
      ]
     },
     "execution_count": 107,
     "metadata": {},
     "output_type": "execute_result"
    }
   ],
   "source": [
    "df"
   ]
  },
  {
   "cell_type": "code",
   "execution_count": 108,
   "id": "1b628a25",
   "metadata": {},
   "outputs": [],
   "source": [
    "#using list comprensive"
   ]
  },
  {
   "cell_type": "code",
   "execution_count": 109,
   "id": "23edb0a7",
   "metadata": {},
   "outputs": [],
   "source": [
    "df.columns=[x.upper() for x in df.columns]\n",
    "#it will change the column name into uppercase"
   ]
  },
  {
   "cell_type": "code",
   "execution_count": 110,
   "id": "197d08dd",
   "metadata": {},
   "outputs": [
    {
     "data": {
      "text/html": [
       "<div>\n",
       "<style scoped>\n",
       "    .dataframe tbody tr th:only-of-type {\n",
       "        vertical-align: middle;\n",
       "    }\n",
       "\n",
       "    .dataframe tbody tr th {\n",
       "        vertical-align: top;\n",
       "    }\n",
       "\n",
       "    .dataframe thead th {\n",
       "        text-align: right;\n",
       "    }\n",
       "</style>\n",
       "<table border=\"1\" class=\"dataframe\">\n",
       "  <thead>\n",
       "    <tr style=\"text-align: right;\">\n",
       "      <th></th>\n",
       "      <th>EMAIL</th>\n",
       "      <th>FIRST_NAME</th>\n",
       "      <th>LAST_NAME</th>\n",
       "    </tr>\n",
       "  </thead>\n",
       "  <tbody>\n",
       "    <tr>\n",
       "      <th>0</th>\n",
       "      <td>lx@gmail.com</td>\n",
       "      <td>laxmi</td>\n",
       "      <td>bhandari</td>\n",
       "    </tr>\n",
       "    <tr>\n",
       "      <th>1</th>\n",
       "      <td>ma@gmail.com</td>\n",
       "      <td>mahesh</td>\n",
       "      <td>bhandari</td>\n",
       "    </tr>\n",
       "    <tr>\n",
       "      <th>2</th>\n",
       "      <td>sh@gmail.com</td>\n",
       "      <td>sheshnath</td>\n",
       "      <td>bhandari</td>\n",
       "    </tr>\n",
       "    <tr>\n",
       "      <th>3</th>\n",
       "      <td>su@gmail.com</td>\n",
       "      <td>sunil</td>\n",
       "      <td>bhandar</td>\n",
       "    </tr>\n",
       "  </tbody>\n",
       "</table>\n",
       "</div>"
      ],
      "text/plain": [
       "          EMAIL FIRST_NAME LAST_NAME\n",
       "0  lx@gmail.com      laxmi  bhandari\n",
       "1  ma@gmail.com     mahesh  bhandari\n",
       "2  sh@gmail.com  sheshnath  bhandari\n",
       "3  su@gmail.com      sunil   bhandar"
      ]
     },
     "execution_count": 110,
     "metadata": {},
     "output_type": "execute_result"
    }
   ],
   "source": [
    "df"
   ]
  },
  {
   "cell_type": "code",
   "execution_count": 111,
   "id": "956f5652",
   "metadata": {},
   "outputs": [],
   "source": [
    "df.columns=[x.lower() for x in df.columns]\n",
    "#it will again change the column in the lower case"
   ]
  },
  {
   "cell_type": "code",
   "execution_count": 112,
   "id": "ecaa5fbb",
   "metadata": {},
   "outputs": [
    {
     "data": {
      "text/html": [
       "<div>\n",
       "<style scoped>\n",
       "    .dataframe tbody tr th:only-of-type {\n",
       "        vertical-align: middle;\n",
       "    }\n",
       "\n",
       "    .dataframe tbody tr th {\n",
       "        vertical-align: top;\n",
       "    }\n",
       "\n",
       "    .dataframe thead th {\n",
       "        text-align: right;\n",
       "    }\n",
       "</style>\n",
       "<table border=\"1\" class=\"dataframe\">\n",
       "  <thead>\n",
       "    <tr style=\"text-align: right;\">\n",
       "      <th></th>\n",
       "      <th>email</th>\n",
       "      <th>first_name</th>\n",
       "      <th>last_name</th>\n",
       "    </tr>\n",
       "  </thead>\n",
       "  <tbody>\n",
       "    <tr>\n",
       "      <th>0</th>\n",
       "      <td>lx@gmail.com</td>\n",
       "      <td>laxmi</td>\n",
       "      <td>bhandari</td>\n",
       "    </tr>\n",
       "    <tr>\n",
       "      <th>1</th>\n",
       "      <td>ma@gmail.com</td>\n",
       "      <td>mahesh</td>\n",
       "      <td>bhandari</td>\n",
       "    </tr>\n",
       "    <tr>\n",
       "      <th>2</th>\n",
       "      <td>sh@gmail.com</td>\n",
       "      <td>sheshnath</td>\n",
       "      <td>bhandari</td>\n",
       "    </tr>\n",
       "    <tr>\n",
       "      <th>3</th>\n",
       "      <td>su@gmail.com</td>\n",
       "      <td>sunil</td>\n",
       "      <td>bhandar</td>\n",
       "    </tr>\n",
       "  </tbody>\n",
       "</table>\n",
       "</div>"
      ],
      "text/plain": [
       "          email first_name last_name\n",
       "0  lx@gmail.com      laxmi  bhandari\n",
       "1  ma@gmail.com     mahesh  bhandari\n",
       "2  sh@gmail.com  sheshnath  bhandari\n",
       "3  su@gmail.com      sunil   bhandar"
      ]
     },
     "execution_count": 112,
     "metadata": {},
     "output_type": "execute_result"
    }
   ],
   "source": [
    "df"
   ]
  },
  {
   "cell_type": "code",
   "execution_count": 113,
   "id": "bba4665f",
   "metadata": {},
   "outputs": [],
   "source": [
    "df.columns=df.columns.str.replace('_',' ')\n",
    "#it will change every _ in space in the column as shown above"
   ]
  },
  {
   "cell_type": "code",
   "execution_count": 114,
   "id": "bdba6509",
   "metadata": {},
   "outputs": [
    {
     "data": {
      "text/html": [
       "<div>\n",
       "<style scoped>\n",
       "    .dataframe tbody tr th:only-of-type {\n",
       "        vertical-align: middle;\n",
       "    }\n",
       "\n",
       "    .dataframe tbody tr th {\n",
       "        vertical-align: top;\n",
       "    }\n",
       "\n",
       "    .dataframe thead th {\n",
       "        text-align: right;\n",
       "    }\n",
       "</style>\n",
       "<table border=\"1\" class=\"dataframe\">\n",
       "  <thead>\n",
       "    <tr style=\"text-align: right;\">\n",
       "      <th></th>\n",
       "      <th>email</th>\n",
       "      <th>first name</th>\n",
       "      <th>last name</th>\n",
       "    </tr>\n",
       "  </thead>\n",
       "  <tbody>\n",
       "    <tr>\n",
       "      <th>0</th>\n",
       "      <td>lx@gmail.com</td>\n",
       "      <td>laxmi</td>\n",
       "      <td>bhandari</td>\n",
       "    </tr>\n",
       "    <tr>\n",
       "      <th>1</th>\n",
       "      <td>ma@gmail.com</td>\n",
       "      <td>mahesh</td>\n",
       "      <td>bhandari</td>\n",
       "    </tr>\n",
       "    <tr>\n",
       "      <th>2</th>\n",
       "      <td>sh@gmail.com</td>\n",
       "      <td>sheshnath</td>\n",
       "      <td>bhandari</td>\n",
       "    </tr>\n",
       "    <tr>\n",
       "      <th>3</th>\n",
       "      <td>su@gmail.com</td>\n",
       "      <td>sunil</td>\n",
       "      <td>bhandar</td>\n",
       "    </tr>\n",
       "  </tbody>\n",
       "</table>\n",
       "</div>"
      ],
      "text/plain": [
       "          email first name last name\n",
       "0  lx@gmail.com      laxmi  bhandari\n",
       "1  ma@gmail.com     mahesh  bhandari\n",
       "2  sh@gmail.com  sheshnath  bhandari\n",
       "3  su@gmail.com      sunil   bhandar"
      ]
     },
     "execution_count": 114,
     "metadata": {},
     "output_type": "execute_result"
    }
   ],
   "source": [
    "df\n"
   ]
  },
  {
   "cell_type": "code",
   "execution_count": 118,
   "id": "894ac306",
   "metadata": {},
   "outputs": [
    {
     "data": {
      "text/html": [
       "<div>\n",
       "<style scoped>\n",
       "    .dataframe tbody tr th:only-of-type {\n",
       "        vertical-align: middle;\n",
       "    }\n",
       "\n",
       "    .dataframe tbody tr th {\n",
       "        vertical-align: top;\n",
       "    }\n",
       "\n",
       "    .dataframe thead th {\n",
       "        text-align: right;\n",
       "    }\n",
       "</style>\n",
       "<table border=\"1\" class=\"dataframe\">\n",
       "  <thead>\n",
       "    <tr style=\"text-align: right;\">\n",
       "      <th></th>\n",
       "      <th>email</th>\n",
       "      <th>first_name</th>\n",
       "      <th>last_name</th>\n",
       "    </tr>\n",
       "  </thead>\n",
       "  <tbody>\n",
       "    <tr>\n",
       "      <th>0</th>\n",
       "      <td>lx@gmail.com</td>\n",
       "      <td>laxmi</td>\n",
       "      <td>bhandari</td>\n",
       "    </tr>\n",
       "    <tr>\n",
       "      <th>1</th>\n",
       "      <td>ma@gmail.com</td>\n",
       "      <td>mahesh</td>\n",
       "      <td>bhandari</td>\n",
       "    </tr>\n",
       "    <tr>\n",
       "      <th>2</th>\n",
       "      <td>sh@gmail.com</td>\n",
       "      <td>sheshnath</td>\n",
       "      <td>bhandari</td>\n",
       "    </tr>\n",
       "    <tr>\n",
       "      <th>3</th>\n",
       "      <td>su@gmail.com</td>\n",
       "      <td>sunil</td>\n",
       "      <td>bhandar</td>\n",
       "    </tr>\n",
       "  </tbody>\n",
       "</table>\n",
       "</div>"
      ],
      "text/plain": [
       "          email first_name last_name\n",
       "0  lx@gmail.com      laxmi  bhandari\n",
       "1  ma@gmail.com     mahesh  bhandari\n",
       "2  sh@gmail.com  sheshnath  bhandari\n",
       "3  su@gmail.com      sunil   bhandar"
      ]
     },
     "execution_count": 118,
     "metadata": {},
     "output_type": "execute_result"
    }
   ],
   "source": [
    "df.columns=df.columns.str.replace(' ','_')\n",
    "df"
   ]
  },
  {
   "cell_type": "code",
   "execution_count": 116,
   "id": "c1a088d7",
   "metadata": {},
   "outputs": [],
   "source": [
    "#changing some columns\n",
    "#here the dictionary comes in the picture"
   ]
  },
  {
   "cell_type": "code",
   "execution_count": 128,
   "id": "2b5b1f6b",
   "metadata": {},
   "outputs": [],
   "source": [
    "df.rename(columns={'first_name':'first','last_name':'last'},inplace=True)"
   ]
  },
  {
   "cell_type": "code",
   "execution_count": 129,
   "id": "0e9f9f53",
   "metadata": {},
   "outputs": [
    {
     "data": {
      "text/html": [
       "<div>\n",
       "<style scoped>\n",
       "    .dataframe tbody tr th:only-of-type {\n",
       "        vertical-align: middle;\n",
       "    }\n",
       "\n",
       "    .dataframe tbody tr th {\n",
       "        vertical-align: top;\n",
       "    }\n",
       "\n",
       "    .dataframe thead th {\n",
       "        text-align: right;\n",
       "    }\n",
       "</style>\n",
       "<table border=\"1\" class=\"dataframe\">\n",
       "  <thead>\n",
       "    <tr style=\"text-align: right;\">\n",
       "      <th></th>\n",
       "      <th>email</th>\n",
       "      <th>first</th>\n",
       "      <th>last</th>\n",
       "    </tr>\n",
       "  </thead>\n",
       "  <tbody>\n",
       "    <tr>\n",
       "      <th>0</th>\n",
       "      <td>lx@gmail.com</td>\n",
       "      <td>laxmi</td>\n",
       "      <td>bhandari</td>\n",
       "    </tr>\n",
       "    <tr>\n",
       "      <th>1</th>\n",
       "      <td>ma@gmail.com</td>\n",
       "      <td>mahesh</td>\n",
       "      <td>bhandari</td>\n",
       "    </tr>\n",
       "    <tr>\n",
       "      <th>2</th>\n",
       "      <td>sh@gmail.com</td>\n",
       "      <td>sheshnath</td>\n",
       "      <td>bhandari</td>\n",
       "    </tr>\n",
       "    <tr>\n",
       "      <th>3</th>\n",
       "      <td>su@gmail.com</td>\n",
       "      <td>sunil</td>\n",
       "      <td>bhandar</td>\n",
       "    </tr>\n",
       "  </tbody>\n",
       "</table>\n",
       "</div>"
      ],
      "text/plain": [
       "          email      first      last\n",
       "0  lx@gmail.com      laxmi  bhandari\n",
       "1  ma@gmail.com     mahesh  bhandari\n",
       "2  sh@gmail.com  sheshnath  bhandari\n",
       "3  su@gmail.com      sunil   bhandar"
      ]
     },
     "execution_count": 129,
     "metadata": {},
     "output_type": "execute_result"
    }
   ],
   "source": [
    "df"
   ]
  },
  {
   "cell_type": "code",
   "execution_count": 130,
   "id": "f98192e4",
   "metadata": {},
   "outputs": [],
   "source": [
    "#changing or updating the rows\n",
    "#firstly changing the multiple rows"
   ]
  },
  {
   "cell_type": "code",
   "execution_count": 131,
   "id": "b4a8d0d5",
   "metadata": {},
   "outputs": [
    {
     "data": {
      "text/plain": [
       "email    sh@gmail.com\n",
       "first       sheshnath\n",
       "last         bhandari\n",
       "Name: 2, dtype: object"
      ]
     },
     "execution_count": 131,
     "metadata": {},
     "output_type": "execute_result"
    }
   ],
   "source": [
    "df.loc[2]"
   ]
  },
  {
   "cell_type": "code",
   "execution_count": 136,
   "id": "018414e6",
   "metadata": {},
   "outputs": [],
   "source": [
    "df.loc[2]=['SN@gmail.com','SN','Bhandari']"
   ]
  },
  {
   "cell_type": "code",
   "execution_count": 137,
   "id": "7926f7d1",
   "metadata": {},
   "outputs": [
    {
     "data": {
      "text/html": [
       "<div>\n",
       "<style scoped>\n",
       "    .dataframe tbody tr th:only-of-type {\n",
       "        vertical-align: middle;\n",
       "    }\n",
       "\n",
       "    .dataframe tbody tr th {\n",
       "        vertical-align: top;\n",
       "    }\n",
       "\n",
       "    .dataframe thead th {\n",
       "        text-align: right;\n",
       "    }\n",
       "</style>\n",
       "<table border=\"1\" class=\"dataframe\">\n",
       "  <thead>\n",
       "    <tr style=\"text-align: right;\">\n",
       "      <th></th>\n",
       "      <th>email</th>\n",
       "      <th>first</th>\n",
       "      <th>last</th>\n",
       "    </tr>\n",
       "  </thead>\n",
       "  <tbody>\n",
       "    <tr>\n",
       "      <th>0</th>\n",
       "      <td>lx@gmail.com</td>\n",
       "      <td>laxmi</td>\n",
       "      <td>bhandari</td>\n",
       "    </tr>\n",
       "    <tr>\n",
       "      <th>1</th>\n",
       "      <td>ma@gmail.com</td>\n",
       "      <td>mahesh</td>\n",
       "      <td>bhandari</td>\n",
       "    </tr>\n",
       "    <tr>\n",
       "      <th>2</th>\n",
       "      <td>SN@gmail.com</td>\n",
       "      <td>SN</td>\n",
       "      <td>Bhandari</td>\n",
       "    </tr>\n",
       "    <tr>\n",
       "      <th>3</th>\n",
       "      <td>su@gmail.com</td>\n",
       "      <td>sunil</td>\n",
       "      <td>bhandar</td>\n",
       "    </tr>\n",
       "  </tbody>\n",
       "</table>\n",
       "</div>"
      ],
      "text/plain": [
       "          email   first      last\n",
       "0  lx@gmail.com   laxmi  bhandari\n",
       "1  ma@gmail.com  mahesh  bhandari\n",
       "2  SN@gmail.com      SN  Bhandari\n",
       "3  su@gmail.com   sunil   bhandar"
      ]
     },
     "execution_count": 137,
     "metadata": {},
     "output_type": "execute_result"
    }
   ],
   "source": [
    "df"
   ]
  },
  {
   "cell_type": "code",
   "execution_count": 138,
   "id": "c6cdc300",
   "metadata": {},
   "outputs": [
    {
     "ename": "ValueError",
     "evalue": "could not broadcast input array from shape (2,) into shape (3,)",
     "output_type": "error",
     "traceback": [
      "\u001b[1;31m---------------------------------------------------------------------------\u001b[0m",
      "\u001b[1;31mValueError\u001b[0m                                Traceback (most recent call last)",
      "\u001b[1;32m~\\AppData\\Local\\Temp\\ipykernel_4420\\906149362.py\u001b[0m in \u001b[0;36m<module>\u001b[1;34m\u001b[0m\n\u001b[1;32m----> 1\u001b[1;33m \u001b[0mdf\u001b[0m\u001b[1;33m.\u001b[0m\u001b[0mloc\u001b[0m\u001b[1;33m[\u001b[0m\u001b[1;36m2\u001b[0m\u001b[1;33m]\u001b[0m\u001b[1;33m=\u001b[0m\u001b[1;33m[\u001b[0m\u001b[1;34m'Sh@gmail.com'\u001b[0m\u001b[1;33m,\u001b[0m\u001b[1;34m\"sn\"\u001b[0m\u001b[1;33m]\u001b[0m\u001b[1;33m\u001b[0m\u001b[1;33m\u001b[0m\u001b[0m\n\u001b[0m",
      "\u001b[1;32m~\\anaconda3\\lib\\site-packages\\pandas\\core\\indexing.py\u001b[0m in \u001b[0;36m__setitem__\u001b[1;34m(self, key, value)\u001b[0m\n\u001b[0;32m    714\u001b[0m \u001b[1;33m\u001b[0m\u001b[0m\n\u001b[0;32m    715\u001b[0m         \u001b[0miloc\u001b[0m \u001b[1;33m=\u001b[0m \u001b[0mself\u001b[0m \u001b[1;32mif\u001b[0m \u001b[0mself\u001b[0m\u001b[1;33m.\u001b[0m\u001b[0mname\u001b[0m \u001b[1;33m==\u001b[0m \u001b[1;34m\"iloc\"\u001b[0m \u001b[1;32melse\u001b[0m \u001b[0mself\u001b[0m\u001b[1;33m.\u001b[0m\u001b[0mobj\u001b[0m\u001b[1;33m.\u001b[0m\u001b[0miloc\u001b[0m\u001b[1;33m\u001b[0m\u001b[1;33m\u001b[0m\u001b[0m\n\u001b[1;32m--> 716\u001b[1;33m         \u001b[0miloc\u001b[0m\u001b[1;33m.\u001b[0m\u001b[0m_setitem_with_indexer\u001b[0m\u001b[1;33m(\u001b[0m\u001b[0mindexer\u001b[0m\u001b[1;33m,\u001b[0m \u001b[0mvalue\u001b[0m\u001b[1;33m,\u001b[0m \u001b[0mself\u001b[0m\u001b[1;33m.\u001b[0m\u001b[0mname\u001b[0m\u001b[1;33m)\u001b[0m\u001b[1;33m\u001b[0m\u001b[1;33m\u001b[0m\u001b[0m\n\u001b[0m\u001b[0;32m    717\u001b[0m \u001b[1;33m\u001b[0m\u001b[0m\n\u001b[0;32m    718\u001b[0m     \u001b[1;32mdef\u001b[0m \u001b[0m_validate_key\u001b[0m\u001b[1;33m(\u001b[0m\u001b[0mself\u001b[0m\u001b[1;33m,\u001b[0m \u001b[0mkey\u001b[0m\u001b[1;33m,\u001b[0m \u001b[0maxis\u001b[0m\u001b[1;33m:\u001b[0m \u001b[0mint\u001b[0m\u001b[1;33m)\u001b[0m\u001b[1;33m:\u001b[0m\u001b[1;33m\u001b[0m\u001b[1;33m\u001b[0m\u001b[0m\n",
      "\u001b[1;32m~\\anaconda3\\lib\\site-packages\\pandas\\core\\indexing.py\u001b[0m in \u001b[0;36m_setitem_with_indexer\u001b[1;34m(self, indexer, value, name)\u001b[0m\n\u001b[0;32m   1691\u001b[0m             \u001b[0mself\u001b[0m\u001b[1;33m.\u001b[0m\u001b[0m_setitem_with_indexer_split_path\u001b[0m\u001b[1;33m(\u001b[0m\u001b[0mindexer\u001b[0m\u001b[1;33m,\u001b[0m \u001b[0mvalue\u001b[0m\u001b[1;33m,\u001b[0m \u001b[0mname\u001b[0m\u001b[1;33m)\u001b[0m\u001b[1;33m\u001b[0m\u001b[1;33m\u001b[0m\u001b[0m\n\u001b[0;32m   1692\u001b[0m         \u001b[1;32melse\u001b[0m\u001b[1;33m:\u001b[0m\u001b[1;33m\u001b[0m\u001b[1;33m\u001b[0m\u001b[0m\n\u001b[1;32m-> 1693\u001b[1;33m             \u001b[0mself\u001b[0m\u001b[1;33m.\u001b[0m\u001b[0m_setitem_single_block\u001b[0m\u001b[1;33m(\u001b[0m\u001b[0mindexer\u001b[0m\u001b[1;33m,\u001b[0m \u001b[0mvalue\u001b[0m\u001b[1;33m,\u001b[0m \u001b[0mname\u001b[0m\u001b[1;33m)\u001b[0m\u001b[1;33m\u001b[0m\u001b[1;33m\u001b[0m\u001b[0m\n\u001b[0m\u001b[0;32m   1694\u001b[0m \u001b[1;33m\u001b[0m\u001b[0m\n\u001b[0;32m   1695\u001b[0m     \u001b[1;32mdef\u001b[0m \u001b[0m_setitem_with_indexer_split_path\u001b[0m\u001b[1;33m(\u001b[0m\u001b[0mself\u001b[0m\u001b[1;33m,\u001b[0m \u001b[0mindexer\u001b[0m\u001b[1;33m,\u001b[0m \u001b[0mvalue\u001b[0m\u001b[1;33m,\u001b[0m \u001b[0mname\u001b[0m\u001b[1;33m:\u001b[0m \u001b[0mstr\u001b[0m\u001b[1;33m)\u001b[0m\u001b[1;33m:\u001b[0m\u001b[1;33m\u001b[0m\u001b[1;33m\u001b[0m\u001b[0m\n",
      "\u001b[1;32m~\\anaconda3\\lib\\site-packages\\pandas\\core\\indexing.py\u001b[0m in \u001b[0;36m_setitem_single_block\u001b[1;34m(self, indexer, value, name)\u001b[0m\n\u001b[0;32m   1941\u001b[0m \u001b[1;33m\u001b[0m\u001b[0m\n\u001b[0;32m   1942\u001b[0m         \u001b[1;31m# actually do the set\u001b[0m\u001b[1;33m\u001b[0m\u001b[1;33m\u001b[0m\u001b[0m\n\u001b[1;32m-> 1943\u001b[1;33m         \u001b[0mself\u001b[0m\u001b[1;33m.\u001b[0m\u001b[0mobj\u001b[0m\u001b[1;33m.\u001b[0m\u001b[0m_mgr\u001b[0m \u001b[1;33m=\u001b[0m \u001b[0mself\u001b[0m\u001b[1;33m.\u001b[0m\u001b[0mobj\u001b[0m\u001b[1;33m.\u001b[0m\u001b[0m_mgr\u001b[0m\u001b[1;33m.\u001b[0m\u001b[0msetitem\u001b[0m\u001b[1;33m(\u001b[0m\u001b[0mindexer\u001b[0m\u001b[1;33m=\u001b[0m\u001b[0mindexer\u001b[0m\u001b[1;33m,\u001b[0m \u001b[0mvalue\u001b[0m\u001b[1;33m=\u001b[0m\u001b[0mvalue\u001b[0m\u001b[1;33m)\u001b[0m\u001b[1;33m\u001b[0m\u001b[1;33m\u001b[0m\u001b[0m\n\u001b[0m\u001b[0;32m   1944\u001b[0m         \u001b[0mself\u001b[0m\u001b[1;33m.\u001b[0m\u001b[0mobj\u001b[0m\u001b[1;33m.\u001b[0m\u001b[0m_maybe_update_cacher\u001b[0m\u001b[1;33m(\u001b[0m\u001b[0mclear\u001b[0m\u001b[1;33m=\u001b[0m\u001b[1;32mTrue\u001b[0m\u001b[1;33m,\u001b[0m \u001b[0minplace\u001b[0m\u001b[1;33m=\u001b[0m\u001b[1;32mTrue\u001b[0m\u001b[1;33m)\u001b[0m\u001b[1;33m\u001b[0m\u001b[1;33m\u001b[0m\u001b[0m\n\u001b[0;32m   1945\u001b[0m \u001b[1;33m\u001b[0m\u001b[0m\n",
      "\u001b[1;32m~\\anaconda3\\lib\\site-packages\\pandas\\core\\internals\\managers.py\u001b[0m in \u001b[0;36msetitem\u001b[1;34m(self, indexer, value)\u001b[0m\n\u001b[0;32m    335\u001b[0m         \u001b[0mFor\u001b[0m \u001b[0mSingleBlockManager\u001b[0m\u001b[1;33m,\u001b[0m \u001b[0mthis\u001b[0m \u001b[0mbacks\u001b[0m \u001b[0ms\u001b[0m\u001b[1;33m[\u001b[0m\u001b[0mindexer\u001b[0m\u001b[1;33m]\u001b[0m \u001b[1;33m=\u001b[0m \u001b[0mvalue\u001b[0m\u001b[1;33m\u001b[0m\u001b[1;33m\u001b[0m\u001b[0m\n\u001b[0;32m    336\u001b[0m         \"\"\"\n\u001b[1;32m--> 337\u001b[1;33m         \u001b[1;32mreturn\u001b[0m \u001b[0mself\u001b[0m\u001b[1;33m.\u001b[0m\u001b[0mapply\u001b[0m\u001b[1;33m(\u001b[0m\u001b[1;34m\"setitem\"\u001b[0m\u001b[1;33m,\u001b[0m \u001b[0mindexer\u001b[0m\u001b[1;33m=\u001b[0m\u001b[0mindexer\u001b[0m\u001b[1;33m,\u001b[0m \u001b[0mvalue\u001b[0m\u001b[1;33m=\u001b[0m\u001b[0mvalue\u001b[0m\u001b[1;33m)\u001b[0m\u001b[1;33m\u001b[0m\u001b[1;33m\u001b[0m\u001b[0m\n\u001b[0m\u001b[0;32m    338\u001b[0m \u001b[1;33m\u001b[0m\u001b[0m\n\u001b[0;32m    339\u001b[0m     \u001b[1;32mdef\u001b[0m \u001b[0mputmask\u001b[0m\u001b[1;33m(\u001b[0m\u001b[0mself\u001b[0m\u001b[1;33m,\u001b[0m \u001b[0mmask\u001b[0m\u001b[1;33m,\u001b[0m \u001b[0mnew\u001b[0m\u001b[1;33m,\u001b[0m \u001b[0malign\u001b[0m\u001b[1;33m:\u001b[0m \u001b[0mbool\u001b[0m \u001b[1;33m=\u001b[0m \u001b[1;32mTrue\u001b[0m\u001b[1;33m)\u001b[0m\u001b[1;33m:\u001b[0m\u001b[1;33m\u001b[0m\u001b[1;33m\u001b[0m\u001b[0m\n",
      "\u001b[1;32m~\\anaconda3\\lib\\site-packages\\pandas\\core\\internals\\managers.py\u001b[0m in \u001b[0;36mapply\u001b[1;34m(self, f, align_keys, ignore_failures, **kwargs)\u001b[0m\n\u001b[0;32m    302\u001b[0m                     \u001b[0mapplied\u001b[0m \u001b[1;33m=\u001b[0m \u001b[0mb\u001b[0m\u001b[1;33m.\u001b[0m\u001b[0mapply\u001b[0m\u001b[1;33m(\u001b[0m\u001b[0mf\u001b[0m\u001b[1;33m,\u001b[0m \u001b[1;33m**\u001b[0m\u001b[0mkwargs\u001b[0m\u001b[1;33m)\u001b[0m\u001b[1;33m\u001b[0m\u001b[1;33m\u001b[0m\u001b[0m\n\u001b[0;32m    303\u001b[0m                 \u001b[1;32melse\u001b[0m\u001b[1;33m:\u001b[0m\u001b[1;33m\u001b[0m\u001b[1;33m\u001b[0m\u001b[0m\n\u001b[1;32m--> 304\u001b[1;33m                     \u001b[0mapplied\u001b[0m \u001b[1;33m=\u001b[0m \u001b[0mgetattr\u001b[0m\u001b[1;33m(\u001b[0m\u001b[0mb\u001b[0m\u001b[1;33m,\u001b[0m \u001b[0mf\u001b[0m\u001b[1;33m)\u001b[0m\u001b[1;33m(\u001b[0m\u001b[1;33m**\u001b[0m\u001b[0mkwargs\u001b[0m\u001b[1;33m)\u001b[0m\u001b[1;33m\u001b[0m\u001b[1;33m\u001b[0m\u001b[0m\n\u001b[0m\u001b[0;32m    305\u001b[0m             \u001b[1;32mexcept\u001b[0m \u001b[1;33m(\u001b[0m\u001b[0mTypeError\u001b[0m\u001b[1;33m,\u001b[0m \u001b[0mNotImplementedError\u001b[0m\u001b[1;33m)\u001b[0m\u001b[1;33m:\u001b[0m\u001b[1;33m\u001b[0m\u001b[1;33m\u001b[0m\u001b[0m\n\u001b[0;32m    306\u001b[0m                 \u001b[1;32mif\u001b[0m \u001b[1;32mnot\u001b[0m \u001b[0mignore_failures\u001b[0m\u001b[1;33m:\u001b[0m\u001b[1;33m\u001b[0m\u001b[1;33m\u001b[0m\u001b[0m\n",
      "\u001b[1;32m~\\anaconda3\\lib\\site-packages\\pandas\\core\\internals\\blocks.py\u001b[0m in \u001b[0;36msetitem\u001b[1;34m(self, indexer, value)\u001b[0m\n\u001b[0;32m    957\u001b[0m         \u001b[1;32melse\u001b[0m\u001b[1;33m:\u001b[0m\u001b[1;33m\u001b[0m\u001b[1;33m\u001b[0m\u001b[0m\n\u001b[0;32m    958\u001b[0m             \u001b[0mvalue\u001b[0m \u001b[1;33m=\u001b[0m \u001b[0msetitem_datetimelike_compat\u001b[0m\u001b[1;33m(\u001b[0m\u001b[0mvalues\u001b[0m\u001b[1;33m,\u001b[0m \u001b[0mlen\u001b[0m\u001b[1;33m(\u001b[0m\u001b[0mvalues\u001b[0m\u001b[1;33m[\u001b[0m\u001b[0mindexer\u001b[0m\u001b[1;33m]\u001b[0m\u001b[1;33m)\u001b[0m\u001b[1;33m,\u001b[0m \u001b[0mvalue\u001b[0m\u001b[1;33m)\u001b[0m\u001b[1;33m\u001b[0m\u001b[1;33m\u001b[0m\u001b[0m\n\u001b[1;32m--> 959\u001b[1;33m             \u001b[0mvalues\u001b[0m\u001b[1;33m[\u001b[0m\u001b[0mindexer\u001b[0m\u001b[1;33m]\u001b[0m \u001b[1;33m=\u001b[0m \u001b[0mvalue\u001b[0m\u001b[1;33m\u001b[0m\u001b[1;33m\u001b[0m\u001b[0m\n\u001b[0m\u001b[0;32m    960\u001b[0m \u001b[1;33m\u001b[0m\u001b[0m\n\u001b[0;32m    961\u001b[0m         \u001b[1;32mreturn\u001b[0m \u001b[0mself\u001b[0m\u001b[1;33m\u001b[0m\u001b[1;33m\u001b[0m\u001b[0m\n",
      "\u001b[1;31mValueError\u001b[0m: could not broadcast input array from shape (2,) into shape (3,)"
     ]
    }
   ],
   "source": [
    "df.loc[2]=['Sh@gmail.com',\"sn\"]"
   ]
  },
  {
   "cell_type": "code",
   "execution_count": 139,
   "id": "daa6c191",
   "metadata": {},
   "outputs": [],
   "source": [
    "#NOTE"
   ]
  },
  {
   "cell_type": "code",
   "execution_count": 142,
   "id": "0fb8640a",
   "metadata": {},
   "outputs": [],
   "source": [
    "#df.loc[2]=['SN@gmail.com','SN','Bhandari']\n",
    "#IF we use this to change the rfows and i we have to change one word but there are multiple rows than it really SUCKS.\n",
    "#So we usethe following Insted"
   ]
  },
  {
   "cell_type": "code",
   "execution_count": 149,
   "id": "8da67547",
   "metadata": {},
   "outputs": [],
   "source": [
    "df.loc[2,['first','email']] = ['Sheshnath','sh@gmail.com']"
   ]
  },
  {
   "cell_type": "code",
   "execution_count": 150,
   "id": "7f7ca7eb",
   "metadata": {},
   "outputs": [
    {
     "data": {
      "text/html": [
       "<div>\n",
       "<style scoped>\n",
       "    .dataframe tbody tr th:only-of-type {\n",
       "        vertical-align: middle;\n",
       "    }\n",
       "\n",
       "    .dataframe tbody tr th {\n",
       "        vertical-align: top;\n",
       "    }\n",
       "\n",
       "    .dataframe thead th {\n",
       "        text-align: right;\n",
       "    }\n",
       "</style>\n",
       "<table border=\"1\" class=\"dataframe\">\n",
       "  <thead>\n",
       "    <tr style=\"text-align: right;\">\n",
       "      <th></th>\n",
       "      <th>email</th>\n",
       "      <th>first</th>\n",
       "      <th>last</th>\n",
       "    </tr>\n",
       "  </thead>\n",
       "  <tbody>\n",
       "    <tr>\n",
       "      <th>0</th>\n",
       "      <td>lx@gmail.com</td>\n",
       "      <td>laxmi</td>\n",
       "      <td>bhandari</td>\n",
       "    </tr>\n",
       "    <tr>\n",
       "      <th>1</th>\n",
       "      <td>ma@gmail.com</td>\n",
       "      <td>mahesh</td>\n",
       "      <td>bhandari</td>\n",
       "    </tr>\n",
       "    <tr>\n",
       "      <th>2</th>\n",
       "      <td>sh@gmail.com</td>\n",
       "      <td>Sheshnath</td>\n",
       "      <td>Bhandari</td>\n",
       "    </tr>\n",
       "    <tr>\n",
       "      <th>3</th>\n",
       "      <td>su@gmail.com</td>\n",
       "      <td>sunil</td>\n",
       "      <td>bhandar</td>\n",
       "    </tr>\n",
       "  </tbody>\n",
       "</table>\n",
       "</div>"
      ],
      "text/plain": [
       "          email      first      last\n",
       "0  lx@gmail.com      laxmi  bhandari\n",
       "1  ma@gmail.com     mahesh  bhandari\n",
       "2  sh@gmail.com  Sheshnath  Bhandari\n",
       "3  su@gmail.com      sunil   bhandar"
      ]
     },
     "execution_count": 150,
     "metadata": {},
     "output_type": "execute_result"
    }
   ],
   "source": [
    "df"
   ]
  },
  {
   "cell_type": "code",
   "execution_count": 151,
   "id": "c3d89939",
   "metadata": {},
   "outputs": [],
   "source": [
    "#changing the one word in the row"
   ]
  },
  {
   "cell_type": "code",
   "execution_count": 152,
   "id": "9239367f",
   "metadata": {},
   "outputs": [],
   "source": [
    "df.loc[2,'first']='sheshnath'"
   ]
  },
  {
   "cell_type": "code",
   "execution_count": 153,
   "id": "7e170402",
   "metadata": {},
   "outputs": [
    {
     "data": {
      "text/html": [
       "<div>\n",
       "<style scoped>\n",
       "    .dataframe tbody tr th:only-of-type {\n",
       "        vertical-align: middle;\n",
       "    }\n",
       "\n",
       "    .dataframe tbody tr th {\n",
       "        vertical-align: top;\n",
       "    }\n",
       "\n",
       "    .dataframe thead th {\n",
       "        text-align: right;\n",
       "    }\n",
       "</style>\n",
       "<table border=\"1\" class=\"dataframe\">\n",
       "  <thead>\n",
       "    <tr style=\"text-align: right;\">\n",
       "      <th></th>\n",
       "      <th>email</th>\n",
       "      <th>first</th>\n",
       "      <th>last</th>\n",
       "    </tr>\n",
       "  </thead>\n",
       "  <tbody>\n",
       "    <tr>\n",
       "      <th>0</th>\n",
       "      <td>lx@gmail.com</td>\n",
       "      <td>laxmi</td>\n",
       "      <td>bhandari</td>\n",
       "    </tr>\n",
       "    <tr>\n",
       "      <th>1</th>\n",
       "      <td>ma@gmail.com</td>\n",
       "      <td>mahesh</td>\n",
       "      <td>bhandari</td>\n",
       "    </tr>\n",
       "    <tr>\n",
       "      <th>2</th>\n",
       "      <td>sh@gmail.com</td>\n",
       "      <td>sheshnath</td>\n",
       "      <td>Bhandari</td>\n",
       "    </tr>\n",
       "    <tr>\n",
       "      <th>3</th>\n",
       "      <td>su@gmail.com</td>\n",
       "      <td>sunil</td>\n",
       "      <td>bhandar</td>\n",
       "    </tr>\n",
       "  </tbody>\n",
       "</table>\n",
       "</div>"
      ],
      "text/plain": [
       "          email      first      last\n",
       "0  lx@gmail.com      laxmi  bhandari\n",
       "1  ma@gmail.com     mahesh  bhandari\n",
       "2  sh@gmail.com  sheshnath  Bhandari\n",
       "3  su@gmail.com      sunil   bhandar"
      ]
     },
     "execution_count": 153,
     "metadata": {},
     "output_type": "execute_result"
    }
   ],
   "source": [
    "df"
   ]
  },
  {
   "cell_type": "code",
   "execution_count": 154,
   "id": "5566ba14",
   "metadata": {},
   "outputs": [],
   "source": [
    "#.at is similar to .loc"
   ]
  },
  {
   "cell_type": "code",
   "execution_count": 155,
   "id": "e348e8a7",
   "metadata": {},
   "outputs": [],
   "source": [
    "df.at[2,'last']='bhandari'"
   ]
  },
  {
   "cell_type": "code",
   "execution_count": 156,
   "id": "84654d28",
   "metadata": {},
   "outputs": [
    {
     "data": {
      "text/html": [
       "<div>\n",
       "<style scoped>\n",
       "    .dataframe tbody tr th:only-of-type {\n",
       "        vertical-align: middle;\n",
       "    }\n",
       "\n",
       "    .dataframe tbody tr th {\n",
       "        vertical-align: top;\n",
       "    }\n",
       "\n",
       "    .dataframe thead th {\n",
       "        text-align: right;\n",
       "    }\n",
       "</style>\n",
       "<table border=\"1\" class=\"dataframe\">\n",
       "  <thead>\n",
       "    <tr style=\"text-align: right;\">\n",
       "      <th></th>\n",
       "      <th>email</th>\n",
       "      <th>first</th>\n",
       "      <th>last</th>\n",
       "    </tr>\n",
       "  </thead>\n",
       "  <tbody>\n",
       "    <tr>\n",
       "      <th>0</th>\n",
       "      <td>lx@gmail.com</td>\n",
       "      <td>laxmi</td>\n",
       "      <td>bhandari</td>\n",
       "    </tr>\n",
       "    <tr>\n",
       "      <th>1</th>\n",
       "      <td>ma@gmail.com</td>\n",
       "      <td>mahesh</td>\n",
       "      <td>bhandari</td>\n",
       "    </tr>\n",
       "    <tr>\n",
       "      <th>2</th>\n",
       "      <td>sh@gmail.com</td>\n",
       "      <td>sheshnath</td>\n",
       "      <td>bhandari</td>\n",
       "    </tr>\n",
       "    <tr>\n",
       "      <th>3</th>\n",
       "      <td>su@gmail.com</td>\n",
       "      <td>sunil</td>\n",
       "      <td>bhandar</td>\n",
       "    </tr>\n",
       "  </tbody>\n",
       "</table>\n",
       "</div>"
      ],
      "text/plain": [
       "          email      first      last\n",
       "0  lx@gmail.com      laxmi  bhandari\n",
       "1  ma@gmail.com     mahesh  bhandari\n",
       "2  sh@gmail.com  sheshnath  bhandari\n",
       "3  su@gmail.com      sunil   bhandar"
      ]
     },
     "execution_count": 156,
     "metadata": {},
     "output_type": "execute_result"
    }
   ],
   "source": [
    "df"
   ]
  },
  {
   "cell_type": "code",
   "execution_count": 157,
   "id": "8e768a7c",
   "metadata": {},
   "outputs": [],
   "source": [
    "#changing the multiple ROW"
   ]
  },
  {
   "cell_type": "code",
   "execution_count": 158,
   "id": "e463d631",
   "metadata": {},
   "outputs": [
    {
     "data": {
      "text/plain": [
       "0    lx@gmail.com\n",
       "1    ma@gmail.com\n",
       "2    sh@gmail.com\n",
       "3    su@gmail.com\n",
       "Name: email, dtype: object"
      ]
     },
     "execution_count": 158,
     "metadata": {},
     "output_type": "execute_result"
    }
   ],
   "source": [
    "df['email'].str.lower()"
   ]
  },
  {
   "cell_type": "code",
   "execution_count": 159,
   "id": "e316a628",
   "metadata": {},
   "outputs": [
    {
     "data": {
      "text/plain": [
       "0    LX@GMAIL.COM\n",
       "1    MA@GMAIL.COM\n",
       "2    SH@GMAIL.COM\n",
       "3    SU@GMAIL.COM\n",
       "Name: email, dtype: object"
      ]
     },
     "execution_count": 159,
     "metadata": {},
     "output_type": "execute_result"
    }
   ],
   "source": [
    "df['email'].str.upper()"
   ]
  },
  {
   "cell_type": "code",
   "execution_count": 160,
   "id": "62bd7a32",
   "metadata": {},
   "outputs": [
    {
     "data": {
      "text/html": [
       "<div>\n",
       "<style scoped>\n",
       "    .dataframe tbody tr th:only-of-type {\n",
       "        vertical-align: middle;\n",
       "    }\n",
       "\n",
       "    .dataframe tbody tr th {\n",
       "        vertical-align: top;\n",
       "    }\n",
       "\n",
       "    .dataframe thead th {\n",
       "        text-align: right;\n",
       "    }\n",
       "</style>\n",
       "<table border=\"1\" class=\"dataframe\">\n",
       "  <thead>\n",
       "    <tr style=\"text-align: right;\">\n",
       "      <th></th>\n",
       "      <th>email</th>\n",
       "      <th>first</th>\n",
       "      <th>last</th>\n",
       "    </tr>\n",
       "  </thead>\n",
       "  <tbody>\n",
       "    <tr>\n",
       "      <th>0</th>\n",
       "      <td>lx@gmail.com</td>\n",
       "      <td>laxmi</td>\n",
       "      <td>bhandari</td>\n",
       "    </tr>\n",
       "    <tr>\n",
       "      <th>1</th>\n",
       "      <td>ma@gmail.com</td>\n",
       "      <td>mahesh</td>\n",
       "      <td>bhandari</td>\n",
       "    </tr>\n",
       "    <tr>\n",
       "      <th>2</th>\n",
       "      <td>sh@gmail.com</td>\n",
       "      <td>sheshnath</td>\n",
       "      <td>bhandari</td>\n",
       "    </tr>\n",
       "    <tr>\n",
       "      <th>3</th>\n",
       "      <td>su@gmail.com</td>\n",
       "      <td>sunil</td>\n",
       "      <td>bhandar</td>\n",
       "    </tr>\n",
       "  </tbody>\n",
       "</table>\n",
       "</div>"
      ],
      "text/plain": [
       "          email      first      last\n",
       "0  lx@gmail.com      laxmi  bhandari\n",
       "1  ma@gmail.com     mahesh  bhandari\n",
       "2  sh@gmail.com  sheshnath  bhandari\n",
       "3  su@gmail.com      sunil   bhandar"
      ]
     },
     "execution_count": 160,
     "metadata": {},
     "output_type": "execute_result"
    }
   ],
   "source": [
    "df"
   ]
  },
  {
   "cell_type": "code",
   "execution_count": 161,
   "id": "7d19dc3e",
   "metadata": {},
   "outputs": [],
   "source": [
    "df['email']=df['email'].str.upper()"
   ]
  },
  {
   "cell_type": "code",
   "execution_count": 162,
   "id": "f78c9ecb",
   "metadata": {},
   "outputs": [
    {
     "data": {
      "text/html": [
       "<div>\n",
       "<style scoped>\n",
       "    .dataframe tbody tr th:only-of-type {\n",
       "        vertical-align: middle;\n",
       "    }\n",
       "\n",
       "    .dataframe tbody tr th {\n",
       "        vertical-align: top;\n",
       "    }\n",
       "\n",
       "    .dataframe thead th {\n",
       "        text-align: right;\n",
       "    }\n",
       "</style>\n",
       "<table border=\"1\" class=\"dataframe\">\n",
       "  <thead>\n",
       "    <tr style=\"text-align: right;\">\n",
       "      <th></th>\n",
       "      <th>email</th>\n",
       "      <th>first</th>\n",
       "      <th>last</th>\n",
       "    </tr>\n",
       "  </thead>\n",
       "  <tbody>\n",
       "    <tr>\n",
       "      <th>0</th>\n",
       "      <td>LX@GMAIL.COM</td>\n",
       "      <td>laxmi</td>\n",
       "      <td>bhandari</td>\n",
       "    </tr>\n",
       "    <tr>\n",
       "      <th>1</th>\n",
       "      <td>MA@GMAIL.COM</td>\n",
       "      <td>mahesh</td>\n",
       "      <td>bhandari</td>\n",
       "    </tr>\n",
       "    <tr>\n",
       "      <th>2</th>\n",
       "      <td>SH@GMAIL.COM</td>\n",
       "      <td>sheshnath</td>\n",
       "      <td>bhandari</td>\n",
       "    </tr>\n",
       "    <tr>\n",
       "      <th>3</th>\n",
       "      <td>SU@GMAIL.COM</td>\n",
       "      <td>sunil</td>\n",
       "      <td>bhandar</td>\n",
       "    </tr>\n",
       "  </tbody>\n",
       "</table>\n",
       "</div>"
      ],
      "text/plain": [
       "          email      first      last\n",
       "0  LX@GMAIL.COM      laxmi  bhandari\n",
       "1  MA@GMAIL.COM     mahesh  bhandari\n",
       "2  SH@GMAIL.COM  sheshnath  bhandari\n",
       "3  SU@GMAIL.COM      sunil   bhandar"
      ]
     },
     "execution_count": 162,
     "metadata": {},
     "output_type": "execute_result"
    }
   ],
   "source": [
    "df"
   ]
  },
  {
   "cell_type": "code",
   "execution_count": 163,
   "id": "0d1ae914",
   "metadata": {},
   "outputs": [
    {
     "data": {
      "text/html": [
       "<div>\n",
       "<style scoped>\n",
       "    .dataframe tbody tr th:only-of-type {\n",
       "        vertical-align: middle;\n",
       "    }\n",
       "\n",
       "    .dataframe tbody tr th {\n",
       "        vertical-align: top;\n",
       "    }\n",
       "\n",
       "    .dataframe thead th {\n",
       "        text-align: right;\n",
       "    }\n",
       "</style>\n",
       "<table border=\"1\" class=\"dataframe\">\n",
       "  <thead>\n",
       "    <tr style=\"text-align: right;\">\n",
       "      <th></th>\n",
       "      <th>email</th>\n",
       "      <th>first</th>\n",
       "      <th>last</th>\n",
       "    </tr>\n",
       "  </thead>\n",
       "  <tbody>\n",
       "    <tr>\n",
       "      <th>0</th>\n",
       "      <td>LX@GMAIL.COM</td>\n",
       "      <td>laxmi</td>\n",
       "      <td>bhandari</td>\n",
       "    </tr>\n",
       "    <tr>\n",
       "      <th>1</th>\n",
       "      <td>MA@GMAIL.COM</td>\n",
       "      <td>mahesh</td>\n",
       "      <td>bhandari</td>\n",
       "    </tr>\n",
       "    <tr>\n",
       "      <th>2</th>\n",
       "      <td>SH@GMAIL.COM</td>\n",
       "      <td>sheshnath</td>\n",
       "      <td>bhandari</td>\n",
       "    </tr>\n",
       "    <tr>\n",
       "      <th>3</th>\n",
       "      <td>SU@GMAIL.COM</td>\n",
       "      <td>sunil</td>\n",
       "      <td>bhandar</td>\n",
       "    </tr>\n",
       "  </tbody>\n",
       "</table>\n",
       "</div>"
      ],
      "text/plain": [
       "          email      first      last\n",
       "0  LX@GMAIL.COM      laxmi  bhandari\n",
       "1  MA@GMAIL.COM     mahesh  bhandari\n",
       "2  SH@GMAIL.COM  sheshnath  bhandari\n",
       "3  SU@GMAIL.COM      sunil   bhandar"
      ]
     },
     "execution_count": 163,
     "metadata": {},
     "output_type": "execute_result"
    }
   ],
   "source": [
    "df"
   ]
  },
  {
   "cell_type": "code",
   "execution_count": 164,
   "id": "e24dfa13",
   "metadata": {},
   "outputs": [],
   "source": [
    "#there are 4 method to change rows and they are\n",
    "#apply\n",
    "#map\n",
    "#applymap\n",
    "#replace\n"
   ]
  },
  {
   "cell_type": "code",
   "execution_count": 165,
   "id": "3741a579",
   "metadata": {},
   "outputs": [],
   "source": [
    "#APPLY\n",
    "#used for calling a function on our value\n",
    "#it can work in data frame and on series both."
   ]
  },
  {
   "cell_type": "code",
   "execution_count": 166,
   "id": "03dc9b05",
   "metadata": {},
   "outputs": [],
   "source": [
    "#how apply works on series"
   ]
  },
  {
   "cell_type": "code",
   "execution_count": 167,
   "id": "60cceec2",
   "metadata": {},
   "outputs": [
    {
     "data": {
      "text/plain": [
       "0    12\n",
       "1    12\n",
       "2    12\n",
       "3    12\n",
       "Name: email, dtype: int64"
      ]
     },
     "execution_count": 167,
     "metadata": {},
     "output_type": "execute_result"
    }
   ],
   "source": [
    "df['email'].apply(len)"
   ]
  },
  {
   "cell_type": "code",
   "execution_count": 168,
   "id": "3d86077b",
   "metadata": {},
   "outputs": [],
   "source": [
    "#creating the function and calling that function \n"
   ]
  },
  {
   "cell_type": "code",
   "execution_count": 172,
   "id": "cbd5d601",
   "metadata": {},
   "outputs": [],
   "source": [
    "def update_email (email):\n",
    "    return email.lower()\n"
   ]
  },
  {
   "cell_type": "code",
   "execution_count": 173,
   "id": "9dbcf5b7",
   "metadata": {},
   "outputs": [],
   "source": [
    "df['email']=df['email'].apply(update_email)"
   ]
  },
  {
   "cell_type": "code",
   "execution_count": 174,
   "id": "71ca2067",
   "metadata": {},
   "outputs": [
    {
     "data": {
      "text/html": [
       "<div>\n",
       "<style scoped>\n",
       "    .dataframe tbody tr th:only-of-type {\n",
       "        vertical-align: middle;\n",
       "    }\n",
       "\n",
       "    .dataframe tbody tr th {\n",
       "        vertical-align: top;\n",
       "    }\n",
       "\n",
       "    .dataframe thead th {\n",
       "        text-align: right;\n",
       "    }\n",
       "</style>\n",
       "<table border=\"1\" class=\"dataframe\">\n",
       "  <thead>\n",
       "    <tr style=\"text-align: right;\">\n",
       "      <th></th>\n",
       "      <th>email</th>\n",
       "      <th>first</th>\n",
       "      <th>last</th>\n",
       "    </tr>\n",
       "  </thead>\n",
       "  <tbody>\n",
       "    <tr>\n",
       "      <th>0</th>\n",
       "      <td>lx@gmail.com</td>\n",
       "      <td>laxmi</td>\n",
       "      <td>bhandari</td>\n",
       "    </tr>\n",
       "    <tr>\n",
       "      <th>1</th>\n",
       "      <td>ma@gmail.com</td>\n",
       "      <td>mahesh</td>\n",
       "      <td>bhandari</td>\n",
       "    </tr>\n",
       "    <tr>\n",
       "      <th>2</th>\n",
       "      <td>sh@gmail.com</td>\n",
       "      <td>sheshnath</td>\n",
       "      <td>bhandari</td>\n",
       "    </tr>\n",
       "    <tr>\n",
       "      <th>3</th>\n",
       "      <td>su@gmail.com</td>\n",
       "      <td>sunil</td>\n",
       "      <td>bhandar</td>\n",
       "    </tr>\n",
       "  </tbody>\n",
       "</table>\n",
       "</div>"
      ],
      "text/plain": [
       "          email      first      last\n",
       "0  lx@gmail.com      laxmi  bhandari\n",
       "1  ma@gmail.com     mahesh  bhandari\n",
       "2  sh@gmail.com  sheshnath  bhandari\n",
       "3  su@gmail.com      sunil   bhandar"
      ]
     },
     "execution_count": 174,
     "metadata": {},
     "output_type": "execute_result"
    }
   ],
   "source": [
    "df"
   ]
  },
  {
   "cell_type": "code",
   "execution_count": 175,
   "id": "a081b7e4",
   "metadata": {},
   "outputs": [],
   "source": [
    "#how apply works on dataframe"
   ]
  },
  {
   "cell_type": "code",
   "execution_count": 176,
   "id": "18f04444",
   "metadata": {},
   "outputs": [
    {
     "data": {
      "text/plain": [
       "email    4\n",
       "first    4\n",
       "last     4\n",
       "dtype: int64"
      ]
     },
     "execution_count": 176,
     "metadata": {},
     "output_type": "execute_result"
    }
   ],
   "source": [
    "df.apply(len)"
   ]
  },
  {
   "cell_type": "code",
   "execution_count": 177,
   "id": "c68d2d84",
   "metadata": {},
   "outputs": [
    {
     "data": {
      "text/plain": [
       "0    3\n",
       "1    3\n",
       "2    3\n",
       "3    3\n",
       "dtype: int64"
      ]
     },
     "execution_count": 177,
     "metadata": {},
     "output_type": "execute_result"
    }
   ],
   "source": [
    "df.apply(len,axis='columns')"
   ]
  },
  {
   "cell_type": "code",
   "execution_count": 181,
   "id": "74bf23db",
   "metadata": {},
   "outputs": [
    {
     "data": {
      "text/plain": [
       "email    lx@gmail.com\n",
       "first           laxmi\n",
       "last          bhandar\n",
       "dtype: object"
      ]
     },
     "execution_count": 181,
     "metadata": {},
     "output_type": "execute_result"
    }
   ],
   "source": [
    "df.apply(pd.Series.min)"
   ]
  },
  {
   "cell_type": "code",
   "execution_count": 182,
   "id": "8f361ec8",
   "metadata": {},
   "outputs": [],
   "source": [
    "# APPLY MAPS"
   ]
  },
  {
   "cell_type": "code",
   "execution_count": 183,
   "id": "2e68a11b",
   "metadata": {},
   "outputs": [],
   "source": [
    "#APPLY MAP only works on dataframe"
   ]
  },
  {
   "cell_type": "code",
   "execution_count": 184,
   "id": "9464ed63",
   "metadata": {},
   "outputs": [
    {
     "data": {
      "text/html": [
       "<div>\n",
       "<style scoped>\n",
       "    .dataframe tbody tr th:only-of-type {\n",
       "        vertical-align: middle;\n",
       "    }\n",
       "\n",
       "    .dataframe tbody tr th {\n",
       "        vertical-align: top;\n",
       "    }\n",
       "\n",
       "    .dataframe thead th {\n",
       "        text-align: right;\n",
       "    }\n",
       "</style>\n",
       "<table border=\"1\" class=\"dataframe\">\n",
       "  <thead>\n",
       "    <tr style=\"text-align: right;\">\n",
       "      <th></th>\n",
       "      <th>email</th>\n",
       "      <th>first</th>\n",
       "      <th>last</th>\n",
       "    </tr>\n",
       "  </thead>\n",
       "  <tbody>\n",
       "    <tr>\n",
       "      <th>0</th>\n",
       "      <td>12</td>\n",
       "      <td>5</td>\n",
       "      <td>8</td>\n",
       "    </tr>\n",
       "    <tr>\n",
       "      <th>1</th>\n",
       "      <td>12</td>\n",
       "      <td>6</td>\n",
       "      <td>8</td>\n",
       "    </tr>\n",
       "    <tr>\n",
       "      <th>2</th>\n",
       "      <td>12</td>\n",
       "      <td>9</td>\n",
       "      <td>8</td>\n",
       "    </tr>\n",
       "    <tr>\n",
       "      <th>3</th>\n",
       "      <td>12</td>\n",
       "      <td>5</td>\n",
       "      <td>7</td>\n",
       "    </tr>\n",
       "  </tbody>\n",
       "</table>\n",
       "</div>"
      ],
      "text/plain": [
       "   email  first  last\n",
       "0     12      5     8\n",
       "1     12      6     8\n",
       "2     12      9     8\n",
       "3     12      5     7"
      ]
     },
     "execution_count": 184,
     "metadata": {},
     "output_type": "execute_result"
    }
   ],
   "source": [
    "df.applymap(len)"
   ]
  },
  {
   "cell_type": "code",
   "execution_count": 185,
   "id": "5ac8bee2",
   "metadata": {},
   "outputs": [
    {
     "data": {
      "text/html": [
       "<div>\n",
       "<style scoped>\n",
       "    .dataframe tbody tr th:only-of-type {\n",
       "        vertical-align: middle;\n",
       "    }\n",
       "\n",
       "    .dataframe tbody tr th {\n",
       "        vertical-align: top;\n",
       "    }\n",
       "\n",
       "    .dataframe thead th {\n",
       "        text-align: right;\n",
       "    }\n",
       "</style>\n",
       "<table border=\"1\" class=\"dataframe\">\n",
       "  <thead>\n",
       "    <tr style=\"text-align: right;\">\n",
       "      <th></th>\n",
       "      <th>email</th>\n",
       "      <th>first</th>\n",
       "      <th>last</th>\n",
       "    </tr>\n",
       "  </thead>\n",
       "  <tbody>\n",
       "    <tr>\n",
       "      <th>0</th>\n",
       "      <td>LX@GMAIL.COM</td>\n",
       "      <td>LAXMI</td>\n",
       "      <td>BHANDARI</td>\n",
       "    </tr>\n",
       "    <tr>\n",
       "      <th>1</th>\n",
       "      <td>MA@GMAIL.COM</td>\n",
       "      <td>MAHESH</td>\n",
       "      <td>BHANDARI</td>\n",
       "    </tr>\n",
       "    <tr>\n",
       "      <th>2</th>\n",
       "      <td>SH@GMAIL.COM</td>\n",
       "      <td>SHESHNATH</td>\n",
       "      <td>BHANDARI</td>\n",
       "    </tr>\n",
       "    <tr>\n",
       "      <th>3</th>\n",
       "      <td>SU@GMAIL.COM</td>\n",
       "      <td>SUNIL</td>\n",
       "      <td>BHANDAR</td>\n",
       "    </tr>\n",
       "  </tbody>\n",
       "</table>\n",
       "</div>"
      ],
      "text/plain": [
       "          email      first      last\n",
       "0  LX@GMAIL.COM      LAXMI  BHANDARI\n",
       "1  MA@GMAIL.COM     MAHESH  BHANDARI\n",
       "2  SH@GMAIL.COM  SHESHNATH  BHANDARI\n",
       "3  SU@GMAIL.COM      SUNIL   BHANDAR"
      ]
     },
     "execution_count": 185,
     "metadata": {},
     "output_type": "execute_result"
    }
   ],
   "source": [
    "df.applymap(str.upper)"
   ]
  },
  {
   "cell_type": "code",
   "execution_count": 186,
   "id": "e2487112",
   "metadata": {},
   "outputs": [
    {
     "data": {
      "text/html": [
       "<div>\n",
       "<style scoped>\n",
       "    .dataframe tbody tr th:only-of-type {\n",
       "        vertical-align: middle;\n",
       "    }\n",
       "\n",
       "    .dataframe tbody tr th {\n",
       "        vertical-align: top;\n",
       "    }\n",
       "\n",
       "    .dataframe thead th {\n",
       "        text-align: right;\n",
       "    }\n",
       "</style>\n",
       "<table border=\"1\" class=\"dataframe\">\n",
       "  <thead>\n",
       "    <tr style=\"text-align: right;\">\n",
       "      <th></th>\n",
       "      <th>email</th>\n",
       "      <th>first</th>\n",
       "      <th>last</th>\n",
       "    </tr>\n",
       "  </thead>\n",
       "  <tbody>\n",
       "    <tr>\n",
       "      <th>0</th>\n",
       "      <td>lx@gmail.com</td>\n",
       "      <td>laxmi</td>\n",
       "      <td>bhandari</td>\n",
       "    </tr>\n",
       "    <tr>\n",
       "      <th>1</th>\n",
       "      <td>ma@gmail.com</td>\n",
       "      <td>mahesh</td>\n",
       "      <td>bhandari</td>\n",
       "    </tr>\n",
       "    <tr>\n",
       "      <th>2</th>\n",
       "      <td>sh@gmail.com</td>\n",
       "      <td>sheshnath</td>\n",
       "      <td>bhandari</td>\n",
       "    </tr>\n",
       "    <tr>\n",
       "      <th>3</th>\n",
       "      <td>su@gmail.com</td>\n",
       "      <td>sunil</td>\n",
       "      <td>bhandar</td>\n",
       "    </tr>\n",
       "  </tbody>\n",
       "</table>\n",
       "</div>"
      ],
      "text/plain": [
       "          email      first      last\n",
       "0  lx@gmail.com      laxmi  bhandari\n",
       "1  ma@gmail.com     mahesh  bhandari\n",
       "2  sh@gmail.com  sheshnath  bhandari\n",
       "3  su@gmail.com      sunil   bhandar"
      ]
     },
     "execution_count": 186,
     "metadata": {},
     "output_type": "execute_result"
    }
   ],
   "source": [
    "df.applymap(str.lower)"
   ]
  },
  {
   "cell_type": "code",
   "execution_count": 187,
   "id": "66fda482",
   "metadata": {},
   "outputs": [],
   "source": [
    "#MAP"
   ]
  },
  {
   "cell_type": "code",
   "execution_count": 189,
   "id": "8fa5a11a",
   "metadata": {},
   "outputs": [],
   "source": [
    "#map is used to substitute each values in a series with another value.\n",
    "#here the dictionary comes into the picture."
   ]
  },
  {
   "cell_type": "code",
   "execution_count": 191,
   "id": "7e8556f6",
   "metadata": {},
   "outputs": [
    {
     "data": {
      "text/plain": [
       "0    NaN\n",
       "1    NaN\n",
       "2    NaN\n",
       "3    men\n",
       "Name: first, dtype: object"
      ]
     },
     "execution_count": 191,
     "metadata": {},
     "output_type": "execute_result"
    }
   ],
   "source": [
    "df['first'].map({'sunil':'men'})"
   ]
  },
  {
   "cell_type": "code",
   "execution_count": 193,
   "id": "dc3060d8",
   "metadata": {},
   "outputs": [],
   "source": [
    "#the drawback of using map is that if we donot change the any word it will not be viewed same,\n",
    "#rather  it will show NaN"
   ]
  },
  {
   "cell_type": "code",
   "execution_count": 194,
   "id": "737d1530",
   "metadata": {},
   "outputs": [],
   "source": [
    "#so REPLACE comes into the picture.\n"
   ]
  },
  {
   "cell_type": "code",
   "execution_count": 195,
   "id": "00808164",
   "metadata": {},
   "outputs": [],
   "source": [
    "#REPLACE"
   ]
  },
  {
   "cell_type": "code",
   "execution_count": 196,
   "id": "e3166a7c",
   "metadata": {},
   "outputs": [
    {
     "data": {
      "text/plain": [
       "0        laxmi\n",
       "1       mahesh\n",
       "2    sheshnath\n",
       "3        sunil\n",
       "Name: first, dtype: object"
      ]
     },
     "execution_count": 196,
     "metadata": {},
     "output_type": "execute_result"
    }
   ],
   "source": [
    "df['first'].replace({'men':'sunil'})"
   ]
  },
  {
   "cell_type": "code",
   "execution_count": 197,
   "id": "9c724bc7",
   "metadata": {},
   "outputs": [
    {
     "data": {
      "text/html": [
       "<div>\n",
       "<style scoped>\n",
       "    .dataframe tbody tr th:only-of-type {\n",
       "        vertical-align: middle;\n",
       "    }\n",
       "\n",
       "    .dataframe tbody tr th {\n",
       "        vertical-align: top;\n",
       "    }\n",
       "\n",
       "    .dataframe thead th {\n",
       "        text-align: right;\n",
       "    }\n",
       "</style>\n",
       "<table border=\"1\" class=\"dataframe\">\n",
       "  <thead>\n",
       "    <tr style=\"text-align: right;\">\n",
       "      <th></th>\n",
       "      <th>email</th>\n",
       "      <th>first</th>\n",
       "      <th>last</th>\n",
       "    </tr>\n",
       "  </thead>\n",
       "  <tbody>\n",
       "    <tr>\n",
       "      <th>0</th>\n",
       "      <td>lx@gmail.com</td>\n",
       "      <td>laxmi</td>\n",
       "      <td>bhandari</td>\n",
       "    </tr>\n",
       "    <tr>\n",
       "      <th>1</th>\n",
       "      <td>ma@gmail.com</td>\n",
       "      <td>mahesh</td>\n",
       "      <td>bhandari</td>\n",
       "    </tr>\n",
       "    <tr>\n",
       "      <th>2</th>\n",
       "      <td>sh@gmail.com</td>\n",
       "      <td>sheshnath</td>\n",
       "      <td>bhandari</td>\n",
       "    </tr>\n",
       "    <tr>\n",
       "      <th>3</th>\n",
       "      <td>su@gmail.com</td>\n",
       "      <td>sunil</td>\n",
       "      <td>bhandar</td>\n",
       "    </tr>\n",
       "  </tbody>\n",
       "</table>\n",
       "</div>"
      ],
      "text/plain": [
       "          email      first      last\n",
       "0  lx@gmail.com      laxmi  bhandari\n",
       "1  ma@gmail.com     mahesh  bhandari\n",
       "2  sh@gmail.com  sheshnath  bhandari\n",
       "3  su@gmail.com      sunil   bhandar"
      ]
     },
     "execution_count": 197,
     "metadata": {},
     "output_type": "execute_result"
    }
   ],
   "source": [
    "df"
   ]
  },
  {
   "cell_type": "code",
   "execution_count": null,
   "id": "663d37af",
   "metadata": {},
   "outputs": [],
   "source": []
  }
 ],
 "metadata": {
  "kernelspec": {
   "display_name": "Python 3 (ipykernel)",
   "language": "python",
   "name": "python3"
  },
  "language_info": {
   "codemirror_mode": {
    "name": "ipython",
    "version": 3
   },
   "file_extension": ".py",
   "mimetype": "text/x-python",
   "name": "python",
   "nbconvert_exporter": "python",
   "pygments_lexer": "ipython3",
   "version": "3.9.13"
  }
 },
 "nbformat": 4,
 "nbformat_minor": 5
}
