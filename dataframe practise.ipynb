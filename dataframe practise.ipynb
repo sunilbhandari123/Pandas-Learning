{
 "cells": [
  {
   "cell_type": "code",
   "execution_count": 22,
   "id": "425110ee",
   "metadata": {},
   "outputs": [],
   "source": [
    "family={\n",
    "    \"first\":[\"laxmi\",\"mahesh\",\"sheshnath\",\"sunil\"],\n",
    "    \"last\":[\"bhandari\",\"bhandari\",\"bhandari\",\"bhandar\"],\n",
    "    \"email\":[\"lx@gmail.com\",\"ma@gmail.com\",\"sh@gmail.com\",\"su@gmail.com\"]\n",
    "}"
   ]
  },
  {
   "cell_type": "code",
   "execution_count": 23,
   "id": "14f119cf",
   "metadata": {},
   "outputs": [],
   "source": [
    "import pandas as pd "
   ]
  },
  {
   "cell_type": "code",
   "execution_count": 24,
   "id": "de5abac6",
   "metadata": {},
   "outputs": [],
   "source": [
    "df=pd.DataFrame(family)"
   ]
  },
  {
   "cell_type": "code",
   "execution_count": 25,
   "id": "bcb5b3b4",
   "metadata": {},
   "outputs": [
    {
     "data": {
      "text/html": [
       "<div>\n",
       "<style scoped>\n",
       "    .dataframe tbody tr th:only-of-type {\n",
       "        vertical-align: middle;\n",
       "    }\n",
       "\n",
       "    .dataframe tbody tr th {\n",
       "        vertical-align: top;\n",
       "    }\n",
       "\n",
       "    .dataframe thead th {\n",
       "        text-align: right;\n",
       "    }\n",
       "</style>\n",
       "<table border=\"1\" class=\"dataframe\">\n",
       "  <thead>\n",
       "    <tr style=\"text-align: right;\">\n",
       "      <th></th>\n",
       "      <th>first</th>\n",
       "      <th>last</th>\n",
       "      <th>email</th>\n",
       "    </tr>\n",
       "  </thead>\n",
       "  <tbody>\n",
       "    <tr>\n",
       "      <th>0</th>\n",
       "      <td>laxmi</td>\n",
       "      <td>bhandari</td>\n",
       "      <td>lx@gmail.com</td>\n",
       "    </tr>\n",
       "    <tr>\n",
       "      <th>1</th>\n",
       "      <td>mahesh</td>\n",
       "      <td>bhandari</td>\n",
       "      <td>ma@gmail.com</td>\n",
       "    </tr>\n",
       "    <tr>\n",
       "      <th>2</th>\n",
       "      <td>sheshnath</td>\n",
       "      <td>bhandari</td>\n",
       "      <td>sh@gmail.com</td>\n",
       "    </tr>\n",
       "    <tr>\n",
       "      <th>3</th>\n",
       "      <td>sunil</td>\n",
       "      <td>bhandar</td>\n",
       "      <td>su@gmail.com</td>\n",
       "    </tr>\n",
       "  </tbody>\n",
       "</table>\n",
       "</div>"
      ],
      "text/plain": [
       "       first      last         email\n",
       "0      laxmi  bhandari  lx@gmail.com\n",
       "1     mahesh  bhandari  ma@gmail.com\n",
       "2  sheshnath  bhandari  sh@gmail.com\n",
       "3      sunil   bhandar  su@gmail.com"
      ]
     },
     "execution_count": 25,
     "metadata": {},
     "output_type": "execute_result"
    }
   ],
   "source": [
    "df"
   ]
  },
  {
   "cell_type": "code",
   "execution_count": 26,
   "id": "1a0e0f3d",
   "metadata": {},
   "outputs": [
    {
     "data": {
      "text/plain": [
       "type[0    lx@gmail.com\n",
       "1    ma@gmail.com\n",
       "2    sh@gmail.com\n",
       "3    su@gmail.com\n",
       "Name: email, dtype: object]"
      ]
     },
     "execution_count": 26,
     "metadata": {},
     "output_type": "execute_result"
    }
   ],
   "source": [
    "type[df[\"email\"]]"
   ]
  },
  {
   "cell_type": "code",
   "execution_count": 27,
   "id": "f0adb69e",
   "metadata": {},
   "outputs": [
    {
     "data": {
      "text/plain": [
       "0    lx@gmail.com\n",
       "1    ma@gmail.com\n",
       "2    sh@gmail.com\n",
       "3    su@gmail.com\n",
       "Name: email, dtype: object"
      ]
     },
     "execution_count": 27,
     "metadata": {},
     "output_type": "execute_result"
    }
   ],
   "source": [
    "df.email"
   ]
  },
  {
   "cell_type": "code",
   "execution_count": 28,
   "id": "178ad71c",
   "metadata": {},
   "outputs": [
    {
     "data": {
      "text/plain": [
       "0    lx@gmail.com\n",
       "1    ma@gmail.com\n",
       "2    sh@gmail.com\n",
       "3    su@gmail.com\n",
       "Name: email, dtype: object"
      ]
     },
     "execution_count": 28,
     "metadata": {},
     "output_type": "execute_result"
    }
   ],
   "source": [
    "df['email']"
   ]
  },
  {
   "cell_type": "code",
   "execution_count": 29,
   "id": "13d3993e",
   "metadata": {},
   "outputs": [
    {
     "data": {
      "text/html": [
       "<div>\n",
       "<style scoped>\n",
       "    .dataframe tbody tr th:only-of-type {\n",
       "        vertical-align: middle;\n",
       "    }\n",
       "\n",
       "    .dataframe tbody tr th {\n",
       "        vertical-align: top;\n",
       "    }\n",
       "\n",
       "    .dataframe thead th {\n",
       "        text-align: right;\n",
       "    }\n",
       "</style>\n",
       "<table border=\"1\" class=\"dataframe\">\n",
       "  <thead>\n",
       "    <tr style=\"text-align: right;\">\n",
       "      <th></th>\n",
       "      <th>first</th>\n",
       "      <th>last</th>\n",
       "      <th>email</th>\n",
       "    </tr>\n",
       "  </thead>\n",
       "  <tbody>\n",
       "    <tr>\n",
       "      <th>0</th>\n",
       "      <td>laxmi</td>\n",
       "      <td>bhandari</td>\n",
       "      <td>lx@gmail.com</td>\n",
       "    </tr>\n",
       "    <tr>\n",
       "      <th>1</th>\n",
       "      <td>mahesh</td>\n",
       "      <td>bhandari</td>\n",
       "      <td>ma@gmail.com</td>\n",
       "    </tr>\n",
       "    <tr>\n",
       "      <th>2</th>\n",
       "      <td>sheshnath</td>\n",
       "      <td>bhandari</td>\n",
       "      <td>sh@gmail.com</td>\n",
       "    </tr>\n",
       "    <tr>\n",
       "      <th>3</th>\n",
       "      <td>sunil</td>\n",
       "      <td>bhandar</td>\n",
       "      <td>su@gmail.com</td>\n",
       "    </tr>\n",
       "  </tbody>\n",
       "</table>\n",
       "</div>"
      ],
      "text/plain": [
       "       first      last         email\n",
       "0      laxmi  bhandari  lx@gmail.com\n",
       "1     mahesh  bhandari  ma@gmail.com\n",
       "2  sheshnath  bhandari  sh@gmail.com\n",
       "3      sunil   bhandar  su@gmail.com"
      ]
     },
     "execution_count": 29,
     "metadata": {},
     "output_type": "execute_result"
    }
   ],
   "source": [
    "df[['first','last',\"email\"]]"
   ]
  },
  {
   "cell_type": "code",
   "execution_count": 30,
   "id": "3a453421",
   "metadata": {},
   "outputs": [
    {
     "data": {
      "text/plain": [
       "Index(['first', 'last', 'email'], dtype='object')"
      ]
     },
     "execution_count": 30,
     "metadata": {},
     "output_type": "execute_result"
    }
   ],
   "source": [
    "df.columns"
   ]
  },
  {
   "cell_type": "code",
   "execution_count": 31,
   "id": "bf98a5e6",
   "metadata": {},
   "outputs": [
    {
     "data": {
      "text/plain": [
       "first           laxmi\n",
       "last         bhandari\n",
       "email    lx@gmail.com\n",
       "Name: 0, dtype: object"
      ]
     },
     "execution_count": 31,
     "metadata": {},
     "output_type": "execute_result"
    }
   ],
   "source": [
    "df.iloc[0]"
   ]
  },
  {
   "cell_type": "code",
   "execution_count": 32,
   "id": "22c84f7d",
   "metadata": {},
   "outputs": [
    {
     "data": {
      "text/plain": [
       "0     laxmi\n",
       "1    mahesh\n",
       "Name: first, dtype: object"
      ]
     },
     "execution_count": 32,
     "metadata": {},
     "output_type": "execute_result"
    }
   ],
   "source": [
    "df.iloc[[0,1],0]"
   ]
  },
  {
   "cell_type": "code",
   "execution_count": 33,
   "id": "54821bac",
   "metadata": {},
   "outputs": [
    {
     "data": {
      "text/plain": [
       "0     laxmi\n",
       "1    mahesh\n",
       "Name: first, dtype: object"
      ]
     },
     "execution_count": 33,
     "metadata": {},
     "output_type": "execute_result"
    }
   ],
   "source": [
    "df.loc[[0,1],\"first\"]"
   ]
  },
  {
   "cell_type": "code",
   "execution_count": 34,
   "id": "4d2496b0",
   "metadata": {},
   "outputs": [
    {
     "data": {
      "text/html": [
       "<div>\n",
       "<style scoped>\n",
       "    .dataframe tbody tr th:only-of-type {\n",
       "        vertical-align: middle;\n",
       "    }\n",
       "\n",
       "    .dataframe tbody tr th {\n",
       "        vertical-align: top;\n",
       "    }\n",
       "\n",
       "    .dataframe thead th {\n",
       "        text-align: right;\n",
       "    }\n",
       "</style>\n",
       "<table border=\"1\" class=\"dataframe\">\n",
       "  <thead>\n",
       "    <tr style=\"text-align: right;\">\n",
       "      <th></th>\n",
       "      <th>first</th>\n",
       "      <th>last</th>\n",
       "    </tr>\n",
       "    <tr>\n",
       "      <th>email</th>\n",
       "      <th></th>\n",
       "      <th></th>\n",
       "    </tr>\n",
       "  </thead>\n",
       "  <tbody>\n",
       "    <tr>\n",
       "      <th>lx@gmail.com</th>\n",
       "      <td>laxmi</td>\n",
       "      <td>bhandari</td>\n",
       "    </tr>\n",
       "    <tr>\n",
       "      <th>ma@gmail.com</th>\n",
       "      <td>mahesh</td>\n",
       "      <td>bhandari</td>\n",
       "    </tr>\n",
       "    <tr>\n",
       "      <th>sh@gmail.com</th>\n",
       "      <td>sheshnath</td>\n",
       "      <td>bhandari</td>\n",
       "    </tr>\n",
       "    <tr>\n",
       "      <th>su@gmail.com</th>\n",
       "      <td>sunil</td>\n",
       "      <td>bhandar</td>\n",
       "    </tr>\n",
       "  </tbody>\n",
       "</table>\n",
       "</div>"
      ],
      "text/plain": [
       "                  first      last\n",
       "email                            \n",
       "lx@gmail.com      laxmi  bhandari\n",
       "ma@gmail.com     mahesh  bhandari\n",
       "sh@gmail.com  sheshnath  bhandari\n",
       "su@gmail.com      sunil   bhandar"
      ]
     },
     "execution_count": 34,
     "metadata": {},
     "output_type": "execute_result"
    }
   ],
   "source": [
    "df.set_index('email')"
   ]
  },
  {
   "cell_type": "code",
   "execution_count": 35,
   "id": "110f38a1",
   "metadata": {},
   "outputs": [
    {
     "data": {
      "text/html": [
       "<div>\n",
       "<style scoped>\n",
       "    .dataframe tbody tr th:only-of-type {\n",
       "        vertical-align: middle;\n",
       "    }\n",
       "\n",
       "    .dataframe tbody tr th {\n",
       "        vertical-align: top;\n",
       "    }\n",
       "\n",
       "    .dataframe thead th {\n",
       "        text-align: right;\n",
       "    }\n",
       "</style>\n",
       "<table border=\"1\" class=\"dataframe\">\n",
       "  <thead>\n",
       "    <tr style=\"text-align: right;\">\n",
       "      <th></th>\n",
       "      <th>first</th>\n",
       "      <th>last</th>\n",
       "      <th>email</th>\n",
       "    </tr>\n",
       "  </thead>\n",
       "  <tbody>\n",
       "    <tr>\n",
       "      <th>0</th>\n",
       "      <td>laxmi</td>\n",
       "      <td>bhandari</td>\n",
       "      <td>lx@gmail.com</td>\n",
       "    </tr>\n",
       "    <tr>\n",
       "      <th>1</th>\n",
       "      <td>mahesh</td>\n",
       "      <td>bhandari</td>\n",
       "      <td>ma@gmail.com</td>\n",
       "    </tr>\n",
       "    <tr>\n",
       "      <th>2</th>\n",
       "      <td>sheshnath</td>\n",
       "      <td>bhandari</td>\n",
       "      <td>sh@gmail.com</td>\n",
       "    </tr>\n",
       "    <tr>\n",
       "      <th>3</th>\n",
       "      <td>sunil</td>\n",
       "      <td>bhandar</td>\n",
       "      <td>su@gmail.com</td>\n",
       "    </tr>\n",
       "  </tbody>\n",
       "</table>\n",
       "</div>"
      ],
      "text/plain": [
       "       first      last         email\n",
       "0      laxmi  bhandari  lx@gmail.com\n",
       "1     mahesh  bhandari  ma@gmail.com\n",
       "2  sheshnath  bhandari  sh@gmail.com\n",
       "3      sunil   bhandar  su@gmail.com"
      ]
     },
     "execution_count": 35,
     "metadata": {},
     "output_type": "execute_result"
    }
   ],
   "source": [
    "df"
   ]
  },
  {
   "cell_type": "code",
   "execution_count": 36,
   "id": "0b092604",
   "metadata": {},
   "outputs": [],
   "source": [
    "df.set_index('email',inplace=True)"
   ]
  },
  {
   "cell_type": "code",
   "execution_count": 37,
   "id": "74290ca8",
   "metadata": {},
   "outputs": [
    {
     "data": {
      "text/html": [
       "<div>\n",
       "<style scoped>\n",
       "    .dataframe tbody tr th:only-of-type {\n",
       "        vertical-align: middle;\n",
       "    }\n",
       "\n",
       "    .dataframe tbody tr th {\n",
       "        vertical-align: top;\n",
       "    }\n",
       "\n",
       "    .dataframe thead th {\n",
       "        text-align: right;\n",
       "    }\n",
       "</style>\n",
       "<table border=\"1\" class=\"dataframe\">\n",
       "  <thead>\n",
       "    <tr style=\"text-align: right;\">\n",
       "      <th></th>\n",
       "      <th>first</th>\n",
       "      <th>last</th>\n",
       "    </tr>\n",
       "    <tr>\n",
       "      <th>email</th>\n",
       "      <th></th>\n",
       "      <th></th>\n",
       "    </tr>\n",
       "  </thead>\n",
       "  <tbody>\n",
       "    <tr>\n",
       "      <th>lx@gmail.com</th>\n",
       "      <td>laxmi</td>\n",
       "      <td>bhandari</td>\n",
       "    </tr>\n",
       "    <tr>\n",
       "      <th>ma@gmail.com</th>\n",
       "      <td>mahesh</td>\n",
       "      <td>bhandari</td>\n",
       "    </tr>\n",
       "    <tr>\n",
       "      <th>sh@gmail.com</th>\n",
       "      <td>sheshnath</td>\n",
       "      <td>bhandari</td>\n",
       "    </tr>\n",
       "    <tr>\n",
       "      <th>su@gmail.com</th>\n",
       "      <td>sunil</td>\n",
       "      <td>bhandar</td>\n",
       "    </tr>\n",
       "  </tbody>\n",
       "</table>\n",
       "</div>"
      ],
      "text/plain": [
       "                  first      last\n",
       "email                            \n",
       "lx@gmail.com      laxmi  bhandari\n",
       "ma@gmail.com     mahesh  bhandari\n",
       "sh@gmail.com  sheshnath  bhandari\n",
       "su@gmail.com      sunil   bhandar"
      ]
     },
     "execution_count": 37,
     "metadata": {},
     "output_type": "execute_result"
    }
   ],
   "source": [
    "df"
   ]
  },
  {
   "cell_type": "code",
   "execution_count": 38,
   "id": "33de3fc2",
   "metadata": {},
   "outputs": [
    {
     "data": {
      "text/plain": [
       "'bhandar'"
      ]
     },
     "execution_count": 38,
     "metadata": {},
     "output_type": "execute_result"
    }
   ],
   "source": [
    "df.loc['su@gmail.com','last']"
   ]
  },
  {
   "cell_type": "code",
   "execution_count": 39,
   "id": "1e27499e",
   "metadata": {},
   "outputs": [
    {
     "data": {
      "text/plain": [
       "first       laxmi\n",
       "last     bhandari\n",
       "Name: lx@gmail.com, dtype: object"
      ]
     },
     "execution_count": 39,
     "metadata": {},
     "output_type": "execute_result"
    }
   ],
   "source": [
    "df.loc['lx@gmail.com']"
   ]
  },
  {
   "cell_type": "code",
   "execution_count": 40,
   "id": "b7d30539",
   "metadata": {},
   "outputs": [
    {
     "data": {
      "text/plain": [
       "first       laxmi\n",
       "last     bhandari\n",
       "Name: lx@gmail.com, dtype: object"
      ]
     },
     "execution_count": 40,
     "metadata": {},
     "output_type": "execute_result"
    }
   ],
   "source": [
    "df.iloc[0]"
   ]
  },
  {
   "cell_type": "code",
   "execution_count": 41,
   "id": "342e3041",
   "metadata": {},
   "outputs": [],
   "source": [
    "df.reset_index(inplace=True)"
   ]
  },
  {
   "cell_type": "code",
   "execution_count": 42,
   "id": "38b16566",
   "metadata": {},
   "outputs": [
    {
     "data": {
      "text/html": [
       "<div>\n",
       "<style scoped>\n",
       "    .dataframe tbody tr th:only-of-type {\n",
       "        vertical-align: middle;\n",
       "    }\n",
       "\n",
       "    .dataframe tbody tr th {\n",
       "        vertical-align: top;\n",
       "    }\n",
       "\n",
       "    .dataframe thead th {\n",
       "        text-align: right;\n",
       "    }\n",
       "</style>\n",
       "<table border=\"1\" class=\"dataframe\">\n",
       "  <thead>\n",
       "    <tr style=\"text-align: right;\">\n",
       "      <th></th>\n",
       "      <th>email</th>\n",
       "      <th>first</th>\n",
       "      <th>last</th>\n",
       "    </tr>\n",
       "  </thead>\n",
       "  <tbody>\n",
       "    <tr>\n",
       "      <th>0</th>\n",
       "      <td>lx@gmail.com</td>\n",
       "      <td>laxmi</td>\n",
       "      <td>bhandari</td>\n",
       "    </tr>\n",
       "    <tr>\n",
       "      <th>1</th>\n",
       "      <td>ma@gmail.com</td>\n",
       "      <td>mahesh</td>\n",
       "      <td>bhandari</td>\n",
       "    </tr>\n",
       "    <tr>\n",
       "      <th>2</th>\n",
       "      <td>sh@gmail.com</td>\n",
       "      <td>sheshnath</td>\n",
       "      <td>bhandari</td>\n",
       "    </tr>\n",
       "    <tr>\n",
       "      <th>3</th>\n",
       "      <td>su@gmail.com</td>\n",
       "      <td>sunil</td>\n",
       "      <td>bhandar</td>\n",
       "    </tr>\n",
       "  </tbody>\n",
       "</table>\n",
       "</div>"
      ],
      "text/plain": [
       "          email      first      last\n",
       "0  lx@gmail.com      laxmi  bhandari\n",
       "1  ma@gmail.com     mahesh  bhandari\n",
       "2  sh@gmail.com  sheshnath  bhandari\n",
       "3  su@gmail.com      sunil   bhandar"
      ]
     },
     "execution_count": 42,
     "metadata": {},
     "output_type": "execute_result"
    }
   ],
   "source": [
    "df\n"
   ]
  },
  {
   "cell_type": "code",
   "execution_count": 44,
   "id": "01949233",
   "metadata": {},
   "outputs": [],
   "source": [
    "\n",
    "#now using flitering the data to use what we want."
   ]
  },
  {
   "cell_type": "code",
   "execution_count": 45,
   "id": "062e6f73",
   "metadata": {},
   "outputs": [
    {
     "data": {
      "text/plain": [
       "0     True\n",
       "1     True\n",
       "2     True\n",
       "3    False\n",
       "Name: last, dtype: bool"
      ]
     },
     "execution_count": 45,
     "metadata": {},
     "output_type": "execute_result"
    }
   ],
   "source": [
    "df['last']=='bhandari'"
   ]
  },
  {
   "cell_type": "code",
   "execution_count": 46,
   "id": "ca27bc14",
   "metadata": {},
   "outputs": [],
   "source": [
    "#here it returns only the boolen value so it is difficult for us to see,know so we use filter."
   ]
  },
  {
   "cell_type": "code",
   "execution_count": 47,
   "id": "156dec56",
   "metadata": {},
   "outputs": [],
   "source": [
    "filt=(df['last']=='bhandari')"
   ]
  },
  {
   "cell_type": "code",
   "execution_count": 51,
   "id": "c2b620b5",
   "metadata": {},
   "outputs": [
    {
     "data": {
      "text/html": [
       "<div>\n",
       "<style scoped>\n",
       "    .dataframe tbody tr th:only-of-type {\n",
       "        vertical-align: middle;\n",
       "    }\n",
       "\n",
       "    .dataframe tbody tr th {\n",
       "        vertical-align: top;\n",
       "    }\n",
       "\n",
       "    .dataframe thead th {\n",
       "        text-align: right;\n",
       "    }\n",
       "</style>\n",
       "<table border=\"1\" class=\"dataframe\">\n",
       "  <thead>\n",
       "    <tr style=\"text-align: right;\">\n",
       "      <th></th>\n",
       "      <th>email</th>\n",
       "      <th>first</th>\n",
       "      <th>last</th>\n",
       "    </tr>\n",
       "  </thead>\n",
       "  <tbody>\n",
       "    <tr>\n",
       "      <th>0</th>\n",
       "      <td>lx@gmail.com</td>\n",
       "      <td>laxmi</td>\n",
       "      <td>bhandari</td>\n",
       "    </tr>\n",
       "    <tr>\n",
       "      <th>1</th>\n",
       "      <td>ma@gmail.com</td>\n",
       "      <td>mahesh</td>\n",
       "      <td>bhandari</td>\n",
       "    </tr>\n",
       "    <tr>\n",
       "      <th>2</th>\n",
       "      <td>sh@gmail.com</td>\n",
       "      <td>sheshnath</td>\n",
       "      <td>bhandari</td>\n",
       "    </tr>\n",
       "  </tbody>\n",
       "</table>\n",
       "</div>"
      ],
      "text/plain": [
       "          email      first      last\n",
       "0  lx@gmail.com      laxmi  bhandari\n",
       "1  ma@gmail.com     mahesh  bhandari\n",
       "2  sh@gmail.com  sheshnath  bhandari"
      ]
     },
     "execution_count": 51,
     "metadata": {},
     "output_type": "execute_result"
    }
   ],
   "source": [
    "df[filt]"
   ]
  },
  {
   "cell_type": "code",
   "execution_count": 52,
   "id": "d79c6283",
   "metadata": {},
   "outputs": [
    {
     "data": {
      "text/html": [
       "<div>\n",
       "<style scoped>\n",
       "    .dataframe tbody tr th:only-of-type {\n",
       "        vertical-align: middle;\n",
       "    }\n",
       "\n",
       "    .dataframe tbody tr th {\n",
       "        vertical-align: top;\n",
       "    }\n",
       "\n",
       "    .dataframe thead th {\n",
       "        text-align: right;\n",
       "    }\n",
       "</style>\n",
       "<table border=\"1\" class=\"dataframe\">\n",
       "  <thead>\n",
       "    <tr style=\"text-align: right;\">\n",
       "      <th></th>\n",
       "      <th>email</th>\n",
       "      <th>first</th>\n",
       "      <th>last</th>\n",
       "    </tr>\n",
       "  </thead>\n",
       "  <tbody>\n",
       "    <tr>\n",
       "      <th>0</th>\n",
       "      <td>lx@gmail.com</td>\n",
       "      <td>laxmi</td>\n",
       "      <td>bhandari</td>\n",
       "    </tr>\n",
       "    <tr>\n",
       "      <th>1</th>\n",
       "      <td>ma@gmail.com</td>\n",
       "      <td>mahesh</td>\n",
       "      <td>bhandari</td>\n",
       "    </tr>\n",
       "    <tr>\n",
       "      <th>2</th>\n",
       "      <td>sh@gmail.com</td>\n",
       "      <td>sheshnath</td>\n",
       "      <td>bhandari</td>\n",
       "    </tr>\n",
       "  </tbody>\n",
       "</table>\n",
       "</div>"
      ],
      "text/plain": [
       "          email      first      last\n",
       "0  lx@gmail.com      laxmi  bhandari\n",
       "1  ma@gmail.com     mahesh  bhandari\n",
       "2  sh@gmail.com  sheshnath  bhandari"
      ]
     },
     "execution_count": 52,
     "metadata": {},
     "output_type": "execute_result"
    }
   ],
   "source": [
    "#or we can write it as follow\n",
    "df.loc[filt]"
   ]
  },
  {
   "cell_type": "code",
   "execution_count": 50,
   "id": "66a6903f",
   "metadata": {},
   "outputs": [
    {
     "data": {
      "text/html": [
       "<div>\n",
       "<style scoped>\n",
       "    .dataframe tbody tr th:only-of-type {\n",
       "        vertical-align: middle;\n",
       "    }\n",
       "\n",
       "    .dataframe tbody tr th {\n",
       "        vertical-align: top;\n",
       "    }\n",
       "\n",
       "    .dataframe thead th {\n",
       "        text-align: right;\n",
       "    }\n",
       "</style>\n",
       "<table border=\"1\" class=\"dataframe\">\n",
       "  <thead>\n",
       "    <tr style=\"text-align: right;\">\n",
       "      <th></th>\n",
       "      <th>email</th>\n",
       "      <th>first</th>\n",
       "      <th>last</th>\n",
       "    </tr>\n",
       "  </thead>\n",
       "  <tbody>\n",
       "    <tr>\n",
       "      <th>0</th>\n",
       "      <td>lx@gmail.com</td>\n",
       "      <td>laxmi</td>\n",
       "      <td>bhandari</td>\n",
       "    </tr>\n",
       "    <tr>\n",
       "      <th>1</th>\n",
       "      <td>ma@gmail.com</td>\n",
       "      <td>mahesh</td>\n",
       "      <td>bhandari</td>\n",
       "    </tr>\n",
       "    <tr>\n",
       "      <th>2</th>\n",
       "      <td>sh@gmail.com</td>\n",
       "      <td>sheshnath</td>\n",
       "      <td>bhandari</td>\n",
       "    </tr>\n",
       "  </tbody>\n",
       "</table>\n",
       "</div>"
      ],
      "text/plain": [
       "          email      first      last\n",
       "0  lx@gmail.com      laxmi  bhandari\n",
       "1  ma@gmail.com     mahesh  bhandari\n",
       "2  sh@gmail.com  sheshnath  bhandari"
      ]
     },
     "execution_count": 50,
     "metadata": {},
     "output_type": "execute_result"
    }
   ],
   "source": [
    "#we can run it as follow also\n",
    "df[df['last']==\"bhandari\"]"
   ]
  },
  {
   "cell_type": "code",
   "execution_count": 53,
   "id": "733d8bfa",
   "metadata": {},
   "outputs": [],
   "source": [
    "#reson of perfering loc is that we can grab specific columns that we want as well"
   ]
  },
  {
   "cell_type": "code",
   "execution_count": 54,
   "id": "f10de474",
   "metadata": {},
   "outputs": [
    {
     "data": {
      "text/plain": [
       "0    lx@gmail.com\n",
       "1    ma@gmail.com\n",
       "2    sh@gmail.com\n",
       "Name: email, dtype: object"
      ]
     },
     "execution_count": 54,
     "metadata": {},
     "output_type": "execute_result"
    }
   ],
   "source": [
    "df.loc[filt,'email']"
   ]
  },
  {
   "cell_type": "code",
   "execution_count": 55,
   "id": "85e2af41",
   "metadata": {},
   "outputs": [],
   "source": [
    "#like in other langauge we can use operators here to filter thegiven data/.\n"
   ]
  },
  {
   "cell_type": "code",
   "execution_count": 58,
   "id": "0d1401e8",
   "metadata": {},
   "outputs": [],
   "source": [
    "filt=(df['last']=='bhandari')&(df['first']=='laxmi')"
   ]
  },
  {
   "cell_type": "code",
   "execution_count": 63,
   "id": "aed0d70a",
   "metadata": {},
   "outputs": [
    {
     "data": {
      "text/plain": [
       "0    lx@gmail.com\n",
       "Name: email, dtype: object"
      ]
     },
     "execution_count": 63,
     "metadata": {},
     "output_type": "execute_result"
    }
   ],
   "source": [
    "df.loc[filt,'email']"
   ]
  },
  {
   "cell_type": "code",
   "execution_count": 64,
   "id": "5f8aed89",
   "metadata": {},
   "outputs": [],
   "source": [
    "filt=(df['last']==\"bhandari\")|(df['last']=='bhandar')"
   ]
  },
  {
   "cell_type": "code",
   "execution_count": 65,
   "id": "8d80617a",
   "metadata": {},
   "outputs": [
    {
     "data": {
      "text/plain": [
       "0    lx@gmail.com\n",
       "1    ma@gmail.com\n",
       "2    sh@gmail.com\n",
       "3    su@gmail.com\n",
       "Name: email, dtype: object"
      ]
     },
     "execution_count": 65,
     "metadata": {},
     "output_type": "execute_result"
    }
   ],
   "source": [
    "df.loc[filt,'email']"
   ]
  },
  {
   "cell_type": "code",
   "execution_count": 66,
   "id": "2ff085c0",
   "metadata": {},
   "outputs": [],
   "source": [
    "filt=(df['last']=='bhandari')&(df['first']=='laxmi')\n"
   ]
  },
  {
   "cell_type": "code",
   "execution_count": 67,
   "id": "69f83a09",
   "metadata": {},
   "outputs": [
    {
     "data": {
      "text/plain": [
       "1    ma@gmail.com\n",
       "2    sh@gmail.com\n",
       "3    su@gmail.com\n",
       "Name: email, dtype: object"
      ]
     },
     "execution_count": 67,
     "metadata": {},
     "output_type": "execute_result"
    }
   ],
   "source": [
    "df.loc[~filt,\"email\"]"
   ]
  },
  {
   "cell_type": "code",
   "execution_count": null,
   "id": "e8affded",
   "metadata": {},
   "outputs": [],
   "source": []
  }
 ],
 "metadata": {
  "kernelspec": {
   "display_name": "Python 3 (ipykernel)",
   "language": "python",
   "name": "python3"
  },
  "language_info": {
   "codemirror_mode": {
    "name": "ipython",
    "version": 3
   },
   "file_extension": ".py",
   "mimetype": "text/x-python",
   "name": "python",
   "nbconvert_exporter": "python",
   "pygments_lexer": "ipython3",
   "version": "3.9.13"
  }
 },
 "nbformat": 4,
 "nbformat_minor": 5
}
