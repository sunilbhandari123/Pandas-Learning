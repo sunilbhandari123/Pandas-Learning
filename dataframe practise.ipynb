{
 "cells": [
  {
   "cell_type": "code",
   "execution_count": 2,
   "id": "425110ee",
   "metadata": {},
   "outputs": [],
   "source": [
    "family={\n",
    "    \"first\":[\"laxmi\",\"mahesh\",\"sheshnath\",\"sunil\"],\n",
    "    \"last\":[\"bhandari\",\"bhandari\",\"bhandari\",\"bhandar\"],\n",
    "    \"email\":[\"lx@gmail.com\",\"ma@gmail.com\",\"sh@gmail.com\",\"su@gmail.com\"]\n",
    "}"
   ]
  },
  {
   "cell_type": "code",
   "execution_count": 3,
   "id": "14f119cf",
   "metadata": {},
   "outputs": [],
   "source": [
    "import pandas as pd "
   ]
  },
  {
   "cell_type": "code",
   "execution_count": 4,
   "id": "de5abac6",
   "metadata": {},
   "outputs": [],
   "source": [
    "df=pd.DataFrame(family)"
   ]
  },
  {
   "cell_type": "code",
   "execution_count": 5,
   "id": "bcb5b3b4",
   "metadata": {},
   "outputs": [
    {
     "data": {
      "text/html": [
       "<div>\n",
       "<style scoped>\n",
       "    .dataframe tbody tr th:only-of-type {\n",
       "        vertical-align: middle;\n",
       "    }\n",
       "\n",
       "    .dataframe tbody tr th {\n",
       "        vertical-align: top;\n",
       "    }\n",
       "\n",
       "    .dataframe thead th {\n",
       "        text-align: right;\n",
       "    }\n",
       "</style>\n",
       "<table border=\"1\" class=\"dataframe\">\n",
       "  <thead>\n",
       "    <tr style=\"text-align: right;\">\n",
       "      <th></th>\n",
       "      <th>first</th>\n",
       "      <th>last</th>\n",
       "      <th>email</th>\n",
       "    </tr>\n",
       "  </thead>\n",
       "  <tbody>\n",
       "    <tr>\n",
       "      <th>0</th>\n",
       "      <td>laxmi</td>\n",
       "      <td>bhandari</td>\n",
       "      <td>lx@gmail.com</td>\n",
       "    </tr>\n",
       "    <tr>\n",
       "      <th>1</th>\n",
       "      <td>mahesh</td>\n",
       "      <td>bhandari</td>\n",
       "      <td>ma@gmail.com</td>\n",
       "    </tr>\n",
       "    <tr>\n",
       "      <th>2</th>\n",
       "      <td>sheshnath</td>\n",
       "      <td>bhandari</td>\n",
       "      <td>sh@gmail.com</td>\n",
       "    </tr>\n",
       "    <tr>\n",
       "      <th>3</th>\n",
       "      <td>sunil</td>\n",
       "      <td>bhandar</td>\n",
       "      <td>su@gmail.com</td>\n",
       "    </tr>\n",
       "  </tbody>\n",
       "</table>\n",
       "</div>"
      ],
      "text/plain": [
       "       first      last         email\n",
       "0      laxmi  bhandari  lx@gmail.com\n",
       "1     mahesh  bhandari  ma@gmail.com\n",
       "2  sheshnath  bhandari  sh@gmail.com\n",
       "3      sunil   bhandar  su@gmail.com"
      ]
     },
     "execution_count": 5,
     "metadata": {},
     "output_type": "execute_result"
    }
   ],
   "source": [
    "df"
   ]
  },
  {
   "cell_type": "code",
   "execution_count": 6,
   "id": "1a0e0f3d",
   "metadata": {},
   "outputs": [
    {
     "data": {
      "text/plain": [
       "type[0    lx@gmail.com\n",
       "1    ma@gmail.com\n",
       "2    sh@gmail.com\n",
       "3    su@gmail.com\n",
       "Name: email, dtype: object]"
      ]
     },
     "execution_count": 6,
     "metadata": {},
     "output_type": "execute_result"
    }
   ],
   "source": [
    "type[df[\"email\"]]"
   ]
  },
  {
   "cell_type": "code",
   "execution_count": 7,
   "id": "f0adb69e",
   "metadata": {},
   "outputs": [
    {
     "data": {
      "text/plain": [
       "0    lx@gmail.com\n",
       "1    ma@gmail.com\n",
       "2    sh@gmail.com\n",
       "3    su@gmail.com\n",
       "Name: email, dtype: object"
      ]
     },
     "execution_count": 7,
     "metadata": {},
     "output_type": "execute_result"
    }
   ],
   "source": [
    "df.email"
   ]
  },
  {
   "cell_type": "code",
   "execution_count": 8,
   "id": "178ad71c",
   "metadata": {},
   "outputs": [
    {
     "data": {
      "text/plain": [
       "0    lx@gmail.com\n",
       "1    ma@gmail.com\n",
       "2    sh@gmail.com\n",
       "3    su@gmail.com\n",
       "Name: email, dtype: object"
      ]
     },
     "execution_count": 8,
     "metadata": {},
     "output_type": "execute_result"
    }
   ],
   "source": [
    "df['email']"
   ]
  },
  {
   "cell_type": "code",
   "execution_count": 9,
   "id": "13d3993e",
   "metadata": {},
   "outputs": [
    {
     "data": {
      "text/html": [
       "<div>\n",
       "<style scoped>\n",
       "    .dataframe tbody tr th:only-of-type {\n",
       "        vertical-align: middle;\n",
       "    }\n",
       "\n",
       "    .dataframe tbody tr th {\n",
       "        vertical-align: top;\n",
       "    }\n",
       "\n",
       "    .dataframe thead th {\n",
       "        text-align: right;\n",
       "    }\n",
       "</style>\n",
       "<table border=\"1\" class=\"dataframe\">\n",
       "  <thead>\n",
       "    <tr style=\"text-align: right;\">\n",
       "      <th></th>\n",
       "      <th>first</th>\n",
       "      <th>last</th>\n",
       "      <th>email</th>\n",
       "    </tr>\n",
       "  </thead>\n",
       "  <tbody>\n",
       "    <tr>\n",
       "      <th>0</th>\n",
       "      <td>laxmi</td>\n",
       "      <td>bhandari</td>\n",
       "      <td>lx@gmail.com</td>\n",
       "    </tr>\n",
       "    <tr>\n",
       "      <th>1</th>\n",
       "      <td>mahesh</td>\n",
       "      <td>bhandari</td>\n",
       "      <td>ma@gmail.com</td>\n",
       "    </tr>\n",
       "    <tr>\n",
       "      <th>2</th>\n",
       "      <td>sheshnath</td>\n",
       "      <td>bhandari</td>\n",
       "      <td>sh@gmail.com</td>\n",
       "    </tr>\n",
       "    <tr>\n",
       "      <th>3</th>\n",
       "      <td>sunil</td>\n",
       "      <td>bhandar</td>\n",
       "      <td>su@gmail.com</td>\n",
       "    </tr>\n",
       "  </tbody>\n",
       "</table>\n",
       "</div>"
      ],
      "text/plain": [
       "       first      last         email\n",
       "0      laxmi  bhandari  lx@gmail.com\n",
       "1     mahesh  bhandari  ma@gmail.com\n",
       "2  sheshnath  bhandari  sh@gmail.com\n",
       "3      sunil   bhandar  su@gmail.com"
      ]
     },
     "execution_count": 9,
     "metadata": {},
     "output_type": "execute_result"
    }
   ],
   "source": [
    "df[['first','last',\"email\"]]"
   ]
  },
  {
   "cell_type": "code",
   "execution_count": 10,
   "id": "3a453421",
   "metadata": {},
   "outputs": [
    {
     "data": {
      "text/plain": [
       "Index(['first', 'last', 'email'], dtype='object')"
      ]
     },
     "execution_count": 10,
     "metadata": {},
     "output_type": "execute_result"
    }
   ],
   "source": [
    "df.columns"
   ]
  },
  {
   "cell_type": "code",
   "execution_count": 11,
   "id": "bf98a5e6",
   "metadata": {},
   "outputs": [
    {
     "data": {
      "text/plain": [
       "first           laxmi\n",
       "last         bhandari\n",
       "email    lx@gmail.com\n",
       "Name: 0, dtype: object"
      ]
     },
     "execution_count": 11,
     "metadata": {},
     "output_type": "execute_result"
    }
   ],
   "source": [
    "df.iloc[0]"
   ]
  },
  {
   "cell_type": "code",
   "execution_count": 12,
   "id": "22c84f7d",
   "metadata": {},
   "outputs": [
    {
     "data": {
      "text/plain": [
       "0     laxmi\n",
       "1    mahesh\n",
       "Name: first, dtype: object"
      ]
     },
     "execution_count": 12,
     "metadata": {},
     "output_type": "execute_result"
    }
   ],
   "source": [
    "df.iloc[[0,1],0]"
   ]
  },
  {
   "cell_type": "code",
   "execution_count": 13,
   "id": "54821bac",
   "metadata": {},
   "outputs": [
    {
     "data": {
      "text/plain": [
       "0     laxmi\n",
       "1    mahesh\n",
       "Name: first, dtype: object"
      ]
     },
     "execution_count": 13,
     "metadata": {},
     "output_type": "execute_result"
    }
   ],
   "source": [
    "df.loc[[0,1],\"first\"]"
   ]
  },
  {
   "cell_type": "code",
   "execution_count": 14,
   "id": "4d2496b0",
   "metadata": {},
   "outputs": [
    {
     "data": {
      "text/html": [
       "<div>\n",
       "<style scoped>\n",
       "    .dataframe tbody tr th:only-of-type {\n",
       "        vertical-align: middle;\n",
       "    }\n",
       "\n",
       "    .dataframe tbody tr th {\n",
       "        vertical-align: top;\n",
       "    }\n",
       "\n",
       "    .dataframe thead th {\n",
       "        text-align: right;\n",
       "    }\n",
       "</style>\n",
       "<table border=\"1\" class=\"dataframe\">\n",
       "  <thead>\n",
       "    <tr style=\"text-align: right;\">\n",
       "      <th></th>\n",
       "      <th>first</th>\n",
       "      <th>last</th>\n",
       "    </tr>\n",
       "    <tr>\n",
       "      <th>email</th>\n",
       "      <th></th>\n",
       "      <th></th>\n",
       "    </tr>\n",
       "  </thead>\n",
       "  <tbody>\n",
       "    <tr>\n",
       "      <th>lx@gmail.com</th>\n",
       "      <td>laxmi</td>\n",
       "      <td>bhandari</td>\n",
       "    </tr>\n",
       "    <tr>\n",
       "      <th>ma@gmail.com</th>\n",
       "      <td>mahesh</td>\n",
       "      <td>bhandari</td>\n",
       "    </tr>\n",
       "    <tr>\n",
       "      <th>sh@gmail.com</th>\n",
       "      <td>sheshnath</td>\n",
       "      <td>bhandari</td>\n",
       "    </tr>\n",
       "    <tr>\n",
       "      <th>su@gmail.com</th>\n",
       "      <td>sunil</td>\n",
       "      <td>bhandar</td>\n",
       "    </tr>\n",
       "  </tbody>\n",
       "</table>\n",
       "</div>"
      ],
      "text/plain": [
       "                  first      last\n",
       "email                            \n",
       "lx@gmail.com      laxmi  bhandari\n",
       "ma@gmail.com     mahesh  bhandari\n",
       "sh@gmail.com  sheshnath  bhandari\n",
       "su@gmail.com      sunil   bhandar"
      ]
     },
     "execution_count": 14,
     "metadata": {},
     "output_type": "execute_result"
    }
   ],
   "source": [
    "df.set_index('email')"
   ]
  },
  {
   "cell_type": "code",
   "execution_count": 15,
   "id": "110f38a1",
   "metadata": {},
   "outputs": [
    {
     "data": {
      "text/html": [
       "<div>\n",
       "<style scoped>\n",
       "    .dataframe tbody tr th:only-of-type {\n",
       "        vertical-align: middle;\n",
       "    }\n",
       "\n",
       "    .dataframe tbody tr th {\n",
       "        vertical-align: top;\n",
       "    }\n",
       "\n",
       "    .dataframe thead th {\n",
       "        text-align: right;\n",
       "    }\n",
       "</style>\n",
       "<table border=\"1\" class=\"dataframe\">\n",
       "  <thead>\n",
       "    <tr style=\"text-align: right;\">\n",
       "      <th></th>\n",
       "      <th>first</th>\n",
       "      <th>last</th>\n",
       "      <th>email</th>\n",
       "    </tr>\n",
       "  </thead>\n",
       "  <tbody>\n",
       "    <tr>\n",
       "      <th>0</th>\n",
       "      <td>laxmi</td>\n",
       "      <td>bhandari</td>\n",
       "      <td>lx@gmail.com</td>\n",
       "    </tr>\n",
       "    <tr>\n",
       "      <th>1</th>\n",
       "      <td>mahesh</td>\n",
       "      <td>bhandari</td>\n",
       "      <td>ma@gmail.com</td>\n",
       "    </tr>\n",
       "    <tr>\n",
       "      <th>2</th>\n",
       "      <td>sheshnath</td>\n",
       "      <td>bhandari</td>\n",
       "      <td>sh@gmail.com</td>\n",
       "    </tr>\n",
       "    <tr>\n",
       "      <th>3</th>\n",
       "      <td>sunil</td>\n",
       "      <td>bhandar</td>\n",
       "      <td>su@gmail.com</td>\n",
       "    </tr>\n",
       "  </tbody>\n",
       "</table>\n",
       "</div>"
      ],
      "text/plain": [
       "       first      last         email\n",
       "0      laxmi  bhandari  lx@gmail.com\n",
       "1     mahesh  bhandari  ma@gmail.com\n",
       "2  sheshnath  bhandari  sh@gmail.com\n",
       "3      sunil   bhandar  su@gmail.com"
      ]
     },
     "execution_count": 15,
     "metadata": {},
     "output_type": "execute_result"
    }
   ],
   "source": [
    "df"
   ]
  },
  {
   "cell_type": "code",
   "execution_count": 16,
   "id": "0b092604",
   "metadata": {},
   "outputs": [],
   "source": [
    "df.set_index('email',inplace=True)"
   ]
  },
  {
   "cell_type": "code",
   "execution_count": 17,
   "id": "74290ca8",
   "metadata": {},
   "outputs": [
    {
     "data": {
      "text/html": [
       "<div>\n",
       "<style scoped>\n",
       "    .dataframe tbody tr th:only-of-type {\n",
       "        vertical-align: middle;\n",
       "    }\n",
       "\n",
       "    .dataframe tbody tr th {\n",
       "        vertical-align: top;\n",
       "    }\n",
       "\n",
       "    .dataframe thead th {\n",
       "        text-align: right;\n",
       "    }\n",
       "</style>\n",
       "<table border=\"1\" class=\"dataframe\">\n",
       "  <thead>\n",
       "    <tr style=\"text-align: right;\">\n",
       "      <th></th>\n",
       "      <th>first</th>\n",
       "      <th>last</th>\n",
       "    </tr>\n",
       "    <tr>\n",
       "      <th>email</th>\n",
       "      <th></th>\n",
       "      <th></th>\n",
       "    </tr>\n",
       "  </thead>\n",
       "  <tbody>\n",
       "    <tr>\n",
       "      <th>lx@gmail.com</th>\n",
       "      <td>laxmi</td>\n",
       "      <td>bhandari</td>\n",
       "    </tr>\n",
       "    <tr>\n",
       "      <th>ma@gmail.com</th>\n",
       "      <td>mahesh</td>\n",
       "      <td>bhandari</td>\n",
       "    </tr>\n",
       "    <tr>\n",
       "      <th>sh@gmail.com</th>\n",
       "      <td>sheshnath</td>\n",
       "      <td>bhandari</td>\n",
       "    </tr>\n",
       "    <tr>\n",
       "      <th>su@gmail.com</th>\n",
       "      <td>sunil</td>\n",
       "      <td>bhandar</td>\n",
       "    </tr>\n",
       "  </tbody>\n",
       "</table>\n",
       "</div>"
      ],
      "text/plain": [
       "                  first      last\n",
       "email                            \n",
       "lx@gmail.com      laxmi  bhandari\n",
       "ma@gmail.com     mahesh  bhandari\n",
       "sh@gmail.com  sheshnath  bhandari\n",
       "su@gmail.com      sunil   bhandar"
      ]
     },
     "execution_count": 17,
     "metadata": {},
     "output_type": "execute_result"
    }
   ],
   "source": [
    "df"
   ]
  },
  {
   "cell_type": "code",
   "execution_count": 18,
   "id": "33de3fc2",
   "metadata": {},
   "outputs": [
    {
     "data": {
      "text/plain": [
       "'bhandar'"
      ]
     },
     "execution_count": 18,
     "metadata": {},
     "output_type": "execute_result"
    }
   ],
   "source": [
    "df.loc['su@gmail.com','last']"
   ]
  },
  {
   "cell_type": "code",
   "execution_count": 19,
   "id": "1e27499e",
   "metadata": {},
   "outputs": [
    {
     "data": {
      "text/plain": [
       "first       laxmi\n",
       "last     bhandari\n",
       "Name: lx@gmail.com, dtype: object"
      ]
     },
     "execution_count": 19,
     "metadata": {},
     "output_type": "execute_result"
    }
   ],
   "source": [
    "df.loc['lx@gmail.com']"
   ]
  },
  {
   "cell_type": "code",
   "execution_count": 20,
   "id": "b7d30539",
   "metadata": {},
   "outputs": [
    {
     "data": {
      "text/plain": [
       "first       laxmi\n",
       "last     bhandari\n",
       "Name: lx@gmail.com, dtype: object"
      ]
     },
     "execution_count": 20,
     "metadata": {},
     "output_type": "execute_result"
    }
   ],
   "source": [
    "df.iloc[0]"
   ]
  },
  {
   "cell_type": "code",
   "execution_count": 21,
   "id": "342e3041",
   "metadata": {},
   "outputs": [],
   "source": [
    "df.reset_index(inplace=True)"
   ]
  },
  {
   "cell_type": "code",
   "execution_count": 22,
   "id": "38b16566",
   "metadata": {},
   "outputs": [
    {
     "data": {
      "text/html": [
       "<div>\n",
       "<style scoped>\n",
       "    .dataframe tbody tr th:only-of-type {\n",
       "        vertical-align: middle;\n",
       "    }\n",
       "\n",
       "    .dataframe tbody tr th {\n",
       "        vertical-align: top;\n",
       "    }\n",
       "\n",
       "    .dataframe thead th {\n",
       "        text-align: right;\n",
       "    }\n",
       "</style>\n",
       "<table border=\"1\" class=\"dataframe\">\n",
       "  <thead>\n",
       "    <tr style=\"text-align: right;\">\n",
       "      <th></th>\n",
       "      <th>email</th>\n",
       "      <th>first</th>\n",
       "      <th>last</th>\n",
       "    </tr>\n",
       "  </thead>\n",
       "  <tbody>\n",
       "    <tr>\n",
       "      <th>0</th>\n",
       "      <td>lx@gmail.com</td>\n",
       "      <td>laxmi</td>\n",
       "      <td>bhandari</td>\n",
       "    </tr>\n",
       "    <tr>\n",
       "      <th>1</th>\n",
       "      <td>ma@gmail.com</td>\n",
       "      <td>mahesh</td>\n",
       "      <td>bhandari</td>\n",
       "    </tr>\n",
       "    <tr>\n",
       "      <th>2</th>\n",
       "      <td>sh@gmail.com</td>\n",
       "      <td>sheshnath</td>\n",
       "      <td>bhandari</td>\n",
       "    </tr>\n",
       "    <tr>\n",
       "      <th>3</th>\n",
       "      <td>su@gmail.com</td>\n",
       "      <td>sunil</td>\n",
       "      <td>bhandar</td>\n",
       "    </tr>\n",
       "  </tbody>\n",
       "</table>\n",
       "</div>"
      ],
      "text/plain": [
       "          email      first      last\n",
       "0  lx@gmail.com      laxmi  bhandari\n",
       "1  ma@gmail.com     mahesh  bhandari\n",
       "2  sh@gmail.com  sheshnath  bhandari\n",
       "3  su@gmail.com      sunil   bhandar"
      ]
     },
     "execution_count": 22,
     "metadata": {},
     "output_type": "execute_result"
    }
   ],
   "source": [
    "df\n"
   ]
  },
  {
   "cell_type": "code",
   "execution_count": 23,
   "id": "01949233",
   "metadata": {},
   "outputs": [],
   "source": [
    "\n",
    "#now using flitering the data to use what we want."
   ]
  },
  {
   "cell_type": "code",
   "execution_count": 24,
   "id": "062e6f73",
   "metadata": {},
   "outputs": [
    {
     "data": {
      "text/plain": [
       "0     True\n",
       "1     True\n",
       "2     True\n",
       "3    False\n",
       "Name: last, dtype: bool"
      ]
     },
     "execution_count": 24,
     "metadata": {},
     "output_type": "execute_result"
    }
   ],
   "source": [
    "df['last']=='bhandari'"
   ]
  },
  {
   "cell_type": "code",
   "execution_count": 25,
   "id": "ca27bc14",
   "metadata": {},
   "outputs": [],
   "source": [
    "#here it returns only the boolen value so it is difficult for us to see,know so we use filter."
   ]
  },
  {
   "cell_type": "code",
   "execution_count": 26,
   "id": "156dec56",
   "metadata": {},
   "outputs": [],
   "source": [
    "filt=(df['last']=='bhandari')"
   ]
  },
  {
   "cell_type": "code",
   "execution_count": 27,
   "id": "c2b620b5",
   "metadata": {},
   "outputs": [
    {
     "data": {
      "text/html": [
       "<div>\n",
       "<style scoped>\n",
       "    .dataframe tbody tr th:only-of-type {\n",
       "        vertical-align: middle;\n",
       "    }\n",
       "\n",
       "    .dataframe tbody tr th {\n",
       "        vertical-align: top;\n",
       "    }\n",
       "\n",
       "    .dataframe thead th {\n",
       "        text-align: right;\n",
       "    }\n",
       "</style>\n",
       "<table border=\"1\" class=\"dataframe\">\n",
       "  <thead>\n",
       "    <tr style=\"text-align: right;\">\n",
       "      <th></th>\n",
       "      <th>email</th>\n",
       "      <th>first</th>\n",
       "      <th>last</th>\n",
       "    </tr>\n",
       "  </thead>\n",
       "  <tbody>\n",
       "    <tr>\n",
       "      <th>0</th>\n",
       "      <td>lx@gmail.com</td>\n",
       "      <td>laxmi</td>\n",
       "      <td>bhandari</td>\n",
       "    </tr>\n",
       "    <tr>\n",
       "      <th>1</th>\n",
       "      <td>ma@gmail.com</td>\n",
       "      <td>mahesh</td>\n",
       "      <td>bhandari</td>\n",
       "    </tr>\n",
       "    <tr>\n",
       "      <th>2</th>\n",
       "      <td>sh@gmail.com</td>\n",
       "      <td>sheshnath</td>\n",
       "      <td>bhandari</td>\n",
       "    </tr>\n",
       "  </tbody>\n",
       "</table>\n",
       "</div>"
      ],
      "text/plain": [
       "          email      first      last\n",
       "0  lx@gmail.com      laxmi  bhandari\n",
       "1  ma@gmail.com     mahesh  bhandari\n",
       "2  sh@gmail.com  sheshnath  bhandari"
      ]
     },
     "execution_count": 27,
     "metadata": {},
     "output_type": "execute_result"
    }
   ],
   "source": [
    "df[filt]"
   ]
  },
  {
   "cell_type": "code",
   "execution_count": 28,
   "id": "d79c6283",
   "metadata": {},
   "outputs": [
    {
     "data": {
      "text/html": [
       "<div>\n",
       "<style scoped>\n",
       "    .dataframe tbody tr th:only-of-type {\n",
       "        vertical-align: middle;\n",
       "    }\n",
       "\n",
       "    .dataframe tbody tr th {\n",
       "        vertical-align: top;\n",
       "    }\n",
       "\n",
       "    .dataframe thead th {\n",
       "        text-align: right;\n",
       "    }\n",
       "</style>\n",
       "<table border=\"1\" class=\"dataframe\">\n",
       "  <thead>\n",
       "    <tr style=\"text-align: right;\">\n",
       "      <th></th>\n",
       "      <th>email</th>\n",
       "      <th>first</th>\n",
       "      <th>last</th>\n",
       "    </tr>\n",
       "  </thead>\n",
       "  <tbody>\n",
       "    <tr>\n",
       "      <th>0</th>\n",
       "      <td>lx@gmail.com</td>\n",
       "      <td>laxmi</td>\n",
       "      <td>bhandari</td>\n",
       "    </tr>\n",
       "    <tr>\n",
       "      <th>1</th>\n",
       "      <td>ma@gmail.com</td>\n",
       "      <td>mahesh</td>\n",
       "      <td>bhandari</td>\n",
       "    </tr>\n",
       "    <tr>\n",
       "      <th>2</th>\n",
       "      <td>sh@gmail.com</td>\n",
       "      <td>sheshnath</td>\n",
       "      <td>bhandari</td>\n",
       "    </tr>\n",
       "  </tbody>\n",
       "</table>\n",
       "</div>"
      ],
      "text/plain": [
       "          email      first      last\n",
       "0  lx@gmail.com      laxmi  bhandari\n",
       "1  ma@gmail.com     mahesh  bhandari\n",
       "2  sh@gmail.com  sheshnath  bhandari"
      ]
     },
     "execution_count": 28,
     "metadata": {},
     "output_type": "execute_result"
    }
   ],
   "source": [
    "#or we can write it as follow\n",
    "df.loc[filt]"
   ]
  },
  {
   "cell_type": "code",
   "execution_count": 29,
   "id": "66a6903f",
   "metadata": {},
   "outputs": [
    {
     "data": {
      "text/html": [
       "<div>\n",
       "<style scoped>\n",
       "    .dataframe tbody tr th:only-of-type {\n",
       "        vertical-align: middle;\n",
       "    }\n",
       "\n",
       "    .dataframe tbody tr th {\n",
       "        vertical-align: top;\n",
       "    }\n",
       "\n",
       "    .dataframe thead th {\n",
       "        text-align: right;\n",
       "    }\n",
       "</style>\n",
       "<table border=\"1\" class=\"dataframe\">\n",
       "  <thead>\n",
       "    <tr style=\"text-align: right;\">\n",
       "      <th></th>\n",
       "      <th>email</th>\n",
       "      <th>first</th>\n",
       "      <th>last</th>\n",
       "    </tr>\n",
       "  </thead>\n",
       "  <tbody>\n",
       "    <tr>\n",
       "      <th>0</th>\n",
       "      <td>lx@gmail.com</td>\n",
       "      <td>laxmi</td>\n",
       "      <td>bhandari</td>\n",
       "    </tr>\n",
       "    <tr>\n",
       "      <th>1</th>\n",
       "      <td>ma@gmail.com</td>\n",
       "      <td>mahesh</td>\n",
       "      <td>bhandari</td>\n",
       "    </tr>\n",
       "    <tr>\n",
       "      <th>2</th>\n",
       "      <td>sh@gmail.com</td>\n",
       "      <td>sheshnath</td>\n",
       "      <td>bhandari</td>\n",
       "    </tr>\n",
       "  </tbody>\n",
       "</table>\n",
       "</div>"
      ],
      "text/plain": [
       "          email      first      last\n",
       "0  lx@gmail.com      laxmi  bhandari\n",
       "1  ma@gmail.com     mahesh  bhandari\n",
       "2  sh@gmail.com  sheshnath  bhandari"
      ]
     },
     "execution_count": 29,
     "metadata": {},
     "output_type": "execute_result"
    }
   ],
   "source": [
    "#we can run it as follow also\n",
    "df[df['last']==\"bhandari\"]"
   ]
  },
  {
   "cell_type": "code",
   "execution_count": 30,
   "id": "733d8bfa",
   "metadata": {},
   "outputs": [],
   "source": [
    "#reson of perfering loc is that we can grab specific columns that we want as well"
   ]
  },
  {
   "cell_type": "code",
   "execution_count": 31,
   "id": "f10de474",
   "metadata": {},
   "outputs": [
    {
     "data": {
      "text/plain": [
       "0    lx@gmail.com\n",
       "1    ma@gmail.com\n",
       "2    sh@gmail.com\n",
       "Name: email, dtype: object"
      ]
     },
     "execution_count": 31,
     "metadata": {},
     "output_type": "execute_result"
    }
   ],
   "source": [
    "df.loc[filt,'email']"
   ]
  },
  {
   "cell_type": "code",
   "execution_count": 32,
   "id": "85e2af41",
   "metadata": {},
   "outputs": [],
   "source": [
    "#like in other langauge we can use operators here to filter thegiven data/.\n"
   ]
  },
  {
   "cell_type": "code",
   "execution_count": 33,
   "id": "0d1401e8",
   "metadata": {},
   "outputs": [],
   "source": [
    "filt=(df['last']=='bhandari')&(df['first']=='laxmi')"
   ]
  },
  {
   "cell_type": "code",
   "execution_count": 34,
   "id": "aed0d70a",
   "metadata": {},
   "outputs": [
    {
     "data": {
      "text/plain": [
       "0    lx@gmail.com\n",
       "Name: email, dtype: object"
      ]
     },
     "execution_count": 34,
     "metadata": {},
     "output_type": "execute_result"
    }
   ],
   "source": [
    "df.loc[filt,'email']"
   ]
  },
  {
   "cell_type": "code",
   "execution_count": 35,
   "id": "5f8aed89",
   "metadata": {},
   "outputs": [],
   "source": [
    "filt=(df['last']==\"bhandari\")|(df['last']=='bhandar')"
   ]
  },
  {
   "cell_type": "code",
   "execution_count": 36,
   "id": "8d80617a",
   "metadata": {},
   "outputs": [
    {
     "data": {
      "text/plain": [
       "0    lx@gmail.com\n",
       "1    ma@gmail.com\n",
       "2    sh@gmail.com\n",
       "3    su@gmail.com\n",
       "Name: email, dtype: object"
      ]
     },
     "execution_count": 36,
     "metadata": {},
     "output_type": "execute_result"
    }
   ],
   "source": [
    "df.loc[filt,'email']"
   ]
  },
  {
   "cell_type": "code",
   "execution_count": 37,
   "id": "2ff085c0",
   "metadata": {},
   "outputs": [],
   "source": [
    "filt=(df['last']=='bhandari')&(df['first']=='laxmi')\n"
   ]
  },
  {
   "cell_type": "code",
   "execution_count": 38,
   "id": "69f83a09",
   "metadata": {},
   "outputs": [
    {
     "data": {
      "text/plain": [
       "1    ma@gmail.com\n",
       "2    sh@gmail.com\n",
       "3    su@gmail.com\n",
       "Name: email, dtype: object"
      ]
     },
     "execution_count": 38,
     "metadata": {},
     "output_type": "execute_result"
    }
   ],
   "source": [
    "df.loc[~filt,\"email\"]"
   ]
  },
  {
   "cell_type": "code",
   "execution_count": 39,
   "id": "e8affded",
   "metadata": {},
   "outputs": [
    {
     "data": {
      "text/html": [
       "<div>\n",
       "<style scoped>\n",
       "    .dataframe tbody tr th:only-of-type {\n",
       "        vertical-align: middle;\n",
       "    }\n",
       "\n",
       "    .dataframe tbody tr th {\n",
       "        vertical-align: top;\n",
       "    }\n",
       "\n",
       "    .dataframe thead th {\n",
       "        text-align: right;\n",
       "    }\n",
       "</style>\n",
       "<table border=\"1\" class=\"dataframe\">\n",
       "  <thead>\n",
       "    <tr style=\"text-align: right;\">\n",
       "      <th></th>\n",
       "      <th>email</th>\n",
       "      <th>first</th>\n",
       "      <th>last</th>\n",
       "    </tr>\n",
       "  </thead>\n",
       "  <tbody>\n",
       "    <tr>\n",
       "      <th>0</th>\n",
       "      <td>lx@gmail.com</td>\n",
       "      <td>laxmi</td>\n",
       "      <td>bhandari</td>\n",
       "    </tr>\n",
       "    <tr>\n",
       "      <th>1</th>\n",
       "      <td>ma@gmail.com</td>\n",
       "      <td>mahesh</td>\n",
       "      <td>bhandari</td>\n",
       "    </tr>\n",
       "    <tr>\n",
       "      <th>2</th>\n",
       "      <td>sh@gmail.com</td>\n",
       "      <td>sheshnath</td>\n",
       "      <td>bhandari</td>\n",
       "    </tr>\n",
       "    <tr>\n",
       "      <th>3</th>\n",
       "      <td>su@gmail.com</td>\n",
       "      <td>sunil</td>\n",
       "      <td>bhandar</td>\n",
       "    </tr>\n",
       "  </tbody>\n",
       "</table>\n",
       "</div>"
      ],
      "text/plain": [
       "          email      first      last\n",
       "0  lx@gmail.com      laxmi  bhandari\n",
       "1  ma@gmail.com     mahesh  bhandari\n",
       "2  sh@gmail.com  sheshnath  bhandari\n",
       "3  su@gmail.com      sunil   bhandar"
      ]
     },
     "execution_count": 39,
     "metadata": {},
     "output_type": "execute_result"
    }
   ],
   "source": [
    "df"
   ]
  },
  {
   "cell_type": "code",
   "execution_count": 40,
   "id": "40715576",
   "metadata": {},
   "outputs": [],
   "source": [
    "#updating the rows and columns\n",
    "#modifying data with in the dataframe"
   ]
  },
  {
   "cell_type": "code",
   "execution_count": 41,
   "id": "53a552a7",
   "metadata": {},
   "outputs": [],
   "source": [
    "#updating column first\n",
    "#multiple rows"
   ]
  },
  {
   "cell_type": "code",
   "execution_count": 42,
   "id": "f68725c0",
   "metadata": {},
   "outputs": [],
   "source": [
    "df.columns=['email','first_name','last_name']\n",
    "#it will change the name of the columns\n"
   ]
  },
  {
   "cell_type": "code",
   "execution_count": 43,
   "id": "da0fa94c",
   "metadata": {},
   "outputs": [
    {
     "data": {
      "text/html": [
       "<div>\n",
       "<style scoped>\n",
       "    .dataframe tbody tr th:only-of-type {\n",
       "        vertical-align: middle;\n",
       "    }\n",
       "\n",
       "    .dataframe tbody tr th {\n",
       "        vertical-align: top;\n",
       "    }\n",
       "\n",
       "    .dataframe thead th {\n",
       "        text-align: right;\n",
       "    }\n",
       "</style>\n",
       "<table border=\"1\" class=\"dataframe\">\n",
       "  <thead>\n",
       "    <tr style=\"text-align: right;\">\n",
       "      <th></th>\n",
       "      <th>email</th>\n",
       "      <th>first_name</th>\n",
       "      <th>last_name</th>\n",
       "    </tr>\n",
       "  </thead>\n",
       "  <tbody>\n",
       "    <tr>\n",
       "      <th>0</th>\n",
       "      <td>lx@gmail.com</td>\n",
       "      <td>laxmi</td>\n",
       "      <td>bhandari</td>\n",
       "    </tr>\n",
       "    <tr>\n",
       "      <th>1</th>\n",
       "      <td>ma@gmail.com</td>\n",
       "      <td>mahesh</td>\n",
       "      <td>bhandari</td>\n",
       "    </tr>\n",
       "    <tr>\n",
       "      <th>2</th>\n",
       "      <td>sh@gmail.com</td>\n",
       "      <td>sheshnath</td>\n",
       "      <td>bhandari</td>\n",
       "    </tr>\n",
       "    <tr>\n",
       "      <th>3</th>\n",
       "      <td>su@gmail.com</td>\n",
       "      <td>sunil</td>\n",
       "      <td>bhandar</td>\n",
       "    </tr>\n",
       "  </tbody>\n",
       "</table>\n",
       "</div>"
      ],
      "text/plain": [
       "          email first_name last_name\n",
       "0  lx@gmail.com      laxmi  bhandari\n",
       "1  ma@gmail.com     mahesh  bhandari\n",
       "2  sh@gmail.com  sheshnath  bhandari\n",
       "3  su@gmail.com      sunil   bhandar"
      ]
     },
     "execution_count": 43,
     "metadata": {},
     "output_type": "execute_result"
    }
   ],
   "source": [
    "df"
   ]
  },
  {
   "cell_type": "code",
   "execution_count": 44,
   "id": "1b628a25",
   "metadata": {},
   "outputs": [],
   "source": [
    "#using list comprensive"
   ]
  },
  {
   "cell_type": "code",
   "execution_count": 45,
   "id": "23edb0a7",
   "metadata": {},
   "outputs": [],
   "source": [
    "df.columns=[x.upper() for x in df.columns]\n",
    "#it will change the column name into uppercase"
   ]
  },
  {
   "cell_type": "code",
   "execution_count": 46,
   "id": "197d08dd",
   "metadata": {},
   "outputs": [
    {
     "data": {
      "text/html": [
       "<div>\n",
       "<style scoped>\n",
       "    .dataframe tbody tr th:only-of-type {\n",
       "        vertical-align: middle;\n",
       "    }\n",
       "\n",
       "    .dataframe tbody tr th {\n",
       "        vertical-align: top;\n",
       "    }\n",
       "\n",
       "    .dataframe thead th {\n",
       "        text-align: right;\n",
       "    }\n",
       "</style>\n",
       "<table border=\"1\" class=\"dataframe\">\n",
       "  <thead>\n",
       "    <tr style=\"text-align: right;\">\n",
       "      <th></th>\n",
       "      <th>EMAIL</th>\n",
       "      <th>FIRST_NAME</th>\n",
       "      <th>LAST_NAME</th>\n",
       "    </tr>\n",
       "  </thead>\n",
       "  <tbody>\n",
       "    <tr>\n",
       "      <th>0</th>\n",
       "      <td>lx@gmail.com</td>\n",
       "      <td>laxmi</td>\n",
       "      <td>bhandari</td>\n",
       "    </tr>\n",
       "    <tr>\n",
       "      <th>1</th>\n",
       "      <td>ma@gmail.com</td>\n",
       "      <td>mahesh</td>\n",
       "      <td>bhandari</td>\n",
       "    </tr>\n",
       "    <tr>\n",
       "      <th>2</th>\n",
       "      <td>sh@gmail.com</td>\n",
       "      <td>sheshnath</td>\n",
       "      <td>bhandari</td>\n",
       "    </tr>\n",
       "    <tr>\n",
       "      <th>3</th>\n",
       "      <td>su@gmail.com</td>\n",
       "      <td>sunil</td>\n",
       "      <td>bhandar</td>\n",
       "    </tr>\n",
       "  </tbody>\n",
       "</table>\n",
       "</div>"
      ],
      "text/plain": [
       "          EMAIL FIRST_NAME LAST_NAME\n",
       "0  lx@gmail.com      laxmi  bhandari\n",
       "1  ma@gmail.com     mahesh  bhandari\n",
       "2  sh@gmail.com  sheshnath  bhandari\n",
       "3  su@gmail.com      sunil   bhandar"
      ]
     },
     "execution_count": 46,
     "metadata": {},
     "output_type": "execute_result"
    }
   ],
   "source": [
    "df"
   ]
  },
  {
   "cell_type": "code",
   "execution_count": 47,
   "id": "956f5652",
   "metadata": {},
   "outputs": [],
   "source": [
    "df.columns=[x.lower() for x in df.columns]\n",
    "#it will again change the column in the lower case"
   ]
  },
  {
   "cell_type": "code",
   "execution_count": 48,
   "id": "ecaa5fbb",
   "metadata": {},
   "outputs": [
    {
     "data": {
      "text/html": [
       "<div>\n",
       "<style scoped>\n",
       "    .dataframe tbody tr th:only-of-type {\n",
       "        vertical-align: middle;\n",
       "    }\n",
       "\n",
       "    .dataframe tbody tr th {\n",
       "        vertical-align: top;\n",
       "    }\n",
       "\n",
       "    .dataframe thead th {\n",
       "        text-align: right;\n",
       "    }\n",
       "</style>\n",
       "<table border=\"1\" class=\"dataframe\">\n",
       "  <thead>\n",
       "    <tr style=\"text-align: right;\">\n",
       "      <th></th>\n",
       "      <th>email</th>\n",
       "      <th>first_name</th>\n",
       "      <th>last_name</th>\n",
       "    </tr>\n",
       "  </thead>\n",
       "  <tbody>\n",
       "    <tr>\n",
       "      <th>0</th>\n",
       "      <td>lx@gmail.com</td>\n",
       "      <td>laxmi</td>\n",
       "      <td>bhandari</td>\n",
       "    </tr>\n",
       "    <tr>\n",
       "      <th>1</th>\n",
       "      <td>ma@gmail.com</td>\n",
       "      <td>mahesh</td>\n",
       "      <td>bhandari</td>\n",
       "    </tr>\n",
       "    <tr>\n",
       "      <th>2</th>\n",
       "      <td>sh@gmail.com</td>\n",
       "      <td>sheshnath</td>\n",
       "      <td>bhandari</td>\n",
       "    </tr>\n",
       "    <tr>\n",
       "      <th>3</th>\n",
       "      <td>su@gmail.com</td>\n",
       "      <td>sunil</td>\n",
       "      <td>bhandar</td>\n",
       "    </tr>\n",
       "  </tbody>\n",
       "</table>\n",
       "</div>"
      ],
      "text/plain": [
       "          email first_name last_name\n",
       "0  lx@gmail.com      laxmi  bhandari\n",
       "1  ma@gmail.com     mahesh  bhandari\n",
       "2  sh@gmail.com  sheshnath  bhandari\n",
       "3  su@gmail.com      sunil   bhandar"
      ]
     },
     "execution_count": 48,
     "metadata": {},
     "output_type": "execute_result"
    }
   ],
   "source": [
    "df"
   ]
  },
  {
   "cell_type": "code",
   "execution_count": 49,
   "id": "bba4665f",
   "metadata": {},
   "outputs": [],
   "source": [
    "df.columns=df.columns.str.replace('_',' ')\n",
    "#it will change every _ in space in the column as shown above"
   ]
  },
  {
   "cell_type": "code",
   "execution_count": 50,
   "id": "bdba6509",
   "metadata": {},
   "outputs": [
    {
     "data": {
      "text/html": [
       "<div>\n",
       "<style scoped>\n",
       "    .dataframe tbody tr th:only-of-type {\n",
       "        vertical-align: middle;\n",
       "    }\n",
       "\n",
       "    .dataframe tbody tr th {\n",
       "        vertical-align: top;\n",
       "    }\n",
       "\n",
       "    .dataframe thead th {\n",
       "        text-align: right;\n",
       "    }\n",
       "</style>\n",
       "<table border=\"1\" class=\"dataframe\">\n",
       "  <thead>\n",
       "    <tr style=\"text-align: right;\">\n",
       "      <th></th>\n",
       "      <th>email</th>\n",
       "      <th>first name</th>\n",
       "      <th>last name</th>\n",
       "    </tr>\n",
       "  </thead>\n",
       "  <tbody>\n",
       "    <tr>\n",
       "      <th>0</th>\n",
       "      <td>lx@gmail.com</td>\n",
       "      <td>laxmi</td>\n",
       "      <td>bhandari</td>\n",
       "    </tr>\n",
       "    <tr>\n",
       "      <th>1</th>\n",
       "      <td>ma@gmail.com</td>\n",
       "      <td>mahesh</td>\n",
       "      <td>bhandari</td>\n",
       "    </tr>\n",
       "    <tr>\n",
       "      <th>2</th>\n",
       "      <td>sh@gmail.com</td>\n",
       "      <td>sheshnath</td>\n",
       "      <td>bhandari</td>\n",
       "    </tr>\n",
       "    <tr>\n",
       "      <th>3</th>\n",
       "      <td>su@gmail.com</td>\n",
       "      <td>sunil</td>\n",
       "      <td>bhandar</td>\n",
       "    </tr>\n",
       "  </tbody>\n",
       "</table>\n",
       "</div>"
      ],
      "text/plain": [
       "          email first name last name\n",
       "0  lx@gmail.com      laxmi  bhandari\n",
       "1  ma@gmail.com     mahesh  bhandari\n",
       "2  sh@gmail.com  sheshnath  bhandari\n",
       "3  su@gmail.com      sunil   bhandar"
      ]
     },
     "execution_count": 50,
     "metadata": {},
     "output_type": "execute_result"
    }
   ],
   "source": [
    "df\n"
   ]
  },
  {
   "cell_type": "code",
   "execution_count": 51,
   "id": "894ac306",
   "metadata": {},
   "outputs": [
    {
     "data": {
      "text/html": [
       "<div>\n",
       "<style scoped>\n",
       "    .dataframe tbody tr th:only-of-type {\n",
       "        vertical-align: middle;\n",
       "    }\n",
       "\n",
       "    .dataframe tbody tr th {\n",
       "        vertical-align: top;\n",
       "    }\n",
       "\n",
       "    .dataframe thead th {\n",
       "        text-align: right;\n",
       "    }\n",
       "</style>\n",
       "<table border=\"1\" class=\"dataframe\">\n",
       "  <thead>\n",
       "    <tr style=\"text-align: right;\">\n",
       "      <th></th>\n",
       "      <th>email</th>\n",
       "      <th>first_name</th>\n",
       "      <th>last_name</th>\n",
       "    </tr>\n",
       "  </thead>\n",
       "  <tbody>\n",
       "    <tr>\n",
       "      <th>0</th>\n",
       "      <td>lx@gmail.com</td>\n",
       "      <td>laxmi</td>\n",
       "      <td>bhandari</td>\n",
       "    </tr>\n",
       "    <tr>\n",
       "      <th>1</th>\n",
       "      <td>ma@gmail.com</td>\n",
       "      <td>mahesh</td>\n",
       "      <td>bhandari</td>\n",
       "    </tr>\n",
       "    <tr>\n",
       "      <th>2</th>\n",
       "      <td>sh@gmail.com</td>\n",
       "      <td>sheshnath</td>\n",
       "      <td>bhandari</td>\n",
       "    </tr>\n",
       "    <tr>\n",
       "      <th>3</th>\n",
       "      <td>su@gmail.com</td>\n",
       "      <td>sunil</td>\n",
       "      <td>bhandar</td>\n",
       "    </tr>\n",
       "  </tbody>\n",
       "</table>\n",
       "</div>"
      ],
      "text/plain": [
       "          email first_name last_name\n",
       "0  lx@gmail.com      laxmi  bhandari\n",
       "1  ma@gmail.com     mahesh  bhandari\n",
       "2  sh@gmail.com  sheshnath  bhandari\n",
       "3  su@gmail.com      sunil   bhandar"
      ]
     },
     "execution_count": 51,
     "metadata": {},
     "output_type": "execute_result"
    }
   ],
   "source": [
    "df.columns=df.columns.str.replace(' ','_')\n",
    "df"
   ]
  },
  {
   "cell_type": "code",
   "execution_count": 52,
   "id": "c1a088d7",
   "metadata": {},
   "outputs": [],
   "source": [
    "#changing some columns\n",
    "#here the dictionary comes in the picture"
   ]
  },
  {
   "cell_type": "code",
   "execution_count": 53,
   "id": "2b5b1f6b",
   "metadata": {},
   "outputs": [],
   "source": [
    "df.rename(columns={'first_name':'first','last_name':'last'},inplace=True)"
   ]
  },
  {
   "cell_type": "code",
   "execution_count": 54,
   "id": "0e9f9f53",
   "metadata": {},
   "outputs": [
    {
     "data": {
      "text/html": [
       "<div>\n",
       "<style scoped>\n",
       "    .dataframe tbody tr th:only-of-type {\n",
       "        vertical-align: middle;\n",
       "    }\n",
       "\n",
       "    .dataframe tbody tr th {\n",
       "        vertical-align: top;\n",
       "    }\n",
       "\n",
       "    .dataframe thead th {\n",
       "        text-align: right;\n",
       "    }\n",
       "</style>\n",
       "<table border=\"1\" class=\"dataframe\">\n",
       "  <thead>\n",
       "    <tr style=\"text-align: right;\">\n",
       "      <th></th>\n",
       "      <th>email</th>\n",
       "      <th>first</th>\n",
       "      <th>last</th>\n",
       "    </tr>\n",
       "  </thead>\n",
       "  <tbody>\n",
       "    <tr>\n",
       "      <th>0</th>\n",
       "      <td>lx@gmail.com</td>\n",
       "      <td>laxmi</td>\n",
       "      <td>bhandari</td>\n",
       "    </tr>\n",
       "    <tr>\n",
       "      <th>1</th>\n",
       "      <td>ma@gmail.com</td>\n",
       "      <td>mahesh</td>\n",
       "      <td>bhandari</td>\n",
       "    </tr>\n",
       "    <tr>\n",
       "      <th>2</th>\n",
       "      <td>sh@gmail.com</td>\n",
       "      <td>sheshnath</td>\n",
       "      <td>bhandari</td>\n",
       "    </tr>\n",
       "    <tr>\n",
       "      <th>3</th>\n",
       "      <td>su@gmail.com</td>\n",
       "      <td>sunil</td>\n",
       "      <td>bhandar</td>\n",
       "    </tr>\n",
       "  </tbody>\n",
       "</table>\n",
       "</div>"
      ],
      "text/plain": [
       "          email      first      last\n",
       "0  lx@gmail.com      laxmi  bhandari\n",
       "1  ma@gmail.com     mahesh  bhandari\n",
       "2  sh@gmail.com  sheshnath  bhandari\n",
       "3  su@gmail.com      sunil   bhandar"
      ]
     },
     "execution_count": 54,
     "metadata": {},
     "output_type": "execute_result"
    }
   ],
   "source": [
    "df"
   ]
  },
  {
   "cell_type": "code",
   "execution_count": 55,
   "id": "f98192e4",
   "metadata": {},
   "outputs": [],
   "source": [
    "#changing or updating the rows\n",
    "#firstly changing the multiple rows"
   ]
  },
  {
   "cell_type": "code",
   "execution_count": 56,
   "id": "b4a8d0d5",
   "metadata": {},
   "outputs": [
    {
     "data": {
      "text/plain": [
       "email    sh@gmail.com\n",
       "first       sheshnath\n",
       "last         bhandari\n",
       "Name: 2, dtype: object"
      ]
     },
     "execution_count": 56,
     "metadata": {},
     "output_type": "execute_result"
    }
   ],
   "source": [
    "df.loc[2]"
   ]
  },
  {
   "cell_type": "code",
   "execution_count": 57,
   "id": "018414e6",
   "metadata": {},
   "outputs": [],
   "source": [
    "df.loc[2]=['SN@gmail.com','SN','Bhandari']"
   ]
  },
  {
   "cell_type": "code",
   "execution_count": 58,
   "id": "7926f7d1",
   "metadata": {},
   "outputs": [
    {
     "data": {
      "text/html": [
       "<div>\n",
       "<style scoped>\n",
       "    .dataframe tbody tr th:only-of-type {\n",
       "        vertical-align: middle;\n",
       "    }\n",
       "\n",
       "    .dataframe tbody tr th {\n",
       "        vertical-align: top;\n",
       "    }\n",
       "\n",
       "    .dataframe thead th {\n",
       "        text-align: right;\n",
       "    }\n",
       "</style>\n",
       "<table border=\"1\" class=\"dataframe\">\n",
       "  <thead>\n",
       "    <tr style=\"text-align: right;\">\n",
       "      <th></th>\n",
       "      <th>email</th>\n",
       "      <th>first</th>\n",
       "      <th>last</th>\n",
       "    </tr>\n",
       "  </thead>\n",
       "  <tbody>\n",
       "    <tr>\n",
       "      <th>0</th>\n",
       "      <td>lx@gmail.com</td>\n",
       "      <td>laxmi</td>\n",
       "      <td>bhandari</td>\n",
       "    </tr>\n",
       "    <tr>\n",
       "      <th>1</th>\n",
       "      <td>ma@gmail.com</td>\n",
       "      <td>mahesh</td>\n",
       "      <td>bhandari</td>\n",
       "    </tr>\n",
       "    <tr>\n",
       "      <th>2</th>\n",
       "      <td>SN@gmail.com</td>\n",
       "      <td>SN</td>\n",
       "      <td>Bhandari</td>\n",
       "    </tr>\n",
       "    <tr>\n",
       "      <th>3</th>\n",
       "      <td>su@gmail.com</td>\n",
       "      <td>sunil</td>\n",
       "      <td>bhandar</td>\n",
       "    </tr>\n",
       "  </tbody>\n",
       "</table>\n",
       "</div>"
      ],
      "text/plain": [
       "          email   first      last\n",
       "0  lx@gmail.com   laxmi  bhandari\n",
       "1  ma@gmail.com  mahesh  bhandari\n",
       "2  SN@gmail.com      SN  Bhandari\n",
       "3  su@gmail.com   sunil   bhandar"
      ]
     },
     "execution_count": 58,
     "metadata": {},
     "output_type": "execute_result"
    }
   ],
   "source": [
    "df"
   ]
  },
  {
   "cell_type": "code",
   "execution_count": 59,
   "id": "c6cdc300",
   "metadata": {},
   "outputs": [],
   "source": [
    "#df.loc[2]=['Sh@gmail.com',\"sn\"]"
   ]
  },
  {
   "cell_type": "code",
   "execution_count": 60,
   "id": "daa6c191",
   "metadata": {},
   "outputs": [],
   "source": [
    "#NOTE"
   ]
  },
  {
   "cell_type": "code",
   "execution_count": 61,
   "id": "0fb8640a",
   "metadata": {},
   "outputs": [],
   "source": [
    "#df.loc[2]=['SN@gmail.com','SN','Bhandari']\n",
    "#IF we use this to change the rfows and i we have to change one word but there are multiple rows than it really SUCKS.\n",
    "#So we usethe following Insted"
   ]
  },
  {
   "cell_type": "code",
   "execution_count": 62,
   "id": "8da67547",
   "metadata": {},
   "outputs": [],
   "source": [
    "df.loc[2,['first','email']] = ['Sheshnath','sh@gmail.com']"
   ]
  },
  {
   "cell_type": "code",
   "execution_count": 63,
   "id": "7f7ca7eb",
   "metadata": {},
   "outputs": [
    {
     "data": {
      "text/html": [
       "<div>\n",
       "<style scoped>\n",
       "    .dataframe tbody tr th:only-of-type {\n",
       "        vertical-align: middle;\n",
       "    }\n",
       "\n",
       "    .dataframe tbody tr th {\n",
       "        vertical-align: top;\n",
       "    }\n",
       "\n",
       "    .dataframe thead th {\n",
       "        text-align: right;\n",
       "    }\n",
       "</style>\n",
       "<table border=\"1\" class=\"dataframe\">\n",
       "  <thead>\n",
       "    <tr style=\"text-align: right;\">\n",
       "      <th></th>\n",
       "      <th>email</th>\n",
       "      <th>first</th>\n",
       "      <th>last</th>\n",
       "    </tr>\n",
       "  </thead>\n",
       "  <tbody>\n",
       "    <tr>\n",
       "      <th>0</th>\n",
       "      <td>lx@gmail.com</td>\n",
       "      <td>laxmi</td>\n",
       "      <td>bhandari</td>\n",
       "    </tr>\n",
       "    <tr>\n",
       "      <th>1</th>\n",
       "      <td>ma@gmail.com</td>\n",
       "      <td>mahesh</td>\n",
       "      <td>bhandari</td>\n",
       "    </tr>\n",
       "    <tr>\n",
       "      <th>2</th>\n",
       "      <td>sh@gmail.com</td>\n",
       "      <td>Sheshnath</td>\n",
       "      <td>Bhandari</td>\n",
       "    </tr>\n",
       "    <tr>\n",
       "      <th>3</th>\n",
       "      <td>su@gmail.com</td>\n",
       "      <td>sunil</td>\n",
       "      <td>bhandar</td>\n",
       "    </tr>\n",
       "  </tbody>\n",
       "</table>\n",
       "</div>"
      ],
      "text/plain": [
       "          email      first      last\n",
       "0  lx@gmail.com      laxmi  bhandari\n",
       "1  ma@gmail.com     mahesh  bhandari\n",
       "2  sh@gmail.com  Sheshnath  Bhandari\n",
       "3  su@gmail.com      sunil   bhandar"
      ]
     },
     "execution_count": 63,
     "metadata": {},
     "output_type": "execute_result"
    }
   ],
   "source": [
    "df"
   ]
  },
  {
   "cell_type": "code",
   "execution_count": 64,
   "id": "c3d89939",
   "metadata": {},
   "outputs": [],
   "source": [
    "#changing the one word in the row"
   ]
  },
  {
   "cell_type": "code",
   "execution_count": 65,
   "id": "9239367f",
   "metadata": {},
   "outputs": [],
   "source": [
    "df.loc[2,'first']='sheshnath'"
   ]
  },
  {
   "cell_type": "code",
   "execution_count": 66,
   "id": "7e170402",
   "metadata": {},
   "outputs": [
    {
     "data": {
      "text/html": [
       "<div>\n",
       "<style scoped>\n",
       "    .dataframe tbody tr th:only-of-type {\n",
       "        vertical-align: middle;\n",
       "    }\n",
       "\n",
       "    .dataframe tbody tr th {\n",
       "        vertical-align: top;\n",
       "    }\n",
       "\n",
       "    .dataframe thead th {\n",
       "        text-align: right;\n",
       "    }\n",
       "</style>\n",
       "<table border=\"1\" class=\"dataframe\">\n",
       "  <thead>\n",
       "    <tr style=\"text-align: right;\">\n",
       "      <th></th>\n",
       "      <th>email</th>\n",
       "      <th>first</th>\n",
       "      <th>last</th>\n",
       "    </tr>\n",
       "  </thead>\n",
       "  <tbody>\n",
       "    <tr>\n",
       "      <th>0</th>\n",
       "      <td>lx@gmail.com</td>\n",
       "      <td>laxmi</td>\n",
       "      <td>bhandari</td>\n",
       "    </tr>\n",
       "    <tr>\n",
       "      <th>1</th>\n",
       "      <td>ma@gmail.com</td>\n",
       "      <td>mahesh</td>\n",
       "      <td>bhandari</td>\n",
       "    </tr>\n",
       "    <tr>\n",
       "      <th>2</th>\n",
       "      <td>sh@gmail.com</td>\n",
       "      <td>sheshnath</td>\n",
       "      <td>Bhandari</td>\n",
       "    </tr>\n",
       "    <tr>\n",
       "      <th>3</th>\n",
       "      <td>su@gmail.com</td>\n",
       "      <td>sunil</td>\n",
       "      <td>bhandar</td>\n",
       "    </tr>\n",
       "  </tbody>\n",
       "</table>\n",
       "</div>"
      ],
      "text/plain": [
       "          email      first      last\n",
       "0  lx@gmail.com      laxmi  bhandari\n",
       "1  ma@gmail.com     mahesh  bhandari\n",
       "2  sh@gmail.com  sheshnath  Bhandari\n",
       "3  su@gmail.com      sunil   bhandar"
      ]
     },
     "execution_count": 66,
     "metadata": {},
     "output_type": "execute_result"
    }
   ],
   "source": [
    "df"
   ]
  },
  {
   "cell_type": "code",
   "execution_count": 67,
   "id": "5566ba14",
   "metadata": {},
   "outputs": [],
   "source": [
    "#.at is similar to .loc"
   ]
  },
  {
   "cell_type": "code",
   "execution_count": 68,
   "id": "e348e8a7",
   "metadata": {},
   "outputs": [],
   "source": [
    "df.at[2,'last']='bhandari'"
   ]
  },
  {
   "cell_type": "code",
   "execution_count": 69,
   "id": "84654d28",
   "metadata": {},
   "outputs": [
    {
     "data": {
      "text/html": [
       "<div>\n",
       "<style scoped>\n",
       "    .dataframe tbody tr th:only-of-type {\n",
       "        vertical-align: middle;\n",
       "    }\n",
       "\n",
       "    .dataframe tbody tr th {\n",
       "        vertical-align: top;\n",
       "    }\n",
       "\n",
       "    .dataframe thead th {\n",
       "        text-align: right;\n",
       "    }\n",
       "</style>\n",
       "<table border=\"1\" class=\"dataframe\">\n",
       "  <thead>\n",
       "    <tr style=\"text-align: right;\">\n",
       "      <th></th>\n",
       "      <th>email</th>\n",
       "      <th>first</th>\n",
       "      <th>last</th>\n",
       "    </tr>\n",
       "  </thead>\n",
       "  <tbody>\n",
       "    <tr>\n",
       "      <th>0</th>\n",
       "      <td>lx@gmail.com</td>\n",
       "      <td>laxmi</td>\n",
       "      <td>bhandari</td>\n",
       "    </tr>\n",
       "    <tr>\n",
       "      <th>1</th>\n",
       "      <td>ma@gmail.com</td>\n",
       "      <td>mahesh</td>\n",
       "      <td>bhandari</td>\n",
       "    </tr>\n",
       "    <tr>\n",
       "      <th>2</th>\n",
       "      <td>sh@gmail.com</td>\n",
       "      <td>sheshnath</td>\n",
       "      <td>bhandari</td>\n",
       "    </tr>\n",
       "    <tr>\n",
       "      <th>3</th>\n",
       "      <td>su@gmail.com</td>\n",
       "      <td>sunil</td>\n",
       "      <td>bhandar</td>\n",
       "    </tr>\n",
       "  </tbody>\n",
       "</table>\n",
       "</div>"
      ],
      "text/plain": [
       "          email      first      last\n",
       "0  lx@gmail.com      laxmi  bhandari\n",
       "1  ma@gmail.com     mahesh  bhandari\n",
       "2  sh@gmail.com  sheshnath  bhandari\n",
       "3  su@gmail.com      sunil   bhandar"
      ]
     },
     "execution_count": 69,
     "metadata": {},
     "output_type": "execute_result"
    }
   ],
   "source": [
    "df"
   ]
  },
  {
   "cell_type": "code",
   "execution_count": 70,
   "id": "8e768a7c",
   "metadata": {},
   "outputs": [],
   "source": [
    "#changing the multiple ROW"
   ]
  },
  {
   "cell_type": "code",
   "execution_count": 71,
   "id": "e463d631",
   "metadata": {},
   "outputs": [
    {
     "data": {
      "text/plain": [
       "0    lx@gmail.com\n",
       "1    ma@gmail.com\n",
       "2    sh@gmail.com\n",
       "3    su@gmail.com\n",
       "Name: email, dtype: object"
      ]
     },
     "execution_count": 71,
     "metadata": {},
     "output_type": "execute_result"
    }
   ],
   "source": [
    "df['email'].str.lower()"
   ]
  },
  {
   "cell_type": "code",
   "execution_count": 72,
   "id": "e316a628",
   "metadata": {},
   "outputs": [
    {
     "data": {
      "text/plain": [
       "0    LX@GMAIL.COM\n",
       "1    MA@GMAIL.COM\n",
       "2    SH@GMAIL.COM\n",
       "3    SU@GMAIL.COM\n",
       "Name: email, dtype: object"
      ]
     },
     "execution_count": 72,
     "metadata": {},
     "output_type": "execute_result"
    }
   ],
   "source": [
    "df['email'].str.upper()"
   ]
  },
  {
   "cell_type": "code",
   "execution_count": 73,
   "id": "62bd7a32",
   "metadata": {},
   "outputs": [
    {
     "data": {
      "text/html": [
       "<div>\n",
       "<style scoped>\n",
       "    .dataframe tbody tr th:only-of-type {\n",
       "        vertical-align: middle;\n",
       "    }\n",
       "\n",
       "    .dataframe tbody tr th {\n",
       "        vertical-align: top;\n",
       "    }\n",
       "\n",
       "    .dataframe thead th {\n",
       "        text-align: right;\n",
       "    }\n",
       "</style>\n",
       "<table border=\"1\" class=\"dataframe\">\n",
       "  <thead>\n",
       "    <tr style=\"text-align: right;\">\n",
       "      <th></th>\n",
       "      <th>email</th>\n",
       "      <th>first</th>\n",
       "      <th>last</th>\n",
       "    </tr>\n",
       "  </thead>\n",
       "  <tbody>\n",
       "    <tr>\n",
       "      <th>0</th>\n",
       "      <td>lx@gmail.com</td>\n",
       "      <td>laxmi</td>\n",
       "      <td>bhandari</td>\n",
       "    </tr>\n",
       "    <tr>\n",
       "      <th>1</th>\n",
       "      <td>ma@gmail.com</td>\n",
       "      <td>mahesh</td>\n",
       "      <td>bhandari</td>\n",
       "    </tr>\n",
       "    <tr>\n",
       "      <th>2</th>\n",
       "      <td>sh@gmail.com</td>\n",
       "      <td>sheshnath</td>\n",
       "      <td>bhandari</td>\n",
       "    </tr>\n",
       "    <tr>\n",
       "      <th>3</th>\n",
       "      <td>su@gmail.com</td>\n",
       "      <td>sunil</td>\n",
       "      <td>bhandar</td>\n",
       "    </tr>\n",
       "  </tbody>\n",
       "</table>\n",
       "</div>"
      ],
      "text/plain": [
       "          email      first      last\n",
       "0  lx@gmail.com      laxmi  bhandari\n",
       "1  ma@gmail.com     mahesh  bhandari\n",
       "2  sh@gmail.com  sheshnath  bhandari\n",
       "3  su@gmail.com      sunil   bhandar"
      ]
     },
     "execution_count": 73,
     "metadata": {},
     "output_type": "execute_result"
    }
   ],
   "source": [
    "df"
   ]
  },
  {
   "cell_type": "code",
   "execution_count": 74,
   "id": "7d19dc3e",
   "metadata": {},
   "outputs": [],
   "source": [
    "df['email']=df['email'].str.upper()"
   ]
  },
  {
   "cell_type": "code",
   "execution_count": 75,
   "id": "f78c9ecb",
   "metadata": {},
   "outputs": [
    {
     "data": {
      "text/html": [
       "<div>\n",
       "<style scoped>\n",
       "    .dataframe tbody tr th:only-of-type {\n",
       "        vertical-align: middle;\n",
       "    }\n",
       "\n",
       "    .dataframe tbody tr th {\n",
       "        vertical-align: top;\n",
       "    }\n",
       "\n",
       "    .dataframe thead th {\n",
       "        text-align: right;\n",
       "    }\n",
       "</style>\n",
       "<table border=\"1\" class=\"dataframe\">\n",
       "  <thead>\n",
       "    <tr style=\"text-align: right;\">\n",
       "      <th></th>\n",
       "      <th>email</th>\n",
       "      <th>first</th>\n",
       "      <th>last</th>\n",
       "    </tr>\n",
       "  </thead>\n",
       "  <tbody>\n",
       "    <tr>\n",
       "      <th>0</th>\n",
       "      <td>LX@GMAIL.COM</td>\n",
       "      <td>laxmi</td>\n",
       "      <td>bhandari</td>\n",
       "    </tr>\n",
       "    <tr>\n",
       "      <th>1</th>\n",
       "      <td>MA@GMAIL.COM</td>\n",
       "      <td>mahesh</td>\n",
       "      <td>bhandari</td>\n",
       "    </tr>\n",
       "    <tr>\n",
       "      <th>2</th>\n",
       "      <td>SH@GMAIL.COM</td>\n",
       "      <td>sheshnath</td>\n",
       "      <td>bhandari</td>\n",
       "    </tr>\n",
       "    <tr>\n",
       "      <th>3</th>\n",
       "      <td>SU@GMAIL.COM</td>\n",
       "      <td>sunil</td>\n",
       "      <td>bhandar</td>\n",
       "    </tr>\n",
       "  </tbody>\n",
       "</table>\n",
       "</div>"
      ],
      "text/plain": [
       "          email      first      last\n",
       "0  LX@GMAIL.COM      laxmi  bhandari\n",
       "1  MA@GMAIL.COM     mahesh  bhandari\n",
       "2  SH@GMAIL.COM  sheshnath  bhandari\n",
       "3  SU@GMAIL.COM      sunil   bhandar"
      ]
     },
     "execution_count": 75,
     "metadata": {},
     "output_type": "execute_result"
    }
   ],
   "source": [
    "df"
   ]
  },
  {
   "cell_type": "code",
   "execution_count": 76,
   "id": "0d1ae914",
   "metadata": {},
   "outputs": [
    {
     "data": {
      "text/html": [
       "<div>\n",
       "<style scoped>\n",
       "    .dataframe tbody tr th:only-of-type {\n",
       "        vertical-align: middle;\n",
       "    }\n",
       "\n",
       "    .dataframe tbody tr th {\n",
       "        vertical-align: top;\n",
       "    }\n",
       "\n",
       "    .dataframe thead th {\n",
       "        text-align: right;\n",
       "    }\n",
       "</style>\n",
       "<table border=\"1\" class=\"dataframe\">\n",
       "  <thead>\n",
       "    <tr style=\"text-align: right;\">\n",
       "      <th></th>\n",
       "      <th>email</th>\n",
       "      <th>first</th>\n",
       "      <th>last</th>\n",
       "    </tr>\n",
       "  </thead>\n",
       "  <tbody>\n",
       "    <tr>\n",
       "      <th>0</th>\n",
       "      <td>LX@GMAIL.COM</td>\n",
       "      <td>laxmi</td>\n",
       "      <td>bhandari</td>\n",
       "    </tr>\n",
       "    <tr>\n",
       "      <th>1</th>\n",
       "      <td>MA@GMAIL.COM</td>\n",
       "      <td>mahesh</td>\n",
       "      <td>bhandari</td>\n",
       "    </tr>\n",
       "    <tr>\n",
       "      <th>2</th>\n",
       "      <td>SH@GMAIL.COM</td>\n",
       "      <td>sheshnath</td>\n",
       "      <td>bhandari</td>\n",
       "    </tr>\n",
       "    <tr>\n",
       "      <th>3</th>\n",
       "      <td>SU@GMAIL.COM</td>\n",
       "      <td>sunil</td>\n",
       "      <td>bhandar</td>\n",
       "    </tr>\n",
       "  </tbody>\n",
       "</table>\n",
       "</div>"
      ],
      "text/plain": [
       "          email      first      last\n",
       "0  LX@GMAIL.COM      laxmi  bhandari\n",
       "1  MA@GMAIL.COM     mahesh  bhandari\n",
       "2  SH@GMAIL.COM  sheshnath  bhandari\n",
       "3  SU@GMAIL.COM      sunil   bhandar"
      ]
     },
     "execution_count": 76,
     "metadata": {},
     "output_type": "execute_result"
    }
   ],
   "source": [
    "df"
   ]
  },
  {
   "cell_type": "code",
   "execution_count": 77,
   "id": "e24dfa13",
   "metadata": {},
   "outputs": [],
   "source": [
    "#there are 4 method to change rows and they are\n",
    "#apply\n",
    "#map\n",
    "#applymap\n",
    "#replace\n"
   ]
  },
  {
   "cell_type": "code",
   "execution_count": 78,
   "id": "3741a579",
   "metadata": {},
   "outputs": [],
   "source": [
    "#APPLY\n",
    "#used for calling a function on our value\n",
    "#it can work in data frame and on series both."
   ]
  },
  {
   "cell_type": "code",
   "execution_count": 79,
   "id": "03dc9b05",
   "metadata": {},
   "outputs": [],
   "source": [
    "#how apply works on series"
   ]
  },
  {
   "cell_type": "code",
   "execution_count": 80,
   "id": "60cceec2",
   "metadata": {},
   "outputs": [
    {
     "data": {
      "text/plain": [
       "0    12\n",
       "1    12\n",
       "2    12\n",
       "3    12\n",
       "Name: email, dtype: int64"
      ]
     },
     "execution_count": 80,
     "metadata": {},
     "output_type": "execute_result"
    }
   ],
   "source": [
    "df['email'].apply(len)"
   ]
  },
  {
   "cell_type": "code",
   "execution_count": 81,
   "id": "3d86077b",
   "metadata": {},
   "outputs": [],
   "source": [
    "#creating the function and calling that function \n"
   ]
  },
  {
   "cell_type": "code",
   "execution_count": 82,
   "id": "cbd5d601",
   "metadata": {},
   "outputs": [],
   "source": [
    "def update_email (email):\n",
    "    return email.lower()\n"
   ]
  },
  {
   "cell_type": "code",
   "execution_count": 83,
   "id": "9dbcf5b7",
   "metadata": {},
   "outputs": [],
   "source": [
    "df['email']=df['email'].apply(update_email)"
   ]
  },
  {
   "cell_type": "code",
   "execution_count": 84,
   "id": "71ca2067",
   "metadata": {},
   "outputs": [
    {
     "data": {
      "text/html": [
       "<div>\n",
       "<style scoped>\n",
       "    .dataframe tbody tr th:only-of-type {\n",
       "        vertical-align: middle;\n",
       "    }\n",
       "\n",
       "    .dataframe tbody tr th {\n",
       "        vertical-align: top;\n",
       "    }\n",
       "\n",
       "    .dataframe thead th {\n",
       "        text-align: right;\n",
       "    }\n",
       "</style>\n",
       "<table border=\"1\" class=\"dataframe\">\n",
       "  <thead>\n",
       "    <tr style=\"text-align: right;\">\n",
       "      <th></th>\n",
       "      <th>email</th>\n",
       "      <th>first</th>\n",
       "      <th>last</th>\n",
       "    </tr>\n",
       "  </thead>\n",
       "  <tbody>\n",
       "    <tr>\n",
       "      <th>0</th>\n",
       "      <td>lx@gmail.com</td>\n",
       "      <td>laxmi</td>\n",
       "      <td>bhandari</td>\n",
       "    </tr>\n",
       "    <tr>\n",
       "      <th>1</th>\n",
       "      <td>ma@gmail.com</td>\n",
       "      <td>mahesh</td>\n",
       "      <td>bhandari</td>\n",
       "    </tr>\n",
       "    <tr>\n",
       "      <th>2</th>\n",
       "      <td>sh@gmail.com</td>\n",
       "      <td>sheshnath</td>\n",
       "      <td>bhandari</td>\n",
       "    </tr>\n",
       "    <tr>\n",
       "      <th>3</th>\n",
       "      <td>su@gmail.com</td>\n",
       "      <td>sunil</td>\n",
       "      <td>bhandar</td>\n",
       "    </tr>\n",
       "  </tbody>\n",
       "</table>\n",
       "</div>"
      ],
      "text/plain": [
       "          email      first      last\n",
       "0  lx@gmail.com      laxmi  bhandari\n",
       "1  ma@gmail.com     mahesh  bhandari\n",
       "2  sh@gmail.com  sheshnath  bhandari\n",
       "3  su@gmail.com      sunil   bhandar"
      ]
     },
     "execution_count": 84,
     "metadata": {},
     "output_type": "execute_result"
    }
   ],
   "source": [
    "df"
   ]
  },
  {
   "cell_type": "code",
   "execution_count": 85,
   "id": "a081b7e4",
   "metadata": {},
   "outputs": [],
   "source": [
    "#how apply works on dataframe"
   ]
  },
  {
   "cell_type": "code",
   "execution_count": 86,
   "id": "18f04444",
   "metadata": {},
   "outputs": [
    {
     "data": {
      "text/plain": [
       "email    4\n",
       "first    4\n",
       "last     4\n",
       "dtype: int64"
      ]
     },
     "execution_count": 86,
     "metadata": {},
     "output_type": "execute_result"
    }
   ],
   "source": [
    "df.apply(len)"
   ]
  },
  {
   "cell_type": "code",
   "execution_count": 87,
   "id": "c68d2d84",
   "metadata": {},
   "outputs": [
    {
     "data": {
      "text/plain": [
       "0    3\n",
       "1    3\n",
       "2    3\n",
       "3    3\n",
       "dtype: int64"
      ]
     },
     "execution_count": 87,
     "metadata": {},
     "output_type": "execute_result"
    }
   ],
   "source": [
    "df.apply(len,axis='columns')"
   ]
  },
  {
   "cell_type": "code",
   "execution_count": 88,
   "id": "74bf23db",
   "metadata": {},
   "outputs": [
    {
     "data": {
      "text/plain": [
       "email    lx@gmail.com\n",
       "first           laxmi\n",
       "last          bhandar\n",
       "dtype: object"
      ]
     },
     "execution_count": 88,
     "metadata": {},
     "output_type": "execute_result"
    }
   ],
   "source": [
    "df.apply(pd.Series.min)"
   ]
  },
  {
   "cell_type": "code",
   "execution_count": 89,
   "id": "8f361ec8",
   "metadata": {},
   "outputs": [],
   "source": [
    "# APPLY MAPS"
   ]
  },
  {
   "cell_type": "code",
   "execution_count": 90,
   "id": "2e68a11b",
   "metadata": {},
   "outputs": [],
   "source": [
    "#APPLY MAP only works on dataframe"
   ]
  },
  {
   "cell_type": "code",
   "execution_count": 91,
   "id": "9464ed63",
   "metadata": {},
   "outputs": [
    {
     "data": {
      "text/html": [
       "<div>\n",
       "<style scoped>\n",
       "    .dataframe tbody tr th:only-of-type {\n",
       "        vertical-align: middle;\n",
       "    }\n",
       "\n",
       "    .dataframe tbody tr th {\n",
       "        vertical-align: top;\n",
       "    }\n",
       "\n",
       "    .dataframe thead th {\n",
       "        text-align: right;\n",
       "    }\n",
       "</style>\n",
       "<table border=\"1\" class=\"dataframe\">\n",
       "  <thead>\n",
       "    <tr style=\"text-align: right;\">\n",
       "      <th></th>\n",
       "      <th>email</th>\n",
       "      <th>first</th>\n",
       "      <th>last</th>\n",
       "    </tr>\n",
       "  </thead>\n",
       "  <tbody>\n",
       "    <tr>\n",
       "      <th>0</th>\n",
       "      <td>12</td>\n",
       "      <td>5</td>\n",
       "      <td>8</td>\n",
       "    </tr>\n",
       "    <tr>\n",
       "      <th>1</th>\n",
       "      <td>12</td>\n",
       "      <td>6</td>\n",
       "      <td>8</td>\n",
       "    </tr>\n",
       "    <tr>\n",
       "      <th>2</th>\n",
       "      <td>12</td>\n",
       "      <td>9</td>\n",
       "      <td>8</td>\n",
       "    </tr>\n",
       "    <tr>\n",
       "      <th>3</th>\n",
       "      <td>12</td>\n",
       "      <td>5</td>\n",
       "      <td>7</td>\n",
       "    </tr>\n",
       "  </tbody>\n",
       "</table>\n",
       "</div>"
      ],
      "text/plain": [
       "   email  first  last\n",
       "0     12      5     8\n",
       "1     12      6     8\n",
       "2     12      9     8\n",
       "3     12      5     7"
      ]
     },
     "execution_count": 91,
     "metadata": {},
     "output_type": "execute_result"
    }
   ],
   "source": [
    "df.applymap(len)"
   ]
  },
  {
   "cell_type": "code",
   "execution_count": 92,
   "id": "5ac8bee2",
   "metadata": {},
   "outputs": [
    {
     "data": {
      "text/html": [
       "<div>\n",
       "<style scoped>\n",
       "    .dataframe tbody tr th:only-of-type {\n",
       "        vertical-align: middle;\n",
       "    }\n",
       "\n",
       "    .dataframe tbody tr th {\n",
       "        vertical-align: top;\n",
       "    }\n",
       "\n",
       "    .dataframe thead th {\n",
       "        text-align: right;\n",
       "    }\n",
       "</style>\n",
       "<table border=\"1\" class=\"dataframe\">\n",
       "  <thead>\n",
       "    <tr style=\"text-align: right;\">\n",
       "      <th></th>\n",
       "      <th>email</th>\n",
       "      <th>first</th>\n",
       "      <th>last</th>\n",
       "    </tr>\n",
       "  </thead>\n",
       "  <tbody>\n",
       "    <tr>\n",
       "      <th>0</th>\n",
       "      <td>LX@GMAIL.COM</td>\n",
       "      <td>LAXMI</td>\n",
       "      <td>BHANDARI</td>\n",
       "    </tr>\n",
       "    <tr>\n",
       "      <th>1</th>\n",
       "      <td>MA@GMAIL.COM</td>\n",
       "      <td>MAHESH</td>\n",
       "      <td>BHANDARI</td>\n",
       "    </tr>\n",
       "    <tr>\n",
       "      <th>2</th>\n",
       "      <td>SH@GMAIL.COM</td>\n",
       "      <td>SHESHNATH</td>\n",
       "      <td>BHANDARI</td>\n",
       "    </tr>\n",
       "    <tr>\n",
       "      <th>3</th>\n",
       "      <td>SU@GMAIL.COM</td>\n",
       "      <td>SUNIL</td>\n",
       "      <td>BHANDAR</td>\n",
       "    </tr>\n",
       "  </tbody>\n",
       "</table>\n",
       "</div>"
      ],
      "text/plain": [
       "          email      first      last\n",
       "0  LX@GMAIL.COM      LAXMI  BHANDARI\n",
       "1  MA@GMAIL.COM     MAHESH  BHANDARI\n",
       "2  SH@GMAIL.COM  SHESHNATH  BHANDARI\n",
       "3  SU@GMAIL.COM      SUNIL   BHANDAR"
      ]
     },
     "execution_count": 92,
     "metadata": {},
     "output_type": "execute_result"
    }
   ],
   "source": [
    "df.applymap(str.upper)"
   ]
  },
  {
   "cell_type": "code",
   "execution_count": 93,
   "id": "e2487112",
   "metadata": {},
   "outputs": [
    {
     "data": {
      "text/html": [
       "<div>\n",
       "<style scoped>\n",
       "    .dataframe tbody tr th:only-of-type {\n",
       "        vertical-align: middle;\n",
       "    }\n",
       "\n",
       "    .dataframe tbody tr th {\n",
       "        vertical-align: top;\n",
       "    }\n",
       "\n",
       "    .dataframe thead th {\n",
       "        text-align: right;\n",
       "    }\n",
       "</style>\n",
       "<table border=\"1\" class=\"dataframe\">\n",
       "  <thead>\n",
       "    <tr style=\"text-align: right;\">\n",
       "      <th></th>\n",
       "      <th>email</th>\n",
       "      <th>first</th>\n",
       "      <th>last</th>\n",
       "    </tr>\n",
       "  </thead>\n",
       "  <tbody>\n",
       "    <tr>\n",
       "      <th>0</th>\n",
       "      <td>lx@gmail.com</td>\n",
       "      <td>laxmi</td>\n",
       "      <td>bhandari</td>\n",
       "    </tr>\n",
       "    <tr>\n",
       "      <th>1</th>\n",
       "      <td>ma@gmail.com</td>\n",
       "      <td>mahesh</td>\n",
       "      <td>bhandari</td>\n",
       "    </tr>\n",
       "    <tr>\n",
       "      <th>2</th>\n",
       "      <td>sh@gmail.com</td>\n",
       "      <td>sheshnath</td>\n",
       "      <td>bhandari</td>\n",
       "    </tr>\n",
       "    <tr>\n",
       "      <th>3</th>\n",
       "      <td>su@gmail.com</td>\n",
       "      <td>sunil</td>\n",
       "      <td>bhandar</td>\n",
       "    </tr>\n",
       "  </tbody>\n",
       "</table>\n",
       "</div>"
      ],
      "text/plain": [
       "          email      first      last\n",
       "0  lx@gmail.com      laxmi  bhandari\n",
       "1  ma@gmail.com     mahesh  bhandari\n",
       "2  sh@gmail.com  sheshnath  bhandari\n",
       "3  su@gmail.com      sunil   bhandar"
      ]
     },
     "execution_count": 93,
     "metadata": {},
     "output_type": "execute_result"
    }
   ],
   "source": [
    "df.applymap(str.lower)"
   ]
  },
  {
   "cell_type": "code",
   "execution_count": 94,
   "id": "66fda482",
   "metadata": {},
   "outputs": [],
   "source": [
    "#MAP"
   ]
  },
  {
   "cell_type": "code",
   "execution_count": 95,
   "id": "8fa5a11a",
   "metadata": {},
   "outputs": [],
   "source": [
    "#map is used to substitute each values in a series with another value.\n",
    "#here the dictionary comes into the picture."
   ]
  },
  {
   "cell_type": "code",
   "execution_count": 96,
   "id": "7e8556f6",
   "metadata": {},
   "outputs": [
    {
     "data": {
      "text/plain": [
       "0    NaN\n",
       "1    NaN\n",
       "2    NaN\n",
       "3    men\n",
       "Name: first, dtype: object"
      ]
     },
     "execution_count": 96,
     "metadata": {},
     "output_type": "execute_result"
    }
   ],
   "source": [
    "df['first'].map({'sunil':'men'})"
   ]
  },
  {
   "cell_type": "code",
   "execution_count": 97,
   "id": "dc3060d8",
   "metadata": {},
   "outputs": [],
   "source": [
    "#the drawback of using map is that if we donot change the any word it will not be viewed same,\n",
    "#rather  it will show NaN"
   ]
  },
  {
   "cell_type": "code",
   "execution_count": 98,
   "id": "737d1530",
   "metadata": {},
   "outputs": [],
   "source": [
    "#so REPLACE comes into the picture.\n"
   ]
  },
  {
   "cell_type": "code",
   "execution_count": 99,
   "id": "00808164",
   "metadata": {},
   "outputs": [],
   "source": [
    "#REPLACE"
   ]
  },
  {
   "cell_type": "code",
   "execution_count": 100,
   "id": "e3166a7c",
   "metadata": {},
   "outputs": [
    {
     "data": {
      "text/plain": [
       "0        laxmi\n",
       "1       mahesh\n",
       "2    sheshnath\n",
       "3        sunil\n",
       "Name: first, dtype: object"
      ]
     },
     "execution_count": 100,
     "metadata": {},
     "output_type": "execute_result"
    }
   ],
   "source": [
    "df['first'].replace({'men':'sunil'})"
   ]
  },
  {
   "cell_type": "code",
   "execution_count": 101,
   "id": "9c724bc7",
   "metadata": {},
   "outputs": [
    {
     "data": {
      "text/html": [
       "<div>\n",
       "<style scoped>\n",
       "    .dataframe tbody tr th:only-of-type {\n",
       "        vertical-align: middle;\n",
       "    }\n",
       "\n",
       "    .dataframe tbody tr th {\n",
       "        vertical-align: top;\n",
       "    }\n",
       "\n",
       "    .dataframe thead th {\n",
       "        text-align: right;\n",
       "    }\n",
       "</style>\n",
       "<table border=\"1\" class=\"dataframe\">\n",
       "  <thead>\n",
       "    <tr style=\"text-align: right;\">\n",
       "      <th></th>\n",
       "      <th>email</th>\n",
       "      <th>first</th>\n",
       "      <th>last</th>\n",
       "    </tr>\n",
       "  </thead>\n",
       "  <tbody>\n",
       "    <tr>\n",
       "      <th>0</th>\n",
       "      <td>lx@gmail.com</td>\n",
       "      <td>laxmi</td>\n",
       "      <td>bhandari</td>\n",
       "    </tr>\n",
       "    <tr>\n",
       "      <th>1</th>\n",
       "      <td>ma@gmail.com</td>\n",
       "      <td>mahesh</td>\n",
       "      <td>bhandari</td>\n",
       "    </tr>\n",
       "    <tr>\n",
       "      <th>2</th>\n",
       "      <td>sh@gmail.com</td>\n",
       "      <td>sheshnath</td>\n",
       "      <td>bhandari</td>\n",
       "    </tr>\n",
       "    <tr>\n",
       "      <th>3</th>\n",
       "      <td>su@gmail.com</td>\n",
       "      <td>sunil</td>\n",
       "      <td>bhandar</td>\n",
       "    </tr>\n",
       "  </tbody>\n",
       "</table>\n",
       "</div>"
      ],
      "text/plain": [
       "          email      first      last\n",
       "0  lx@gmail.com      laxmi  bhandari\n",
       "1  ma@gmail.com     mahesh  bhandari\n",
       "2  sh@gmail.com  sheshnath  bhandari\n",
       "3  su@gmail.com      sunil   bhandar"
      ]
     },
     "execution_count": 101,
     "metadata": {},
     "output_type": "execute_result"
    }
   ],
   "source": [
    "df"
   ]
  },
  {
   "cell_type": "code",
   "execution_count": 102,
   "id": "663d37af",
   "metadata": {},
   "outputs": [],
   "source": [
    "#Add and remove rows and columns from dataframe"
   ]
  },
  {
   "cell_type": "code",
   "execution_count": 103,
   "id": "5060da9e",
   "metadata": {},
   "outputs": [],
   "source": [
    "#for columns\n",
    "#combining columns\n"
   ]
  },
  {
   "cell_type": "code",
   "execution_count": 104,
   "id": "974714cd",
   "metadata": {},
   "outputs": [
    {
     "data": {
      "text/plain": [
       "0        laxmi bhandari\n",
       "1       mahesh bhandari\n",
       "2    sheshnath bhandari\n",
       "3         sunil bhandar\n",
       "dtype: object"
      ]
     },
     "execution_count": 104,
     "metadata": {},
     "output_type": "execute_result"
    }
   ],
   "source": [
    "df['first']+' '+df['last']"
   ]
  },
  {
   "cell_type": "code",
   "execution_count": 105,
   "id": "6465e933",
   "metadata": {},
   "outputs": [],
   "source": [
    "#Adding Columns"
   ]
  },
  {
   "cell_type": "code",
   "execution_count": 106,
   "id": "edaea247",
   "metadata": {},
   "outputs": [],
   "source": [
    "df['Full_name']=df['first']+' '+df['last']"
   ]
  },
  {
   "cell_type": "code",
   "execution_count": 107,
   "id": "52278489",
   "metadata": {},
   "outputs": [
    {
     "data": {
      "text/html": [
       "<div>\n",
       "<style scoped>\n",
       "    .dataframe tbody tr th:only-of-type {\n",
       "        vertical-align: middle;\n",
       "    }\n",
       "\n",
       "    .dataframe tbody tr th {\n",
       "        vertical-align: top;\n",
       "    }\n",
       "\n",
       "    .dataframe thead th {\n",
       "        text-align: right;\n",
       "    }\n",
       "</style>\n",
       "<table border=\"1\" class=\"dataframe\">\n",
       "  <thead>\n",
       "    <tr style=\"text-align: right;\">\n",
       "      <th></th>\n",
       "      <th>email</th>\n",
       "      <th>first</th>\n",
       "      <th>last</th>\n",
       "      <th>Full_name</th>\n",
       "    </tr>\n",
       "  </thead>\n",
       "  <tbody>\n",
       "    <tr>\n",
       "      <th>0</th>\n",
       "      <td>lx@gmail.com</td>\n",
       "      <td>laxmi</td>\n",
       "      <td>bhandari</td>\n",
       "      <td>laxmi bhandari</td>\n",
       "    </tr>\n",
       "    <tr>\n",
       "      <th>1</th>\n",
       "      <td>ma@gmail.com</td>\n",
       "      <td>mahesh</td>\n",
       "      <td>bhandari</td>\n",
       "      <td>mahesh bhandari</td>\n",
       "    </tr>\n",
       "    <tr>\n",
       "      <th>2</th>\n",
       "      <td>sh@gmail.com</td>\n",
       "      <td>sheshnath</td>\n",
       "      <td>bhandari</td>\n",
       "      <td>sheshnath bhandari</td>\n",
       "    </tr>\n",
       "    <tr>\n",
       "      <th>3</th>\n",
       "      <td>su@gmail.com</td>\n",
       "      <td>sunil</td>\n",
       "      <td>bhandar</td>\n",
       "      <td>sunil bhandar</td>\n",
       "    </tr>\n",
       "  </tbody>\n",
       "</table>\n",
       "</div>"
      ],
      "text/plain": [
       "          email      first      last           Full_name\n",
       "0  lx@gmail.com      laxmi  bhandari      laxmi bhandari\n",
       "1  ma@gmail.com     mahesh  bhandari     mahesh bhandari\n",
       "2  sh@gmail.com  sheshnath  bhandari  sheshnath bhandari\n",
       "3  su@gmail.com      sunil   bhandar       sunil bhandar"
      ]
     },
     "execution_count": 107,
     "metadata": {},
     "output_type": "execute_result"
    }
   ],
   "source": [
    "df"
   ]
  },
  {
   "cell_type": "code",
   "execution_count": 108,
   "id": "0f9b37be",
   "metadata": {},
   "outputs": [],
   "source": [
    "#removing columns\n",
    "#drop is used to remove."
   ]
  },
  {
   "cell_type": "code",
   "execution_count": 109,
   "id": "a338bc3e",
   "metadata": {},
   "outputs": [],
   "source": [
    "df.drop(columns=['first','last'],inplace=True)\n"
   ]
  },
  {
   "cell_type": "code",
   "execution_count": 110,
   "id": "8b670474",
   "metadata": {},
   "outputs": [
    {
     "data": {
      "text/html": [
       "<div>\n",
       "<style scoped>\n",
       "    .dataframe tbody tr th:only-of-type {\n",
       "        vertical-align: middle;\n",
       "    }\n",
       "\n",
       "    .dataframe tbody tr th {\n",
       "        vertical-align: top;\n",
       "    }\n",
       "\n",
       "    .dataframe thead th {\n",
       "        text-align: right;\n",
       "    }\n",
       "</style>\n",
       "<table border=\"1\" class=\"dataframe\">\n",
       "  <thead>\n",
       "    <tr style=\"text-align: right;\">\n",
       "      <th></th>\n",
       "      <th>email</th>\n",
       "      <th>Full_name</th>\n",
       "    </tr>\n",
       "  </thead>\n",
       "  <tbody>\n",
       "    <tr>\n",
       "      <th>0</th>\n",
       "      <td>lx@gmail.com</td>\n",
       "      <td>laxmi bhandari</td>\n",
       "    </tr>\n",
       "    <tr>\n",
       "      <th>1</th>\n",
       "      <td>ma@gmail.com</td>\n",
       "      <td>mahesh bhandari</td>\n",
       "    </tr>\n",
       "    <tr>\n",
       "      <th>2</th>\n",
       "      <td>sh@gmail.com</td>\n",
       "      <td>sheshnath bhandari</td>\n",
       "    </tr>\n",
       "    <tr>\n",
       "      <th>3</th>\n",
       "      <td>su@gmail.com</td>\n",
       "      <td>sunil bhandar</td>\n",
       "    </tr>\n",
       "  </tbody>\n",
       "</table>\n",
       "</div>"
      ],
      "text/plain": [
       "          email           Full_name\n",
       "0  lx@gmail.com      laxmi bhandari\n",
       "1  ma@gmail.com     mahesh bhandari\n",
       "2  sh@gmail.com  sheshnath bhandari\n",
       "3  su@gmail.com       sunil bhandar"
      ]
     },
     "execution_count": 110,
     "metadata": {},
     "output_type": "execute_result"
    }
   ],
   "source": [
    "df"
   ]
  },
  {
   "cell_type": "code",
   "execution_count": 111,
   "id": "55dbe41e",
   "metadata": {},
   "outputs": [],
   "source": [
    "#string split"
   ]
  },
  {
   "cell_type": "code",
   "execution_count": 112,
   "id": "a6c79448",
   "metadata": {},
   "outputs": [
    {
     "data": {
      "text/plain": [
       "0        [laxmi, bhandari]\n",
       "1       [mahesh, bhandari]\n",
       "2    [sheshnath, bhandari]\n",
       "3         [sunil, bhandar]\n",
       "Name: Full_name, dtype: object"
      ]
     },
     "execution_count": 112,
     "metadata": {},
     "output_type": "execute_result"
    }
   ],
   "source": [
    "df['Full_name'].str.split(' ')"
   ]
  },
  {
   "cell_type": "code",
   "execution_count": 113,
   "id": "5f7bce01",
   "metadata": {},
   "outputs": [
    {
     "data": {
      "text/html": [
       "<div>\n",
       "<style scoped>\n",
       "    .dataframe tbody tr th:only-of-type {\n",
       "        vertical-align: middle;\n",
       "    }\n",
       "\n",
       "    .dataframe tbody tr th {\n",
       "        vertical-align: top;\n",
       "    }\n",
       "\n",
       "    .dataframe thead th {\n",
       "        text-align: right;\n",
       "    }\n",
       "</style>\n",
       "<table border=\"1\" class=\"dataframe\">\n",
       "  <thead>\n",
       "    <tr style=\"text-align: right;\">\n",
       "      <th></th>\n",
       "      <th>0</th>\n",
       "      <th>1</th>\n",
       "    </tr>\n",
       "  </thead>\n",
       "  <tbody>\n",
       "    <tr>\n",
       "      <th>0</th>\n",
       "      <td>laxmi</td>\n",
       "      <td>bhandari</td>\n",
       "    </tr>\n",
       "    <tr>\n",
       "      <th>1</th>\n",
       "      <td>mahesh</td>\n",
       "      <td>bhandari</td>\n",
       "    </tr>\n",
       "    <tr>\n",
       "      <th>2</th>\n",
       "      <td>sheshnath</td>\n",
       "      <td>bhandari</td>\n",
       "    </tr>\n",
       "    <tr>\n",
       "      <th>3</th>\n",
       "      <td>sunil</td>\n",
       "      <td>bhandar</td>\n",
       "    </tr>\n",
       "  </tbody>\n",
       "</table>\n",
       "</div>"
      ],
      "text/plain": [
       "           0         1\n",
       "0      laxmi  bhandari\n",
       "1     mahesh  bhandari\n",
       "2  sheshnath  bhandari\n",
       "3      sunil   bhandar"
      ]
     },
     "execution_count": 113,
     "metadata": {},
     "output_type": "execute_result"
    }
   ],
   "source": [
    "df['Full_name'].str.split(' ',expand=True)"
   ]
  },
  {
   "cell_type": "code",
   "execution_count": 114,
   "id": "a14c056d",
   "metadata": {},
   "outputs": [],
   "source": [
    "df[['first','last']]=df['Full_name'].str.split(' ',expand=True)"
   ]
  },
  {
   "cell_type": "code",
   "execution_count": 115,
   "id": "3efa96cb",
   "metadata": {},
   "outputs": [
    {
     "data": {
      "text/html": [
       "<div>\n",
       "<style scoped>\n",
       "    .dataframe tbody tr th:only-of-type {\n",
       "        vertical-align: middle;\n",
       "    }\n",
       "\n",
       "    .dataframe tbody tr th {\n",
       "        vertical-align: top;\n",
       "    }\n",
       "\n",
       "    .dataframe thead th {\n",
       "        text-align: right;\n",
       "    }\n",
       "</style>\n",
       "<table border=\"1\" class=\"dataframe\">\n",
       "  <thead>\n",
       "    <tr style=\"text-align: right;\">\n",
       "      <th></th>\n",
       "      <th>email</th>\n",
       "      <th>Full_name</th>\n",
       "      <th>first</th>\n",
       "      <th>last</th>\n",
       "    </tr>\n",
       "  </thead>\n",
       "  <tbody>\n",
       "    <tr>\n",
       "      <th>0</th>\n",
       "      <td>lx@gmail.com</td>\n",
       "      <td>laxmi bhandari</td>\n",
       "      <td>laxmi</td>\n",
       "      <td>bhandari</td>\n",
       "    </tr>\n",
       "    <tr>\n",
       "      <th>1</th>\n",
       "      <td>ma@gmail.com</td>\n",
       "      <td>mahesh bhandari</td>\n",
       "      <td>mahesh</td>\n",
       "      <td>bhandari</td>\n",
       "    </tr>\n",
       "    <tr>\n",
       "      <th>2</th>\n",
       "      <td>sh@gmail.com</td>\n",
       "      <td>sheshnath bhandari</td>\n",
       "      <td>sheshnath</td>\n",
       "      <td>bhandari</td>\n",
       "    </tr>\n",
       "    <tr>\n",
       "      <th>3</th>\n",
       "      <td>su@gmail.com</td>\n",
       "      <td>sunil bhandar</td>\n",
       "      <td>sunil</td>\n",
       "      <td>bhandar</td>\n",
       "    </tr>\n",
       "  </tbody>\n",
       "</table>\n",
       "</div>"
      ],
      "text/plain": [
       "          email           Full_name      first      last\n",
       "0  lx@gmail.com      laxmi bhandari      laxmi  bhandari\n",
       "1  ma@gmail.com     mahesh bhandari     mahesh  bhandari\n",
       "2  sh@gmail.com  sheshnath bhandari  sheshnath  bhandari\n",
       "3  su@gmail.com       sunil bhandar      sunil   bhandar"
      ]
     },
     "execution_count": 115,
     "metadata": {},
     "output_type": "execute_result"
    }
   ],
   "source": [
    "df\n"
   ]
  },
  {
   "cell_type": "code",
   "execution_count": 116,
   "id": "e74d96ae",
   "metadata": {},
   "outputs": [
    {
     "data": {
      "text/html": [
       "<div>\n",
       "<style scoped>\n",
       "    .dataframe tbody tr th:only-of-type {\n",
       "        vertical-align: middle;\n",
       "    }\n",
       "\n",
       "    .dataframe tbody tr th {\n",
       "        vertical-align: top;\n",
       "    }\n",
       "\n",
       "    .dataframe thead th {\n",
       "        text-align: right;\n",
       "    }\n",
       "</style>\n",
       "<table border=\"1\" class=\"dataframe\">\n",
       "  <thead>\n",
       "    <tr style=\"text-align: right;\">\n",
       "      <th></th>\n",
       "      <th>email</th>\n",
       "      <th>Full_name</th>\n",
       "      <th>first</th>\n",
       "      <th>last</th>\n",
       "    </tr>\n",
       "  </thead>\n",
       "  <tbody>\n",
       "    <tr>\n",
       "      <th>0</th>\n",
       "      <td>lx@gmail.com</td>\n",
       "      <td>laxmi bhandari</td>\n",
       "      <td>laxmi</td>\n",
       "      <td>bhandari</td>\n",
       "    </tr>\n",
       "    <tr>\n",
       "      <th>1</th>\n",
       "      <td>ma@gmail.com</td>\n",
       "      <td>mahesh bhandari</td>\n",
       "      <td>mahesh</td>\n",
       "      <td>bhandari</td>\n",
       "    </tr>\n",
       "    <tr>\n",
       "      <th>2</th>\n",
       "      <td>sh@gmail.com</td>\n",
       "      <td>sheshnath bhandari</td>\n",
       "      <td>sheshnath</td>\n",
       "      <td>bhandari</td>\n",
       "    </tr>\n",
       "    <tr>\n",
       "      <th>3</th>\n",
       "      <td>su@gmail.com</td>\n",
       "      <td>sunil bhandar</td>\n",
       "      <td>sunil</td>\n",
       "      <td>bhandar</td>\n",
       "    </tr>\n",
       "  </tbody>\n",
       "</table>\n",
       "</div>"
      ],
      "text/plain": [
       "          email           Full_name      first      last\n",
       "0  lx@gmail.com      laxmi bhandari      laxmi  bhandari\n",
       "1  ma@gmail.com     mahesh bhandari     mahesh  bhandari\n",
       "2  sh@gmail.com  sheshnath bhandari  sheshnath  bhandari\n",
       "3  su@gmail.com       sunil bhandar      sunil   bhandar"
      ]
     },
     "execution_count": 116,
     "metadata": {},
     "output_type": "execute_result"
    }
   ],
   "source": [
    "df"
   ]
  },
  {
   "cell_type": "code",
   "execution_count": 117,
   "id": "40df0663",
   "metadata": {},
   "outputs": [
    {
     "data": {
      "text/html": [
       "<div>\n",
       "<style scoped>\n",
       "    .dataframe tbody tr th:only-of-type {\n",
       "        vertical-align: middle;\n",
       "    }\n",
       "\n",
       "    .dataframe tbody tr th {\n",
       "        vertical-align: top;\n",
       "    }\n",
       "\n",
       "    .dataframe thead th {\n",
       "        text-align: right;\n",
       "    }\n",
       "</style>\n",
       "<table border=\"1\" class=\"dataframe\">\n",
       "  <thead>\n",
       "    <tr style=\"text-align: right;\">\n",
       "      <th></th>\n",
       "      <th>email</th>\n",
       "      <th>Full_name</th>\n",
       "      <th>first</th>\n",
       "      <th>last</th>\n",
       "    </tr>\n",
       "  </thead>\n",
       "  <tbody>\n",
       "    <tr>\n",
       "      <th>0</th>\n",
       "      <td>lx@gmail.com</td>\n",
       "      <td>laxmi bhandari</td>\n",
       "      <td>laxmi</td>\n",
       "      <td>bhandari</td>\n",
       "    </tr>\n",
       "    <tr>\n",
       "      <th>1</th>\n",
       "      <td>ma@gmail.com</td>\n",
       "      <td>mahesh bhandari</td>\n",
       "      <td>mahesh</td>\n",
       "      <td>bhandari</td>\n",
       "    </tr>\n",
       "    <tr>\n",
       "      <th>2</th>\n",
       "      <td>sh@gmail.com</td>\n",
       "      <td>sheshnath bhandari</td>\n",
       "      <td>sheshnath</td>\n",
       "      <td>bhandari</td>\n",
       "    </tr>\n",
       "    <tr>\n",
       "      <th>3</th>\n",
       "      <td>su@gmail.com</td>\n",
       "      <td>sunil bhandar</td>\n",
       "      <td>sunil</td>\n",
       "      <td>bhandar</td>\n",
       "    </tr>\n",
       "  </tbody>\n",
       "</table>\n",
       "</div>"
      ],
      "text/plain": [
       "          email           Full_name      first      last\n",
       "0  lx@gmail.com      laxmi bhandari      laxmi  bhandari\n",
       "1  ma@gmail.com     mahesh bhandari     mahesh  bhandari\n",
       "2  sh@gmail.com  sheshnath bhandari  sheshnath  bhandari\n",
       "3  su@gmail.com       sunil bhandar      sunil   bhandar"
      ]
     },
     "execution_count": 117,
     "metadata": {},
     "output_type": "execute_result"
    }
   ],
   "source": [
    "#now its turn for rows\n",
    "#adding single rows\n",
    "#for adding the single rows the concat is used \n",
    "df\n"
   ]
  },
  {
   "cell_type": "code",
   "execution_count": 118,
   "id": "2edc4742",
   "metadata": {},
   "outputs": [
    {
     "name": "stderr",
     "output_type": "stream",
     "text": [
      "C:\\Users\\asus\\AppData\\Local\\Temp\\ipykernel_3676\\3701847585.py:1: FutureWarning: The frame.append method is deprecated and will be removed from pandas in a future version. Use pandas.concat instead.\n",
      "  df.append({'Full_name':'Neymar Jr'},ignore_index=True)\n"
     ]
    },
    {
     "data": {
      "text/html": [
       "<div>\n",
       "<style scoped>\n",
       "    .dataframe tbody tr th:only-of-type {\n",
       "        vertical-align: middle;\n",
       "    }\n",
       "\n",
       "    .dataframe tbody tr th {\n",
       "        vertical-align: top;\n",
       "    }\n",
       "\n",
       "    .dataframe thead th {\n",
       "        text-align: right;\n",
       "    }\n",
       "</style>\n",
       "<table border=\"1\" class=\"dataframe\">\n",
       "  <thead>\n",
       "    <tr style=\"text-align: right;\">\n",
       "      <th></th>\n",
       "      <th>email</th>\n",
       "      <th>Full_name</th>\n",
       "      <th>first</th>\n",
       "      <th>last</th>\n",
       "    </tr>\n",
       "  </thead>\n",
       "  <tbody>\n",
       "    <tr>\n",
       "      <th>0</th>\n",
       "      <td>lx@gmail.com</td>\n",
       "      <td>laxmi bhandari</td>\n",
       "      <td>laxmi</td>\n",
       "      <td>bhandari</td>\n",
       "    </tr>\n",
       "    <tr>\n",
       "      <th>1</th>\n",
       "      <td>ma@gmail.com</td>\n",
       "      <td>mahesh bhandari</td>\n",
       "      <td>mahesh</td>\n",
       "      <td>bhandari</td>\n",
       "    </tr>\n",
       "    <tr>\n",
       "      <th>2</th>\n",
       "      <td>sh@gmail.com</td>\n",
       "      <td>sheshnath bhandari</td>\n",
       "      <td>sheshnath</td>\n",
       "      <td>bhandari</td>\n",
       "    </tr>\n",
       "    <tr>\n",
       "      <th>3</th>\n",
       "      <td>su@gmail.com</td>\n",
       "      <td>sunil bhandar</td>\n",
       "      <td>sunil</td>\n",
       "      <td>bhandar</td>\n",
       "    </tr>\n",
       "    <tr>\n",
       "      <th>4</th>\n",
       "      <td>NaN</td>\n",
       "      <td>Neymar Jr</td>\n",
       "      <td>NaN</td>\n",
       "      <td>NaN</td>\n",
       "    </tr>\n",
       "  </tbody>\n",
       "</table>\n",
       "</div>"
      ],
      "text/plain": [
       "          email           Full_name      first      last\n",
       "0  lx@gmail.com      laxmi bhandari      laxmi  bhandari\n",
       "1  ma@gmail.com     mahesh bhandari     mahesh  bhandari\n",
       "2  sh@gmail.com  sheshnath bhandari  sheshnath  bhandari\n",
       "3  su@gmail.com       sunil bhandar      sunil   bhandar\n",
       "4           NaN           Neymar Jr        NaN       NaN"
      ]
     },
     "execution_count": 118,
     "metadata": {},
     "output_type": "execute_result"
    }
   ],
   "source": [
    "df.append({'Full_name':'Neymar Jr'},ignore_index=True)"
   ]
  },
  {
   "cell_type": "code",
   "execution_count": 119,
   "id": "822993bc",
   "metadata": {},
   "outputs": [],
   "source": [
    "#Modifying dataframe"
   ]
  },
  {
   "cell_type": "code",
   "execution_count": 120,
   "id": "5977c0de",
   "metadata": {},
   "outputs": [],
   "source": [
    "#creating an another dictionary"
   ]
  },
  {
   "cell_type": "code",
   "execution_count": 121,
   "id": "495652ea",
   "metadata": {},
   "outputs": [],
   "source": [
    "people={\n",
    "    'first':['Mice',\"Jerry\"],\n",
    "    'last':['Trump','Hennry'],\n",
    "    'email':['m@gmail.com','J@gmail.com']\n",
    "}"
   ]
  },
  {
   "cell_type": "code",
   "execution_count": 122,
   "id": "0374a7cb",
   "metadata": {},
   "outputs": [],
   "source": [
    "df2=pd.DataFrame(people)"
   ]
  },
  {
   "cell_type": "code",
   "execution_count": 123,
   "id": "21755865",
   "metadata": {},
   "outputs": [
    {
     "data": {
      "text/html": [
       "<div>\n",
       "<style scoped>\n",
       "    .dataframe tbody tr th:only-of-type {\n",
       "        vertical-align: middle;\n",
       "    }\n",
       "\n",
       "    .dataframe tbody tr th {\n",
       "        vertical-align: top;\n",
       "    }\n",
       "\n",
       "    .dataframe thead th {\n",
       "        text-align: right;\n",
       "    }\n",
       "</style>\n",
       "<table border=\"1\" class=\"dataframe\">\n",
       "  <thead>\n",
       "    <tr style=\"text-align: right;\">\n",
       "      <th></th>\n",
       "      <th>first</th>\n",
       "      <th>last</th>\n",
       "      <th>email</th>\n",
       "    </tr>\n",
       "  </thead>\n",
       "  <tbody>\n",
       "    <tr>\n",
       "      <th>0</th>\n",
       "      <td>Mice</td>\n",
       "      <td>Trump</td>\n",
       "      <td>m@gmail.com</td>\n",
       "    </tr>\n",
       "    <tr>\n",
       "      <th>1</th>\n",
       "      <td>Jerry</td>\n",
       "      <td>Hennry</td>\n",
       "      <td>J@gmail.com</td>\n",
       "    </tr>\n",
       "  </tbody>\n",
       "</table>\n",
       "</div>"
      ],
      "text/plain": [
       "   first    last        email\n",
       "0   Mice   Trump  m@gmail.com\n",
       "1  Jerry  Hennry  J@gmail.com"
      ]
     },
     "execution_count": 123,
     "metadata": {},
     "output_type": "execute_result"
    }
   ],
   "source": [
    "df2"
   ]
  },
  {
   "cell_type": "code",
   "execution_count": 124,
   "id": "cad88f33",
   "metadata": {},
   "outputs": [],
   "source": [
    "#combining or appending the dataframe"
   ]
  },
  {
   "cell_type": "code",
   "execution_count": 125,
   "id": "dd21a4b4",
   "metadata": {},
   "outputs": [
    {
     "name": "stderr",
     "output_type": "stream",
     "text": [
      "C:\\Users\\asus\\AppData\\Local\\Temp\\ipykernel_3676\\2741153526.py:1: FutureWarning: The frame.append method is deprecated and will be removed from pandas in a future version. Use pandas.concat instead.\n",
      "  df.append(df2,ignore_index=True)\n"
     ]
    },
    {
     "data": {
      "text/html": [
       "<div>\n",
       "<style scoped>\n",
       "    .dataframe tbody tr th:only-of-type {\n",
       "        vertical-align: middle;\n",
       "    }\n",
       "\n",
       "    .dataframe tbody tr th {\n",
       "        vertical-align: top;\n",
       "    }\n",
       "\n",
       "    .dataframe thead th {\n",
       "        text-align: right;\n",
       "    }\n",
       "</style>\n",
       "<table border=\"1\" class=\"dataframe\">\n",
       "  <thead>\n",
       "    <tr style=\"text-align: right;\">\n",
       "      <th></th>\n",
       "      <th>email</th>\n",
       "      <th>Full_name</th>\n",
       "      <th>first</th>\n",
       "      <th>last</th>\n",
       "    </tr>\n",
       "  </thead>\n",
       "  <tbody>\n",
       "    <tr>\n",
       "      <th>0</th>\n",
       "      <td>lx@gmail.com</td>\n",
       "      <td>laxmi bhandari</td>\n",
       "      <td>laxmi</td>\n",
       "      <td>bhandari</td>\n",
       "    </tr>\n",
       "    <tr>\n",
       "      <th>1</th>\n",
       "      <td>ma@gmail.com</td>\n",
       "      <td>mahesh bhandari</td>\n",
       "      <td>mahesh</td>\n",
       "      <td>bhandari</td>\n",
       "    </tr>\n",
       "    <tr>\n",
       "      <th>2</th>\n",
       "      <td>sh@gmail.com</td>\n",
       "      <td>sheshnath bhandari</td>\n",
       "      <td>sheshnath</td>\n",
       "      <td>bhandari</td>\n",
       "    </tr>\n",
       "    <tr>\n",
       "      <th>3</th>\n",
       "      <td>su@gmail.com</td>\n",
       "      <td>sunil bhandar</td>\n",
       "      <td>sunil</td>\n",
       "      <td>bhandar</td>\n",
       "    </tr>\n",
       "    <tr>\n",
       "      <th>4</th>\n",
       "      <td>m@gmail.com</td>\n",
       "      <td>NaN</td>\n",
       "      <td>Mice</td>\n",
       "      <td>Trump</td>\n",
       "    </tr>\n",
       "    <tr>\n",
       "      <th>5</th>\n",
       "      <td>J@gmail.com</td>\n",
       "      <td>NaN</td>\n",
       "      <td>Jerry</td>\n",
       "      <td>Hennry</td>\n",
       "    </tr>\n",
       "  </tbody>\n",
       "</table>\n",
       "</div>"
      ],
      "text/plain": [
       "          email           Full_name      first      last\n",
       "0  lx@gmail.com      laxmi bhandari      laxmi  bhandari\n",
       "1  ma@gmail.com     mahesh bhandari     mahesh  bhandari\n",
       "2  sh@gmail.com  sheshnath bhandari  sheshnath  bhandari\n",
       "3  su@gmail.com       sunil bhandar      sunil   bhandar\n",
       "4   m@gmail.com                 NaN       Mice     Trump\n",
       "5   J@gmail.com                 NaN      Jerry    Hennry"
      ]
     },
     "execution_count": 125,
     "metadata": {},
     "output_type": "execute_result"
    }
   ],
   "source": [
    "df.append(df2,ignore_index=True)"
   ]
  },
  {
   "cell_type": "code",
   "execution_count": 126,
   "id": "cda9ffd9",
   "metadata": {},
   "outputs": [],
   "source": [
    "#here inplace cannot be used so "
   ]
  },
  {
   "cell_type": "code",
   "execution_count": 127,
   "id": "87be2721",
   "metadata": {},
   "outputs": [
    {
     "name": "stderr",
     "output_type": "stream",
     "text": [
      "C:\\Users\\asus\\AppData\\Local\\Temp\\ipykernel_3676\\2482205262.py:1: FutureWarning: The frame.append method is deprecated and will be removed from pandas in a future version. Use pandas.concat instead.\n",
      "  df=df.append(df2,ignore_index=True)\n"
     ]
    }
   ],
   "source": [
    "df=df.append(df2,ignore_index=True)"
   ]
  },
  {
   "cell_type": "code",
   "execution_count": 128,
   "id": "305b121a",
   "metadata": {},
   "outputs": [
    {
     "data": {
      "text/html": [
       "<div>\n",
       "<style scoped>\n",
       "    .dataframe tbody tr th:only-of-type {\n",
       "        vertical-align: middle;\n",
       "    }\n",
       "\n",
       "    .dataframe tbody tr th {\n",
       "        vertical-align: top;\n",
       "    }\n",
       "\n",
       "    .dataframe thead th {\n",
       "        text-align: right;\n",
       "    }\n",
       "</style>\n",
       "<table border=\"1\" class=\"dataframe\">\n",
       "  <thead>\n",
       "    <tr style=\"text-align: right;\">\n",
       "      <th></th>\n",
       "      <th>email</th>\n",
       "      <th>Full_name</th>\n",
       "      <th>first</th>\n",
       "      <th>last</th>\n",
       "    </tr>\n",
       "  </thead>\n",
       "  <tbody>\n",
       "    <tr>\n",
       "      <th>0</th>\n",
       "      <td>lx@gmail.com</td>\n",
       "      <td>laxmi bhandari</td>\n",
       "      <td>laxmi</td>\n",
       "      <td>bhandari</td>\n",
       "    </tr>\n",
       "    <tr>\n",
       "      <th>1</th>\n",
       "      <td>ma@gmail.com</td>\n",
       "      <td>mahesh bhandari</td>\n",
       "      <td>mahesh</td>\n",
       "      <td>bhandari</td>\n",
       "    </tr>\n",
       "    <tr>\n",
       "      <th>2</th>\n",
       "      <td>sh@gmail.com</td>\n",
       "      <td>sheshnath bhandari</td>\n",
       "      <td>sheshnath</td>\n",
       "      <td>bhandari</td>\n",
       "    </tr>\n",
       "    <tr>\n",
       "      <th>3</th>\n",
       "      <td>su@gmail.com</td>\n",
       "      <td>sunil bhandar</td>\n",
       "      <td>sunil</td>\n",
       "      <td>bhandar</td>\n",
       "    </tr>\n",
       "    <tr>\n",
       "      <th>4</th>\n",
       "      <td>m@gmail.com</td>\n",
       "      <td>NaN</td>\n",
       "      <td>Mice</td>\n",
       "      <td>Trump</td>\n",
       "    </tr>\n",
       "    <tr>\n",
       "      <th>5</th>\n",
       "      <td>J@gmail.com</td>\n",
       "      <td>NaN</td>\n",
       "      <td>Jerry</td>\n",
       "      <td>Hennry</td>\n",
       "    </tr>\n",
       "  </tbody>\n",
       "</table>\n",
       "</div>"
      ],
      "text/plain": [
       "          email           Full_name      first      last\n",
       "0  lx@gmail.com      laxmi bhandari      laxmi  bhandari\n",
       "1  ma@gmail.com     mahesh bhandari     mahesh  bhandari\n",
       "2  sh@gmail.com  sheshnath bhandari  sheshnath  bhandari\n",
       "3  su@gmail.com       sunil bhandar      sunil   bhandar\n",
       "4   m@gmail.com                 NaN       Mice     Trump\n",
       "5   J@gmail.com                 NaN      Jerry    Hennry"
      ]
     },
     "execution_count": 128,
     "metadata": {},
     "output_type": "execute_result"
    }
   ],
   "source": [
    "df"
   ]
  },
  {
   "cell_type": "code",
   "execution_count": 129,
   "id": "4be18752",
   "metadata": {},
   "outputs": [],
   "source": [
    "#Removinf the rows\n",
    "#drop is used to remove the rows"
   ]
  },
  {
   "cell_type": "code",
   "execution_count": 130,
   "id": "f08921f3",
   "metadata": {},
   "outputs": [],
   "source": [
    "#df.drop(index=5)"
   ]
  },
  {
   "cell_type": "code",
   "execution_count": 133,
   "id": "613173c2",
   "metadata": {},
   "outputs": [],
   "source": [
    "#SORTING DATA\n"
   ]
  },
  {
   "cell_type": "raw",
   "id": "02898957",
   "metadata": {},
   "source": [
    "df.sort_value(by='last')"
   ]
  },
  {
   "cell_type": "code",
   "execution_count": 134,
   "id": "a119ab45",
   "metadata": {
    "scrolled": true
   },
   "outputs": [
    {
     "data": {
      "text/html": [
       "<div>\n",
       "<style scoped>\n",
       "    .dataframe tbody tr th:only-of-type {\n",
       "        vertical-align: middle;\n",
       "    }\n",
       "\n",
       "    .dataframe tbody tr th {\n",
       "        vertical-align: top;\n",
       "    }\n",
       "\n",
       "    .dataframe thead th {\n",
       "        text-align: right;\n",
       "    }\n",
       "</style>\n",
       "<table border=\"1\" class=\"dataframe\">\n",
       "  <thead>\n",
       "    <tr style=\"text-align: right;\">\n",
       "      <th></th>\n",
       "      <th>email</th>\n",
       "      <th>Full_name</th>\n",
       "      <th>first</th>\n",
       "      <th>last</th>\n",
       "    </tr>\n",
       "  </thead>\n",
       "  <tbody>\n",
       "    <tr>\n",
       "      <th>0</th>\n",
       "      <td>lx@gmail.com</td>\n",
       "      <td>laxmi bhandari</td>\n",
       "      <td>laxmi</td>\n",
       "      <td>bhandari</td>\n",
       "    </tr>\n",
       "    <tr>\n",
       "      <th>1</th>\n",
       "      <td>ma@gmail.com</td>\n",
       "      <td>mahesh bhandari</td>\n",
       "      <td>mahesh</td>\n",
       "      <td>bhandari</td>\n",
       "    </tr>\n",
       "    <tr>\n",
       "      <th>2</th>\n",
       "      <td>sh@gmail.com</td>\n",
       "      <td>sheshnath bhandari</td>\n",
       "      <td>sheshnath</td>\n",
       "      <td>bhandari</td>\n",
       "    </tr>\n",
       "    <tr>\n",
       "      <th>3</th>\n",
       "      <td>su@gmail.com</td>\n",
       "      <td>sunil bhandar</td>\n",
       "      <td>sunil</td>\n",
       "      <td>bhandar</td>\n",
       "    </tr>\n",
       "    <tr>\n",
       "      <th>4</th>\n",
       "      <td>m@gmail.com</td>\n",
       "      <td>NaN</td>\n",
       "      <td>Mice</td>\n",
       "      <td>Trump</td>\n",
       "    </tr>\n",
       "    <tr>\n",
       "      <th>5</th>\n",
       "      <td>J@gmail.com</td>\n",
       "      <td>NaN</td>\n",
       "      <td>Jerry</td>\n",
       "      <td>Hennry</td>\n",
       "    </tr>\n",
       "  </tbody>\n",
       "</table>\n",
       "</div>"
      ],
      "text/plain": [
       "          email           Full_name      first      last\n",
       "0  lx@gmail.com      laxmi bhandari      laxmi  bhandari\n",
       "1  ma@gmail.com     mahesh bhandari     mahesh  bhandari\n",
       "2  sh@gmail.com  sheshnath bhandari  sheshnath  bhandari\n",
       "3  su@gmail.com       sunil bhandar      sunil   bhandar\n",
       "4   m@gmail.com                 NaN       Mice     Trump\n",
       "5   J@gmail.com                 NaN      Jerry    Hennry"
      ]
     },
     "execution_count": 134,
     "metadata": {},
     "output_type": "execute_result"
    }
   ],
   "source": [
    "df"
   ]
  },
  {
   "cell_type": "code",
   "execution_count": 135,
   "id": "9c76a47a",
   "metadata": {},
   "outputs": [],
   "source": [
    "#sorting the according to the need that may be assending or deacending"
   ]
  },
  {
   "cell_type": "code",
   "execution_count": 141,
   "id": "88cee60d",
   "metadata": {},
   "outputs": [
    {
     "data": {
      "text/html": [
       "<div>\n",
       "<style scoped>\n",
       "    .dataframe tbody tr th:only-of-type {\n",
       "        vertical-align: middle;\n",
       "    }\n",
       "\n",
       "    .dataframe tbody tr th {\n",
       "        vertical-align: top;\n",
       "    }\n",
       "\n",
       "    .dataframe thead th {\n",
       "        text-align: right;\n",
       "    }\n",
       "</style>\n",
       "<table border=\"1\" class=\"dataframe\">\n",
       "  <thead>\n",
       "    <tr style=\"text-align: right;\">\n",
       "      <th></th>\n",
       "      <th>email</th>\n",
       "      <th>Full_name</th>\n",
       "      <th>first</th>\n",
       "      <th>last</th>\n",
       "    </tr>\n",
       "  </thead>\n",
       "  <tbody>\n",
       "    <tr>\n",
       "      <th>5</th>\n",
       "      <td>J@gmail.com</td>\n",
       "      <td>NaN</td>\n",
       "      <td>Jerry</td>\n",
       "      <td>Hennry</td>\n",
       "    </tr>\n",
       "    <tr>\n",
       "      <th>4</th>\n",
       "      <td>m@gmail.com</td>\n",
       "      <td>NaN</td>\n",
       "      <td>Mice</td>\n",
       "      <td>Trump</td>\n",
       "    </tr>\n",
       "    <tr>\n",
       "      <th>3</th>\n",
       "      <td>su@gmail.com</td>\n",
       "      <td>sunil bhandar</td>\n",
       "      <td>sunil</td>\n",
       "      <td>bhandar</td>\n",
       "    </tr>\n",
       "    <tr>\n",
       "      <th>0</th>\n",
       "      <td>lx@gmail.com</td>\n",
       "      <td>laxmi bhandari</td>\n",
       "      <td>laxmi</td>\n",
       "      <td>bhandari</td>\n",
       "    </tr>\n",
       "    <tr>\n",
       "      <th>1</th>\n",
       "      <td>ma@gmail.com</td>\n",
       "      <td>mahesh bhandari</td>\n",
       "      <td>mahesh</td>\n",
       "      <td>bhandari</td>\n",
       "    </tr>\n",
       "    <tr>\n",
       "      <th>2</th>\n",
       "      <td>sh@gmail.com</td>\n",
       "      <td>sheshnath bhandari</td>\n",
       "      <td>sheshnath</td>\n",
       "      <td>bhandari</td>\n",
       "    </tr>\n",
       "  </tbody>\n",
       "</table>\n",
       "</div>"
      ],
      "text/plain": [
       "          email           Full_name      first      last\n",
       "5   J@gmail.com                 NaN      Jerry    Hennry\n",
       "4   m@gmail.com                 NaN       Mice     Trump\n",
       "3  su@gmail.com       sunil bhandar      sunil   bhandar\n",
       "0  lx@gmail.com      laxmi bhandari      laxmi  bhandari\n",
       "1  ma@gmail.com     mahesh bhandari     mahesh  bhandari\n",
       "2  sh@gmail.com  sheshnath bhandari  sheshnath  bhandari"
      ]
     },
     "execution_count": 141,
     "metadata": {},
     "output_type": "execute_result"
    }
   ],
   "source": [
    "df.sort_values(by='last',ascending=True)"
   ]
  },
  {
   "cell_type": "code",
   "execution_count": 142,
   "id": "03331a1f",
   "metadata": {},
   "outputs": [],
   "source": [
    "#sorting in multiple columns"
   ]
  },
  {
   "cell_type": "code",
   "execution_count": 144,
   "id": "03278ae5",
   "metadata": {},
   "outputs": [
    {
     "data": {
      "text/html": [
       "<div>\n",
       "<style scoped>\n",
       "    .dataframe tbody tr th:only-of-type {\n",
       "        vertical-align: middle;\n",
       "    }\n",
       "\n",
       "    .dataframe tbody tr th {\n",
       "        vertical-align: top;\n",
       "    }\n",
       "\n",
       "    .dataframe thead th {\n",
       "        text-align: right;\n",
       "    }\n",
       "</style>\n",
       "<table border=\"1\" class=\"dataframe\">\n",
       "  <thead>\n",
       "    <tr style=\"text-align: right;\">\n",
       "      <th></th>\n",
       "      <th>email</th>\n",
       "      <th>Full_name</th>\n",
       "      <th>first</th>\n",
       "      <th>last</th>\n",
       "    </tr>\n",
       "  </thead>\n",
       "  <tbody>\n",
       "    <tr>\n",
       "      <th>2</th>\n",
       "      <td>sh@gmail.com</td>\n",
       "      <td>sheshnath bhandari</td>\n",
       "      <td>sheshnath</td>\n",
       "      <td>bhandari</td>\n",
       "    </tr>\n",
       "    <tr>\n",
       "      <th>1</th>\n",
       "      <td>ma@gmail.com</td>\n",
       "      <td>mahesh bhandari</td>\n",
       "      <td>mahesh</td>\n",
       "      <td>bhandari</td>\n",
       "    </tr>\n",
       "    <tr>\n",
       "      <th>0</th>\n",
       "      <td>lx@gmail.com</td>\n",
       "      <td>laxmi bhandari</td>\n",
       "      <td>laxmi</td>\n",
       "      <td>bhandari</td>\n",
       "    </tr>\n",
       "    <tr>\n",
       "      <th>3</th>\n",
       "      <td>su@gmail.com</td>\n",
       "      <td>sunil bhandar</td>\n",
       "      <td>sunil</td>\n",
       "      <td>bhandar</td>\n",
       "    </tr>\n",
       "    <tr>\n",
       "      <th>4</th>\n",
       "      <td>m@gmail.com</td>\n",
       "      <td>NaN</td>\n",
       "      <td>Mice</td>\n",
       "      <td>Trump</td>\n",
       "    </tr>\n",
       "    <tr>\n",
       "      <th>5</th>\n",
       "      <td>J@gmail.com</td>\n",
       "      <td>NaN</td>\n",
       "      <td>Jerry</td>\n",
       "      <td>Hennry</td>\n",
       "    </tr>\n",
       "  </tbody>\n",
       "</table>\n",
       "</div>"
      ],
      "text/plain": [
       "          email           Full_name      first      last\n",
       "2  sh@gmail.com  sheshnath bhandari  sheshnath  bhandari\n",
       "1  ma@gmail.com     mahesh bhandari     mahesh  bhandari\n",
       "0  lx@gmail.com      laxmi bhandari      laxmi  bhandari\n",
       "3  su@gmail.com       sunil bhandar      sunil   bhandar\n",
       "4   m@gmail.com                 NaN       Mice     Trump\n",
       "5   J@gmail.com                 NaN      Jerry    Hennry"
      ]
     },
     "execution_count": 144,
     "metadata": {},
     "output_type": "execute_result"
    }
   ],
   "source": [
    "df.sort_values(by=['last','first'],ascending=False)"
   ]
  },
  {
   "cell_type": "code",
   "execution_count": 145,
   "id": "670f9db8",
   "metadata": {},
   "outputs": [],
   "source": [
    "#sorting in multiple columns on in ascending order and other in descending order or vice-verca"
   ]
  },
  {
   "cell_type": "code",
   "execution_count": 147,
   "id": "858f2d7c",
   "metadata": {},
   "outputs": [
    {
     "data": {
      "text/html": [
       "<div>\n",
       "<style scoped>\n",
       "    .dataframe tbody tr th:only-of-type {\n",
       "        vertical-align: middle;\n",
       "    }\n",
       "\n",
       "    .dataframe tbody tr th {\n",
       "        vertical-align: top;\n",
       "    }\n",
       "\n",
       "    .dataframe thead th {\n",
       "        text-align: right;\n",
       "    }\n",
       "</style>\n",
       "<table border=\"1\" class=\"dataframe\">\n",
       "  <thead>\n",
       "    <tr style=\"text-align: right;\">\n",
       "      <th></th>\n",
       "      <th>email</th>\n",
       "      <th>Full_name</th>\n",
       "      <th>first</th>\n",
       "      <th>last</th>\n",
       "    </tr>\n",
       "  </thead>\n",
       "  <tbody>\n",
       "    <tr>\n",
       "      <th>5</th>\n",
       "      <td>J@gmail.com</td>\n",
       "      <td>NaN</td>\n",
       "      <td>Jerry</td>\n",
       "      <td>Hennry</td>\n",
       "    </tr>\n",
       "    <tr>\n",
       "      <th>4</th>\n",
       "      <td>m@gmail.com</td>\n",
       "      <td>NaN</td>\n",
       "      <td>Mice</td>\n",
       "      <td>Trump</td>\n",
       "    </tr>\n",
       "    <tr>\n",
       "      <th>3</th>\n",
       "      <td>su@gmail.com</td>\n",
       "      <td>sunil bhandar</td>\n",
       "      <td>sunil</td>\n",
       "      <td>bhandar</td>\n",
       "    </tr>\n",
       "    <tr>\n",
       "      <th>2</th>\n",
       "      <td>sh@gmail.com</td>\n",
       "      <td>sheshnath bhandari</td>\n",
       "      <td>sheshnath</td>\n",
       "      <td>bhandari</td>\n",
       "    </tr>\n",
       "    <tr>\n",
       "      <th>1</th>\n",
       "      <td>ma@gmail.com</td>\n",
       "      <td>mahesh bhandari</td>\n",
       "      <td>mahesh</td>\n",
       "      <td>bhandari</td>\n",
       "    </tr>\n",
       "    <tr>\n",
       "      <th>0</th>\n",
       "      <td>lx@gmail.com</td>\n",
       "      <td>laxmi bhandari</td>\n",
       "      <td>laxmi</td>\n",
       "      <td>bhandari</td>\n",
       "    </tr>\n",
       "  </tbody>\n",
       "</table>\n",
       "</div>"
      ],
      "text/plain": [
       "          email           Full_name      first      last\n",
       "5   J@gmail.com                 NaN      Jerry    Hennry\n",
       "4   m@gmail.com                 NaN       Mice     Trump\n",
       "3  su@gmail.com       sunil bhandar      sunil   bhandar\n",
       "2  sh@gmail.com  sheshnath bhandari  sheshnath  bhandari\n",
       "1  ma@gmail.com     mahesh bhandari     mahesh  bhandari\n",
       "0  lx@gmail.com      laxmi bhandari      laxmi  bhandari"
      ]
     },
     "execution_count": 147,
     "metadata": {},
     "output_type": "execute_result"
    }
   ],
   "source": [
    "df.sort_values(by=['last','first'],ascending=[True,False])"
   ]
  },
  {
   "cell_type": "code",
   "execution_count": 148,
   "id": "d4cb12d4",
   "metadata": {},
   "outputs": [
    {
     "data": {
      "text/html": [
       "<div>\n",
       "<style scoped>\n",
       "    .dataframe tbody tr th:only-of-type {\n",
       "        vertical-align: middle;\n",
       "    }\n",
       "\n",
       "    .dataframe tbody tr th {\n",
       "        vertical-align: top;\n",
       "    }\n",
       "\n",
       "    .dataframe thead th {\n",
       "        text-align: right;\n",
       "    }\n",
       "</style>\n",
       "<table border=\"1\" class=\"dataframe\">\n",
       "  <thead>\n",
       "    <tr style=\"text-align: right;\">\n",
       "      <th></th>\n",
       "      <th>email</th>\n",
       "      <th>Full_name</th>\n",
       "      <th>first</th>\n",
       "      <th>last</th>\n",
       "    </tr>\n",
       "  </thead>\n",
       "  <tbody>\n",
       "    <tr>\n",
       "      <th>0</th>\n",
       "      <td>lx@gmail.com</td>\n",
       "      <td>laxmi bhandari</td>\n",
       "      <td>laxmi</td>\n",
       "      <td>bhandari</td>\n",
       "    </tr>\n",
       "    <tr>\n",
       "      <th>1</th>\n",
       "      <td>ma@gmail.com</td>\n",
       "      <td>mahesh bhandari</td>\n",
       "      <td>mahesh</td>\n",
       "      <td>bhandari</td>\n",
       "    </tr>\n",
       "    <tr>\n",
       "      <th>2</th>\n",
       "      <td>sh@gmail.com</td>\n",
       "      <td>sheshnath bhandari</td>\n",
       "      <td>sheshnath</td>\n",
       "      <td>bhandari</td>\n",
       "    </tr>\n",
       "    <tr>\n",
       "      <th>3</th>\n",
       "      <td>su@gmail.com</td>\n",
       "      <td>sunil bhandar</td>\n",
       "      <td>sunil</td>\n",
       "      <td>bhandar</td>\n",
       "    </tr>\n",
       "    <tr>\n",
       "      <th>4</th>\n",
       "      <td>m@gmail.com</td>\n",
       "      <td>NaN</td>\n",
       "      <td>Mice</td>\n",
       "      <td>Trump</td>\n",
       "    </tr>\n",
       "    <tr>\n",
       "      <th>5</th>\n",
       "      <td>J@gmail.com</td>\n",
       "      <td>NaN</td>\n",
       "      <td>Jerry</td>\n",
       "      <td>Hennry</td>\n",
       "    </tr>\n",
       "  </tbody>\n",
       "</table>\n",
       "</div>"
      ],
      "text/plain": [
       "          email           Full_name      first      last\n",
       "0  lx@gmail.com      laxmi bhandari      laxmi  bhandari\n",
       "1  ma@gmail.com     mahesh bhandari     mahesh  bhandari\n",
       "2  sh@gmail.com  sheshnath bhandari  sheshnath  bhandari\n",
       "3  su@gmail.com       sunil bhandar      sunil   bhandar\n",
       "4   m@gmail.com                 NaN       Mice     Trump\n",
       "5   J@gmail.com                 NaN      Jerry    Hennry"
      ]
     },
     "execution_count": 148,
     "metadata": {},
     "output_type": "execute_result"
    }
   ],
   "source": [
    "df.sort_index()"
   ]
  },
  {
   "cell_type": "code",
   "execution_count": null,
   "id": "d8d55931",
   "metadata": {},
   "outputs": [],
   "source": []
  }
 ],
 "metadata": {
  "kernelspec": {
   "display_name": "Python 3 (ipykernel)",
   "language": "python",
   "name": "python3"
  },
  "language_info": {
   "codemirror_mode": {
    "name": "ipython",
    "version": 3
   },
   "file_extension": ".py",
   "mimetype": "text/x-python",
   "name": "python",
   "nbconvert_exporter": "python",
   "pygments_lexer": "ipython3",
   "version": "3.9.13"
  }
 },
 "nbformat": 4,
 "nbformat_minor": 5
}
